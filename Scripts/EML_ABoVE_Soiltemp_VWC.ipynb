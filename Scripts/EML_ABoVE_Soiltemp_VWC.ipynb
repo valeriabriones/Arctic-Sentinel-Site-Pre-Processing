{
 "cells": [
  {
   "cell_type": "code",
   "execution_count": 4,
   "id": "016b5dfc",
   "metadata": {},
   "outputs": [],
   "source": [
    "import pandas as pd\n",
    "import requests\n",
    "import csv"
   ]
  },
  {
   "cell_type": "markdown",
   "id": "5cbafc00",
   "metadata": {},
   "source": [
    "Import Soil Moisture and Volunmtetric Water Content Dataset from ABoVE\n",
    "Things to look out for: \n",
    "    converting -9999 values to NaNs\n",
    "    standardizing format of dates to Year-month-day and include year and DOY columns if not present\n",
    "    check variable values by plotting"
   ]
  },
  {
   "cell_type": "code",
   "execution_count": 13,
   "id": "4767c31c",
   "metadata": {},
   "outputs": [],
   "source": [
    "emlabv=pd.read_csv(r'C:\\Users\\vbriones\\Desktop\\Sentinel_Site_Data\\AK\\EML\\AK_EML_ABoVE_SoilTemp_VWC_15cm.csv'\n",
    "            ,sep=\",\"  \n",
    "                   ,na_values={'-9999','NaN'} \n",
    "            \n",
    "    )"
   ]
  },
  {
   "cell_type": "code",
   "execution_count": 14,
   "id": "76b15b25",
   "metadata": {
    "scrolled": true
   },
   "outputs": [
    {
     "data": {
      "text/html": [
       "<div>\n",
       "<style scoped>\n",
       "    .dataframe tbody tr th:only-of-type {\n",
       "        vertical-align: middle;\n",
       "    }\n",
       "\n",
       "    .dataframe tbody tr th {\n",
       "        vertical-align: top;\n",
       "    }\n",
       "\n",
       "    .dataframe thead th {\n",
       "        text-align: right;\n",
       "    }\n",
       "</style>\n",
       "<table border=\"1\" class=\"dataframe\">\n",
       "  <thead>\n",
       "    <tr style=\"text-align: right;\">\n",
       "      <th></th>\n",
       "      <th>latitude</th>\n",
       "      <th>longitude</th>\n",
       "      <th>start_time</th>\n",
       "      <th>soil_temp_15cm_01</th>\n",
       "      <th>soil_temp_15cm_02</th>\n",
       "      <th>vwc_15cm_raw_01</th>\n",
       "      <th>vwc_15cm_raw_02</th>\n",
       "      <th>vwc_15cm_cali_01</th>\n",
       "      <th>vwc_15cm_cali_02</th>\n",
       "      <th>vwc_15cm_raw_filt_01</th>\n",
       "      <th>vwc_15cm_raw_filt_02</th>\n",
       "      <th>vwc_15cm_cali_filt_01</th>\n",
       "      <th>vwc_15cm_cali_filt_02</th>\n",
       "    </tr>\n",
       "  </thead>\n",
       "  <tbody>\n",
       "    <tr>\n",
       "      <th>0</th>\n",
       "      <td>63.880123</td>\n",
       "      <td>-149.256008</td>\n",
       "      <td>2016-08-11 15:00</td>\n",
       "      <td>5.154</td>\n",
       "      <td>5.719</td>\n",
       "      <td>0.5274</td>\n",
       "      <td>0.4222</td>\n",
       "      <td>0.5574</td>\n",
       "      <td>0.1979</td>\n",
       "      <td>NaN</td>\n",
       "      <td>NaN</td>\n",
       "      <td>NaN</td>\n",
       "      <td>NaN</td>\n",
       "    </tr>\n",
       "    <tr>\n",
       "      <th>1</th>\n",
       "      <td>63.880123</td>\n",
       "      <td>-149.256008</td>\n",
       "      <td>2016-08-11 16:00</td>\n",
       "      <td>5.282</td>\n",
       "      <td>5.719</td>\n",
       "      <td>0.5290</td>\n",
       "      <td>0.4121</td>\n",
       "      <td>0.5663</td>\n",
       "      <td>0.1792</td>\n",
       "      <td>NaN</td>\n",
       "      <td>NaN</td>\n",
       "      <td>NaN</td>\n",
       "      <td>NaN</td>\n",
       "    </tr>\n",
       "    <tr>\n",
       "      <th>2</th>\n",
       "      <td>63.880123</td>\n",
       "      <td>-149.256008</td>\n",
       "      <td>2016-08-11 17:00</td>\n",
       "      <td>5.437</td>\n",
       "      <td>5.719</td>\n",
       "      <td>0.5282</td>\n",
       "      <td>0.4128</td>\n",
       "      <td>0.5618</td>\n",
       "      <td>0.1804</td>\n",
       "      <td>NaN</td>\n",
       "      <td>NaN</td>\n",
       "      <td>NaN</td>\n",
       "      <td>NaN</td>\n",
       "    </tr>\n",
       "    <tr>\n",
       "      <th>3</th>\n",
       "      <td>63.880123</td>\n",
       "      <td>-149.256008</td>\n",
       "      <td>2016-08-11 18:00</td>\n",
       "      <td>5.591</td>\n",
       "      <td>5.745</td>\n",
       "      <td>0.5300</td>\n",
       "      <td>0.4128</td>\n",
       "      <td>0.5719</td>\n",
       "      <td>0.1804</td>\n",
       "      <td>NaN</td>\n",
       "      <td>NaN</td>\n",
       "      <td>NaN</td>\n",
       "      <td>NaN</td>\n",
       "    </tr>\n",
       "    <tr>\n",
       "      <th>4</th>\n",
       "      <td>63.880123</td>\n",
       "      <td>-149.256008</td>\n",
       "      <td>2016-08-11 19:00</td>\n",
       "      <td>5.719</td>\n",
       "      <td>5.796</td>\n",
       "      <td>0.5290</td>\n",
       "      <td>0.4128</td>\n",
       "      <td>0.5663</td>\n",
       "      <td>0.1804</td>\n",
       "      <td>NaN</td>\n",
       "      <td>NaN</td>\n",
       "      <td>NaN</td>\n",
       "      <td>NaN</td>\n",
       "    </tr>\n",
       "  </tbody>\n",
       "</table>\n",
       "</div>"
      ],
      "text/plain": [
       "    latitude   longitude        start_time  soil_temp_15cm_01  \\\n",
       "0  63.880123 -149.256008  2016-08-11 15:00              5.154   \n",
       "1  63.880123 -149.256008  2016-08-11 16:00              5.282   \n",
       "2  63.880123 -149.256008  2016-08-11 17:00              5.437   \n",
       "3  63.880123 -149.256008  2016-08-11 18:00              5.591   \n",
       "4  63.880123 -149.256008  2016-08-11 19:00              5.719   \n",
       "\n",
       "   soil_temp_15cm_02  vwc_15cm_raw_01  vwc_15cm_raw_02  vwc_15cm_cali_01  \\\n",
       "0              5.719           0.5274           0.4222            0.5574   \n",
       "1              5.719           0.5290           0.4121            0.5663   \n",
       "2              5.719           0.5282           0.4128            0.5618   \n",
       "3              5.745           0.5300           0.4128            0.5719   \n",
       "4              5.796           0.5290           0.4128            0.5663   \n",
       "\n",
       "   vwc_15cm_cali_02  vwc_15cm_raw_filt_01  vwc_15cm_raw_filt_02  \\\n",
       "0            0.1979                   NaN                   NaN   \n",
       "1            0.1792                   NaN                   NaN   \n",
       "2            0.1804                   NaN                   NaN   \n",
       "3            0.1804                   NaN                   NaN   \n",
       "4            0.1804                   NaN                   NaN   \n",
       "\n",
       "   vwc_15cm_cali_filt_01  vwc_15cm_cali_filt_02  \n",
       "0                    NaN                    NaN  \n",
       "1                    NaN                    NaN  \n",
       "2                    NaN                    NaN  \n",
       "3                    NaN                    NaN  \n",
       "4                    NaN                    NaN  "
      ]
     },
     "execution_count": 14,
     "metadata": {},
     "output_type": "execute_result"
    }
   ],
   "source": [
    "emlabv.head()"
   ]
  },
  {
   "cell_type": "markdown",
   "id": "b93eff7a",
   "metadata": {},
   "source": [
    "Convert date to datetime and extract day of year and year from date"
   ]
  },
  {
   "cell_type": "code",
   "execution_count": 27,
   "id": "e1b82f4d",
   "metadata": {},
   "outputs": [],
   "source": [
    "emlabv=emlabv.rename(columns={'start_time':'date'})\n",
    "emlabv['date']=pd.to_datetime(emlabv['date'])\n",
    "emlabv[\"doy\"]=emlabv['date'].dt.dayofyear\n",
    "emlabv[\"year\"]=emlabv['date'].dt.year"
   ]
  },
  {
   "cell_type": "markdown",
   "id": "beab3d0f",
   "metadata": {},
   "source": [
    "View new header columns"
   ]
  },
  {
   "cell_type": "code",
   "execution_count": 28,
   "id": "1d9bc395",
   "metadata": {},
   "outputs": [
    {
     "data": {
      "text/html": [
       "<div>\n",
       "<style scoped>\n",
       "    .dataframe tbody tr th:only-of-type {\n",
       "        vertical-align: middle;\n",
       "    }\n",
       "\n",
       "    .dataframe tbody tr th {\n",
       "        vertical-align: top;\n",
       "    }\n",
       "\n",
       "    .dataframe thead th {\n",
       "        text-align: right;\n",
       "    }\n",
       "</style>\n",
       "<table border=\"1\" class=\"dataframe\">\n",
       "  <thead>\n",
       "    <tr style=\"text-align: right;\">\n",
       "      <th></th>\n",
       "      <th>latitude</th>\n",
       "      <th>longitude</th>\n",
       "      <th>date</th>\n",
       "      <th>soil_temp_15cm_01</th>\n",
       "      <th>soil_temp_15cm_02</th>\n",
       "      <th>vwc_15cm_raw_01</th>\n",
       "      <th>vwc_15cm_raw_02</th>\n",
       "      <th>vwc_15cm_cali_01</th>\n",
       "      <th>vwc_15cm_cali_02</th>\n",
       "      <th>vwc_15cm_raw_filt_01</th>\n",
       "      <th>vwc_15cm_raw_filt_02</th>\n",
       "      <th>vwc_15cm_cali_filt_01</th>\n",
       "      <th>vwc_15cm_cali_filt_02</th>\n",
       "      <th>doy</th>\n",
       "      <th>year</th>\n",
       "    </tr>\n",
       "  </thead>\n",
       "  <tbody>\n",
       "    <tr>\n",
       "      <th>0</th>\n",
       "      <td>63.880123</td>\n",
       "      <td>-149.256008</td>\n",
       "      <td>2016-08-11 15:00:00</td>\n",
       "      <td>5.154</td>\n",
       "      <td>5.719</td>\n",
       "      <td>0.5274</td>\n",
       "      <td>0.4222</td>\n",
       "      <td>0.5574</td>\n",
       "      <td>0.1979</td>\n",
       "      <td>NaN</td>\n",
       "      <td>NaN</td>\n",
       "      <td>NaN</td>\n",
       "      <td>NaN</td>\n",
       "      <td>224</td>\n",
       "      <td>2016</td>\n",
       "    </tr>\n",
       "    <tr>\n",
       "      <th>1</th>\n",
       "      <td>63.880123</td>\n",
       "      <td>-149.256008</td>\n",
       "      <td>2016-08-11 16:00:00</td>\n",
       "      <td>5.282</td>\n",
       "      <td>5.719</td>\n",
       "      <td>0.5290</td>\n",
       "      <td>0.4121</td>\n",
       "      <td>0.5663</td>\n",
       "      <td>0.1792</td>\n",
       "      <td>NaN</td>\n",
       "      <td>NaN</td>\n",
       "      <td>NaN</td>\n",
       "      <td>NaN</td>\n",
       "      <td>224</td>\n",
       "      <td>2016</td>\n",
       "    </tr>\n",
       "    <tr>\n",
       "      <th>2</th>\n",
       "      <td>63.880123</td>\n",
       "      <td>-149.256008</td>\n",
       "      <td>2016-08-11 17:00:00</td>\n",
       "      <td>5.437</td>\n",
       "      <td>5.719</td>\n",
       "      <td>0.5282</td>\n",
       "      <td>0.4128</td>\n",
       "      <td>0.5618</td>\n",
       "      <td>0.1804</td>\n",
       "      <td>NaN</td>\n",
       "      <td>NaN</td>\n",
       "      <td>NaN</td>\n",
       "      <td>NaN</td>\n",
       "      <td>224</td>\n",
       "      <td>2016</td>\n",
       "    </tr>\n",
       "    <tr>\n",
       "      <th>3</th>\n",
       "      <td>63.880123</td>\n",
       "      <td>-149.256008</td>\n",
       "      <td>2016-08-11 18:00:00</td>\n",
       "      <td>5.591</td>\n",
       "      <td>5.745</td>\n",
       "      <td>0.5300</td>\n",
       "      <td>0.4128</td>\n",
       "      <td>0.5719</td>\n",
       "      <td>0.1804</td>\n",
       "      <td>NaN</td>\n",
       "      <td>NaN</td>\n",
       "      <td>NaN</td>\n",
       "      <td>NaN</td>\n",
       "      <td>224</td>\n",
       "      <td>2016</td>\n",
       "    </tr>\n",
       "    <tr>\n",
       "      <th>4</th>\n",
       "      <td>63.880123</td>\n",
       "      <td>-149.256008</td>\n",
       "      <td>2016-08-11 19:00:00</td>\n",
       "      <td>5.719</td>\n",
       "      <td>5.796</td>\n",
       "      <td>0.5290</td>\n",
       "      <td>0.4128</td>\n",
       "      <td>0.5663</td>\n",
       "      <td>0.1804</td>\n",
       "      <td>NaN</td>\n",
       "      <td>NaN</td>\n",
       "      <td>NaN</td>\n",
       "      <td>NaN</td>\n",
       "      <td>224</td>\n",
       "      <td>2016</td>\n",
       "    </tr>\n",
       "  </tbody>\n",
       "</table>\n",
       "</div>"
      ],
      "text/plain": [
       "    latitude   longitude                date  soil_temp_15cm_01  \\\n",
       "0  63.880123 -149.256008 2016-08-11 15:00:00              5.154   \n",
       "1  63.880123 -149.256008 2016-08-11 16:00:00              5.282   \n",
       "2  63.880123 -149.256008 2016-08-11 17:00:00              5.437   \n",
       "3  63.880123 -149.256008 2016-08-11 18:00:00              5.591   \n",
       "4  63.880123 -149.256008 2016-08-11 19:00:00              5.719   \n",
       "\n",
       "   soil_temp_15cm_02  vwc_15cm_raw_01  vwc_15cm_raw_02  vwc_15cm_cali_01  \\\n",
       "0              5.719           0.5274           0.4222            0.5574   \n",
       "1              5.719           0.5290           0.4121            0.5663   \n",
       "2              5.719           0.5282           0.4128            0.5618   \n",
       "3              5.745           0.5300           0.4128            0.5719   \n",
       "4              5.796           0.5290           0.4128            0.5663   \n",
       "\n",
       "   vwc_15cm_cali_02  vwc_15cm_raw_filt_01  vwc_15cm_raw_filt_02  \\\n",
       "0            0.1979                   NaN                   NaN   \n",
       "1            0.1792                   NaN                   NaN   \n",
       "2            0.1804                   NaN                   NaN   \n",
       "3            0.1804                   NaN                   NaN   \n",
       "4            0.1804                   NaN                   NaN   \n",
       "\n",
       "   vwc_15cm_cali_filt_01  vwc_15cm_cali_filt_02  doy  year  \n",
       "0                    NaN                    NaN  224  2016  \n",
       "1                    NaN                    NaN  224  2016  \n",
       "2                    NaN                    NaN  224  2016  \n",
       "3                    NaN                    NaN  224  2016  \n",
       "4                    NaN                    NaN  224  2016  "
      ]
     },
     "execution_count": 28,
     "metadata": {},
     "output_type": "execute_result"
    }
   ],
   "source": [
    "emlabv.head()"
   ]
  },
  {
   "cell_type": "markdown",
   "id": "9f6d318d",
   "metadata": {},
   "source": [
    "View date range of dataset"
   ]
  },
  {
   "cell_type": "code",
   "execution_count": 29,
   "id": "b59fcd6b",
   "metadata": {
    "scrolled": true
   },
   "outputs": [
    {
     "data": {
      "text/plain": [
       "Timestamp('2016-08-11 15:00:00')"
      ]
     },
     "execution_count": 29,
     "metadata": {},
     "output_type": "execute_result"
    }
   ],
   "source": [
    "emlabv['date'].min()"
   ]
  },
  {
   "cell_type": "code",
   "execution_count": 30,
   "id": "2bc16c27",
   "metadata": {},
   "outputs": [
    {
     "data": {
      "text/plain": [
       "Timestamp('2020-05-09 15:00:00')"
      ]
     },
     "execution_count": 30,
     "metadata": {},
     "output_type": "execute_result"
    }
   ],
   "source": [
    "emlabv['date'].max()"
   ]
  },
  {
   "cell_type": "markdown",
   "id": "16612949",
   "metadata": {},
   "source": [
    "Plot out various variables from dataset"
   ]
  },
  {
   "cell_type": "code",
   "execution_count": 17,
   "id": "cd57d957",
   "metadata": {
    "scrolled": true
   },
   "outputs": [
    {
     "data": {
      "text/plain": [
       "<AxesSubplot:>"
      ]
     },
     "execution_count": 17,
     "metadata": {},
     "output_type": "execute_result"
    },
    {
     "data": {
      "image/png": "[encoded data removed]",
      "text/plain": [
       "<Figure size 432x288 with 1 Axes>"
      ]
     },
     "metadata": {
      "needs_background": "light"
     },
     "output_type": "display_data"
    }
   ],
   "source": [
    "emlabv.soil_temp_15cm_01.plot()"
   ]
  },
  {
   "cell_type": "code",
   "execution_count": 18,
   "id": "a65f6220",
   "metadata": {
    "scrolled": true
   },
   "outputs": [
    {
     "data": {
      "text/plain": [
       "<AxesSubplot:>"
      ]
     },
     "execution_count": 18,
     "metadata": {},
     "output_type": "execute_result"
    },
    {
     "data": {
      "image/png": "[encoded data removed]",
      "text/plain": [
       "<Figure size 432x288 with 1 Axes>"
      ]
     },
     "metadata": {
      "needs_background": "light"
     },
     "output_type": "display_data"
    }
   ],
   "source": [
    "emlabv.soil_temp_15cm_02.plot()"
   ]
  },
  {
   "cell_type": "code",
   "execution_count": 19,
   "id": "3c6c8f5f",
   "metadata": {
    "scrolled": true
   },
   "outputs": [
    {
     "data": {
      "text/plain": [
       "<AxesSubplot:>"
      ]
     },
     "execution_count": 19,
     "metadata": {},
     "output_type": "execute_result"
    },
    {
     "data": {
      "image/png": "[encoded data removed]",
      "text/plain": [
       "<Figure size 432x288 with 1 Axes>"
      ]
     },
     "metadata": {
      "needs_background": "light"
     },
     "output_type": "display_data"
    }
   ],
   "source": [
    "emlabv.vwc_15cm_raw_01.plot()"
   ]
  },
  {
   "cell_type": "code",
   "execution_count": 20,
   "id": "3c45d698",
   "metadata": {
    "scrolled": true
   },
   "outputs": [
    {
     "data": {
      "text/plain": [
       "<AxesSubplot:>"
      ]
     },
     "execution_count": 20,
     "metadata": {},
     "output_type": "execute_result"
    },
    {
     "data": {
      "image/png": "[encoded data removed]",
      "text/plain": [
       "<Figure size 432x288 with 1 Axes>"
      ]
     },
     "metadata": {
      "needs_background": "light"
     },
     "output_type": "display_data"
    }
   ],
   "source": [
    "emlabv.vwc_15cm_raw_02.plot()"
   ]
  },
  {
   "cell_type": "code",
   "execution_count": 21,
   "id": "4be9f3e6",
   "metadata": {
    "scrolled": true
   },
   "outputs": [
    {
     "data": {
      "text/plain": [
       "count    32809.000000\n",
       "mean         0.310295\n",
       "std          0.131972\n",
       "min         -0.355000\n",
       "25%          0.197600\n",
       "50%          0.253800\n",
       "75%          0.420900\n",
       "max          0.601100\n",
       "Name: vwc_15cm_raw_02, dtype: float64"
      ]
     },
     "execution_count": 21,
     "metadata": {},
     "output_type": "execute_result"
    }
   ],
   "source": [
    "emlabv['vwc_15cm_raw_02'].describe()"
   ]
  },
  {
   "cell_type": "markdown",
   "id": "bc1581bf",
   "metadata": {},
   "source": [
    "Export revised dataset as csv when needed"
   ]
  },
  {
   "cell_type": "code",
   "execution_count": 31,
   "id": "550673d2",
   "metadata": {},
   "outputs": [],
   "source": [
    "#emlabv.to_csv('AK_EML_ABoVE_SoilTemp_VWC_2016_2020.csv')"
   ]
  }
 ],
 "metadata": {
  "kernelspec": {
   "display_name": "Python 3",
   "language": "python",
   "name": "python3"
  },
  "language_info": {
   "codemirror_mode": {
    "name": "ipython",
    "version": 3
   },
   "file_extension": ".py",
   "mimetype": "text/x-python",
   "name": "python",
   "nbconvert_exporter": "python",
   "pygments_lexer": "ipython3",
   "version": "3.8.8"
  }
 },
 "nbformat": 4,
 "nbformat_minor": 5
}
