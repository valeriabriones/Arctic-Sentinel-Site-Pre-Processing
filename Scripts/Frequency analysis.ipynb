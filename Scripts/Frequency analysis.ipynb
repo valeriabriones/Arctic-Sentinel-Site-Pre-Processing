{
 "cells": [
  {
   "cell_type": "markdown",
   "id": "49d7dbc2",
   "metadata": {},
   "source": [
    "## Frequency analysis of the temperature time-series\n",
    "\n",
    "1.Load AK_EML_LTER_GradientSoil_2004_2018.csv \\\n",
    "2.Create new dataframe with only temp.loc1_20_cm column \\\n",
    "3.Drop all the rows with NaNs \\\n",
    "4.Check the resultion of the measurement (if you see below it switches from every 2 hour to 30mins). Note: once you drop the rows make sure that shape of the array reduced \\\n",
    "5.Apply FFT (fast furier trasform analyze the spikes times) "
   ]
  },
  {
   "cell_type": "code",
   "execution_count": 1,
   "id": "38af7540",
   "metadata": {},
   "outputs": [],
   "source": [
    "import numpy as np\n",
    "import pandas as pd \n",
    "import datetime as dt\n",
    "import matplotlib.pyplot as plt\n",
    "%matplotlib inline"
   ]
  },
  {
   "cell_type": "code",
   "execution_count": 2,
   "id": "d304ba3e",
   "metadata": {},
   "outputs": [],
   "source": [
    "import quandl\n",
    "import dill\n",
    "import numpy as np\n",
    "import scipy as sp\n",
    "import pandas as pd\n",
    "import sklearn.linear_model\n",
    "import sklearn.metrics\n",
    "import matplotlib.pyplot as plt\n",
    "from ipywidgets import interact"
   ]
  },
  {
   "cell_type": "code",
   "execution_count": 3,
   "id": "4f9e662b",
   "metadata": {},
   "outputs": [],
   "source": [
    "df= pd.read_csv(\"AK_EML_LTER_GradientSoil_2004_2018.csv\")"
   ]
  },
  {
   "cell_type": "code",
   "execution_count": 4,
   "id": "ba7549c5",
   "metadata": {},
   "outputs": [
    {
     "name": "stdout",
     "output_type": "stream",
     "text": [
      "<class 'pandas.core.frame.DataFrame'>\n",
      "RangeIndex: 639943 entries, 0 to 639942\n",
      "Data columns (total 17 columns):\n",
      " #   Column      Non-Null Count   Dtype  \n",
      "---  ------      --------------   -----  \n",
      " 0   date        639943 non-null  object \n",
      " 1   site        639940 non-null  object \n",
      " 2   loc1_5cm    376472 non-null  float64\n",
      " 3   loc1_10_cm  492069 non-null  float64\n",
      " 4   loc1_20_cm  591699 non-null  float64\n",
      " 5   loc1_30cm   591781 non-null  float64\n",
      " 6   loc1_40cm   591333 non-null  float64\n",
      " 7   loc2_5cm    376131 non-null  float64\n",
      " 8   loc2_10cm   532834 non-null  float64\n",
      " 9   loc2_20cm   582805 non-null  float64\n",
      " 10  loc2_30cm   590696 non-null  float64\n",
      " 11  loc2_40cm   590446 non-null  float64\n",
      " 12  loc3_5cm    376465 non-null  float64\n",
      " 13  loc3_10cm   540782 non-null  float64\n",
      " 14  loc3_20cm   593440 non-null  float64\n",
      " 15  loc3_30cm   591758 non-null  float64\n",
      " 16  loc3_40cm   583357 non-null  float64\n",
      "dtypes: float64(15), object(2)\n",
      "memory usage: 83.0+ MB\n"
     ]
    }
   ],
   "source": [
    "df.info()"
   ]
  },
  {
   "cell_type": "code",
   "execution_count": 5,
   "id": "069791a2",
   "metadata": {},
   "outputs": [
    {
     "data": {
      "text/html": [
       "<div>\n",
       "<style scoped>\n",
       "    .dataframe tbody tr th:only-of-type {\n",
       "        vertical-align: middle;\n",
       "    }\n",
       "\n",
       "    .dataframe tbody tr th {\n",
       "        vertical-align: top;\n",
       "    }\n",
       "\n",
       "    .dataframe thead th {\n",
       "        text-align: right;\n",
       "    }\n",
       "</style>\n",
       "<table border=\"1\" class=\"dataframe\">\n",
       "  <thead>\n",
       "    <tr style=\"text-align: right;\">\n",
       "      <th></th>\n",
       "      <th>date</th>\n",
       "      <th>site</th>\n",
       "      <th>loc1_5cm</th>\n",
       "      <th>loc1_10_cm</th>\n",
       "      <th>loc1_20_cm</th>\n",
       "      <th>loc1_30cm</th>\n",
       "      <th>loc1_40cm</th>\n",
       "      <th>loc2_5cm</th>\n",
       "      <th>loc2_10cm</th>\n",
       "      <th>loc2_20cm</th>\n",
       "      <th>loc2_30cm</th>\n",
       "      <th>loc2_40cm</th>\n",
       "      <th>loc3_5cm</th>\n",
       "      <th>loc3_10cm</th>\n",
       "      <th>loc3_20cm</th>\n",
       "      <th>loc3_30cm</th>\n",
       "      <th>loc3_40cm</th>\n",
       "    </tr>\n",
       "  </thead>\n",
       "  <tbody>\n",
       "    <tr>\n",
       "      <th>0</th>\n",
       "      <td>2004-05-07 10:00:00</td>\n",
       "      <td>Extensive</td>\n",
       "      <td>NaN</td>\n",
       "      <td>2.560</td>\n",
       "      <td>0.046</td>\n",
       "      <td>-0.150</td>\n",
       "      <td>-0.304</td>\n",
       "      <td>NaN</td>\n",
       "      <td>1.922</td>\n",
       "      <td>0.080</td>\n",
       "      <td>-0.227</td>\n",
       "      <td>-0.398</td>\n",
       "      <td>NaN</td>\n",
       "      <td>NaN</td>\n",
       "      <td>NaN</td>\n",
       "      <td>-0.082</td>\n",
       "      <td>-0.244</td>\n",
       "    </tr>\n",
       "    <tr>\n",
       "      <th>1</th>\n",
       "      <td>2004-05-07 12:00:00</td>\n",
       "      <td>Extensive</td>\n",
       "      <td>NaN</td>\n",
       "      <td>2.434</td>\n",
       "      <td>-0.436</td>\n",
       "      <td>-0.611</td>\n",
       "      <td>-0.726</td>\n",
       "      <td>NaN</td>\n",
       "      <td>1.625</td>\n",
       "      <td>-0.350</td>\n",
       "      <td>-0.662</td>\n",
       "      <td>-0.816</td>\n",
       "      <td>NaN</td>\n",
       "      <td>NaN</td>\n",
       "      <td>NaN</td>\n",
       "      <td>-0.564</td>\n",
       "      <td>-0.692</td>\n",
       "    </tr>\n",
       "    <tr>\n",
       "      <th>2</th>\n",
       "      <td>2004-05-07 14:00:00</td>\n",
       "      <td>Extensive</td>\n",
       "      <td>NaN</td>\n",
       "      <td>2.502</td>\n",
       "      <td>-0.333</td>\n",
       "      <td>-0.517</td>\n",
       "      <td>-0.637</td>\n",
       "      <td>NaN</td>\n",
       "      <td>1.659</td>\n",
       "      <td>-0.218</td>\n",
       "      <td>-0.585</td>\n",
       "      <td>-0.731</td>\n",
       "      <td>NaN</td>\n",
       "      <td>NaN</td>\n",
       "      <td>NaN</td>\n",
       "      <td>-0.427</td>\n",
       "      <td>-0.581</td>\n",
       "    </tr>\n",
       "  </tbody>\n",
       "</table>\n",
       "</div>"
      ],
      "text/plain": [
       "                  date       site  loc1_5cm  loc1_10_cm  loc1_20_cm  \\\n",
       "0  2004-05-07 10:00:00  Extensive       NaN       2.560       0.046   \n",
       "1  2004-05-07 12:00:00  Extensive       NaN       2.434      -0.436   \n",
       "2  2004-05-07 14:00:00  Extensive       NaN       2.502      -0.333   \n",
       "\n",
       "   loc1_30cm  loc1_40cm  loc2_5cm  loc2_10cm  loc2_20cm  loc2_30cm  loc2_40cm  \\\n",
       "0     -0.150     -0.304       NaN      1.922      0.080     -0.227     -0.398   \n",
       "1     -0.611     -0.726       NaN      1.625     -0.350     -0.662     -0.816   \n",
       "2     -0.517     -0.637       NaN      1.659     -0.218     -0.585     -0.731   \n",
       "\n",
       "   loc3_5cm  loc3_10cm  loc3_20cm  loc3_30cm  loc3_40cm  \n",
       "0       NaN        NaN        NaN     -0.082     -0.244  \n",
       "1       NaN        NaN        NaN     -0.564     -0.692  \n",
       "2       NaN        NaN        NaN     -0.427     -0.581  "
      ]
     },
     "execution_count": 5,
     "metadata": {},
     "output_type": "execute_result"
    }
   ],
   "source": [
    "df.head(3)"
   ]
  },
  {
   "cell_type": "code",
   "execution_count": 6,
   "id": "902de3f6",
   "metadata": {},
   "outputs": [],
   "source": [
    "#let's make a new dataset consisting with only one column of interest\n",
    "temp = df[['date', 'loc1_20_cm']].copy()"
   ]
  },
  {
   "cell_type": "code",
   "execution_count": 7,
   "id": "edfc6add",
   "metadata": {},
   "outputs": [
    {
     "name": "stdout",
     "output_type": "stream",
     "text": [
      "<class 'pandas.core.frame.DataFrame'>\n",
      "RangeIndex: 639943 entries, 0 to 639942\n",
      "Data columns (total 2 columns):\n",
      " #   Column      Non-Null Count   Dtype  \n",
      "---  ------      --------------   -----  \n",
      " 0   date        639943 non-null  object \n",
      " 1   loc1_20_cm  591699 non-null  float64\n",
      "dtypes: float64(1), object(1)\n",
      "memory usage: 9.8+ MB\n"
     ]
    }
   ],
   "source": [
    "temp.info()"
   ]
  },
  {
   "cell_type": "code",
   "execution_count": 8,
   "id": "086b4166",
   "metadata": {},
   "outputs": [],
   "source": [
    "# Note, we cannot drop the row untill 'date' remains as an object\n",
    "temp.date = pd.to_datetime(temp.date)\n",
    "temp = temp.set_index('date')"
   ]
  },
  {
   "cell_type": "code",
   "execution_count": 36,
   "id": "7bd0670a",
   "metadata": {},
   "outputs": [],
   "source": [
    "#temp.isna().any()\n",
    "#temp = temp.drop(temp[temp.loc1_20_cm.isna()])"
   ]
  },
  {
   "cell_type": "code",
   "execution_count": 43,
   "id": "ecbbc01f",
   "metadata": {},
   "outputs": [
    {
     "name": "stdout",
     "output_type": "stream",
     "text": [
      "(639943, 1)\n"
     ]
    },
    {
     "data": {
      "text/plain": [
       "(639943, 1)"
      ]
     },
     "execution_count": 43,
     "metadata": {},
     "output_type": "execute_result"
    }
   ],
   "source": [
    "# change 'date' to index and now you drop the NaN rows \n",
    "print(temp.shape)\n",
    "temp.loc1_20_cm.dropna(axis = 0, how = 'all')\n",
    "temp.shape"
   ]
  },
  {
   "cell_type": "code",
   "execution_count": 10,
   "id": "1154d294",
   "metadata": {
    "scrolled": true
   },
   "outputs": [
    {
     "data": {
      "text/html": [
       "<div>\n",
       "<style scoped>\n",
       "    .dataframe tbody tr th:only-of-type {\n",
       "        vertical-align: middle;\n",
       "    }\n",
       "\n",
       "    .dataframe tbody tr th {\n",
       "        vertical-align: top;\n",
       "    }\n",
       "\n",
       "    .dataframe thead th {\n",
       "        text-align: right;\n",
       "    }\n",
       "</style>\n",
       "<table border=\"1\" class=\"dataframe\">\n",
       "  <thead>\n",
       "    <tr style=\"text-align: right;\">\n",
       "      <th></th>\n",
       "      <th>loc1_20_cm</th>\n",
       "    </tr>\n",
       "    <tr>\n",
       "      <th>date</th>\n",
       "      <th></th>\n",
       "    </tr>\n",
       "  </thead>\n",
       "  <tbody>\n",
       "    <tr>\n",
       "      <th>2004-05-07 10:00:00</th>\n",
       "      <td>0.046</td>\n",
       "    </tr>\n",
       "    <tr>\n",
       "      <th>2004-05-07 12:00:00</th>\n",
       "      <td>-0.436</td>\n",
       "    </tr>\n",
       "    <tr>\n",
       "      <th>2004-05-07 14:00:00</th>\n",
       "      <td>-0.333</td>\n",
       "    </tr>\n",
       "    <tr>\n",
       "      <th>2004-05-07 16:00:00</th>\n",
       "      <td>-0.697</td>\n",
       "    </tr>\n",
       "    <tr>\n",
       "      <th>2004-05-07 18:00:00</th>\n",
       "      <td>-0.835</td>\n",
       "    </tr>\n",
       "  </tbody>\n",
       "</table>\n",
       "</div>"
      ],
      "text/plain": [
       "                     loc1_20_cm\n",
       "date                           \n",
       "2004-05-07 10:00:00       0.046\n",
       "2004-05-07 12:00:00      -0.436\n",
       "2004-05-07 14:00:00      -0.333\n",
       "2004-05-07 16:00:00      -0.697\n",
       "2004-05-07 18:00:00      -0.835"
      ]
     },
     "execution_count": 10,
     "metadata": {},
     "output_type": "execute_result"
    }
   ],
   "source": [
    "temp.head()"
   ]
  },
  {
   "cell_type": "code",
   "execution_count": 11,
   "id": "1faa4ebe",
   "metadata": {},
   "outputs": [
    {
     "data": {
      "text/html": [
       "<div>\n",
       "<style scoped>\n",
       "    .dataframe tbody tr th:only-of-type {\n",
       "        vertical-align: middle;\n",
       "    }\n",
       "\n",
       "    .dataframe tbody tr th {\n",
       "        vertical-align: top;\n",
       "    }\n",
       "\n",
       "    .dataframe thead th {\n",
       "        text-align: right;\n",
       "    }\n",
       "</style>\n",
       "<table border=\"1\" class=\"dataframe\">\n",
       "  <thead>\n",
       "    <tr style=\"text-align: right;\">\n",
       "      <th></th>\n",
       "      <th>loc1_20_cm</th>\n",
       "    </tr>\n",
       "    <tr>\n",
       "      <th>date</th>\n",
       "      <th></th>\n",
       "    </tr>\n",
       "  </thead>\n",
       "  <tbody>\n",
       "    <tr>\n",
       "      <th>2004-07-02 12:00:00</th>\n",
       "      <td>5.981</td>\n",
       "    </tr>\n",
       "    <tr>\n",
       "      <th>2004-07-02 12:30:00</th>\n",
       "      <td>5.772</td>\n",
       "    </tr>\n",
       "    <tr>\n",
       "      <th>2004-07-02 13:00:00</th>\n",
       "      <td>5.393</td>\n",
       "    </tr>\n",
       "    <tr>\n",
       "      <th>2004-07-02 13:30:00</th>\n",
       "      <td>5.740</td>\n",
       "    </tr>\n",
       "    <tr>\n",
       "      <th>2004-07-02 14:00:00</th>\n",
       "      <td>6.363</td>\n",
       "    </tr>\n",
       "    <tr>\n",
       "      <th>2004-07-02 14:30:00</th>\n",
       "      <td>6.579</td>\n",
       "    </tr>\n",
       "    <tr>\n",
       "      <th>2004-07-02 15:00:00</th>\n",
       "      <td>6.181</td>\n",
       "    </tr>\n",
       "  </tbody>\n",
       "</table>\n",
       "</div>"
      ],
      "text/plain": [
       "                     loc1_20_cm\n",
       "date                           \n",
       "2004-07-02 12:00:00       5.981\n",
       "2004-07-02 12:30:00       5.772\n",
       "2004-07-02 13:00:00       5.393\n",
       "2004-07-02 13:30:00       5.740\n",
       "2004-07-02 14:00:00       6.363\n",
       "2004-07-02 14:30:00       6.579\n",
       "2004-07-02 15:00:00       6.181"
      ]
     },
     "execution_count": 11,
     "metadata": {},
     "output_type": "execute_result"
    }
   ],
   "source": [
    "# 2004-07-02 12:00:00 it is when they switched from 2 hour to 30 min intervals\n",
    "# can you wirte a script which would automatically check for the time resolution and tell you \n",
    "# when it is disrupted or changed to another one? \n",
    "temp.iloc[673:680]"
   ]
  },
  {
   "cell_type": "code",
   "execution_count": 12,
   "id": "b2a51df2",
   "metadata": {},
   "outputs": [
    {
     "data": {
      "text/html": [
       "<div>\n",
       "<style scoped>\n",
       "    .dataframe tbody tr th:only-of-type {\n",
       "        vertical-align: middle;\n",
       "    }\n",
       "\n",
       "    .dataframe tbody tr th {\n",
       "        vertical-align: top;\n",
       "    }\n",
       "\n",
       "    .dataframe thead th {\n",
       "        text-align: right;\n",
       "    }\n",
       "</style>\n",
       "<table border=\"1\" class=\"dataframe\">\n",
       "  <thead>\n",
       "    <tr style=\"text-align: right;\">\n",
       "      <th></th>\n",
       "      <th>loc1_20_cm</th>\n",
       "    </tr>\n",
       "    <tr>\n",
       "      <th>date</th>\n",
       "      <th></th>\n",
       "    </tr>\n",
       "  </thead>\n",
       "  <tbody>\n",
       "    <tr>\n",
       "      <th>2018-09-30 21:30:00</th>\n",
       "      <td>0.93</td>\n",
       "    </tr>\n",
       "    <tr>\n",
       "      <th>2018-09-30 22:00:00</th>\n",
       "      <td>0.93</td>\n",
       "    </tr>\n",
       "    <tr>\n",
       "      <th>2018-09-30 22:30:00</th>\n",
       "      <td>0.91</td>\n",
       "    </tr>\n",
       "    <tr>\n",
       "      <th>2018-09-30 23:00:00</th>\n",
       "      <td>0.82</td>\n",
       "    </tr>\n",
       "    <tr>\n",
       "      <th>2018-09-30 23:30:00</th>\n",
       "      <td>0.81</td>\n",
       "    </tr>\n",
       "  </tbody>\n",
       "</table>\n",
       "</div>"
      ],
      "text/plain": [
       "                     loc1_20_cm\n",
       "date                           \n",
       "2018-09-30 21:30:00        0.93\n",
       "2018-09-30 22:00:00        0.93\n",
       "2018-09-30 22:30:00        0.91\n",
       "2018-09-30 23:00:00        0.82\n",
       "2018-09-30 23:30:00        0.81"
      ]
     },
     "execution_count": 12,
     "metadata": {},
     "output_type": "execute_result"
    }
   ],
   "source": [
    "temp.tail()"
   ]
  },
  {
   "cell_type": "code",
   "execution_count": 29,
   "id": "dd3fe5b2",
   "metadata": {},
   "outputs": [
    {
     "data": {
      "text/plain": [
       "<AxesSubplot:xlabel='date'>"
      ]
     },
     "execution_count": 29,
     "metadata": {},
     "output_type": "execute_result"
    },
    {
     "data": {
      "image/png": "[encoded data removed]",
      "text/plain": [
       "<Figure size 432x288 with 1 Axes>"
      ]
     },
     "metadata": {
      "needs_background": "light"
     },
     "output_type": "display_data"
    }
   ],
   "source": [
    "temp.plot()\n",
    "#temp['loc1_20_cm']['2006-09-15 10:00:00':'2006-10-01 10:00:00'].plot()\n",
    "#temp[:]['2017-09-30 21:30:00','2018-09-30 21:30:00'].plot();"
   ]
  },
  {
   "cell_type": "code",
   "execution_count": 26,
   "id": "71203692",
   "metadata": {},
   "outputs": [
    {
     "data": {
      "text/plain": [
       "date\n",
       "2006-09-15 10:00:00    4.499\n",
       "2006-09-15 10:30:00    4.549\n",
       "2006-09-15 11:00:00    4.643\n",
       "2006-09-15 11:30:00    4.669\n",
       "2006-09-15 12:00:00    4.588\n",
       "                       ...  \n",
       "2006-10-01 08:00:00      NaN\n",
       "2006-10-01 08:30:00      NaN\n",
       "2006-10-01 09:00:00      NaN\n",
       "2006-10-01 09:30:00      NaN\n",
       "2006-10-01 10:00:00      NaN\n",
       "Name: loc1_20_cm, Length: 1538, dtype: float64"
      ]
     },
     "execution_count": 26,
     "metadata": {},
     "output_type": "execute_result"
    }
   ],
   "source": [
    "temp['loc1_20_cm']['2006-09-15 10:00:00':'2006-10-01 10:00:00']"
   ]
  },
  {
   "cell_type": "code",
   "execution_count": 14,
   "id": "283ccb71",
   "metadata": {},
   "outputs": [
    {
     "data": {
      "text/plain": [
       "0.5413672001812004"
      ]
     },
     "execution_count": 14,
     "metadata": {},
     "output_type": "execute_result"
    }
   ],
   "source": [
    "df.loc1_20_cm.mean()"
   ]
  },
  {
   "cell_type": "code",
   "execution_count": 15,
   "id": "7cf5bb78",
   "metadata": {},
   "outputs": [
    {
     "data": {
      "text/plain": [
       "0        -0.495367\n",
       "1        -0.977367\n",
       "2        -0.874367\n",
       "3        -1.238367\n",
       "4        -1.376367\n",
       "            ...   \n",
       "639938    0.388633\n",
       "639939    0.388633\n",
       "639940    0.368633\n",
       "639941    0.278633\n",
       "639942    0.268633\n",
       "Name: loc1_20_cm, Length: 639943, dtype: float64"
      ]
     },
     "execution_count": 15,
     "metadata": {},
     "output_type": "execute_result"
    }
   ],
   "source": [
    "df.loc1_20_cm - df.loc1_20_cm.mean()"
   ]
  },
  {
   "cell_type": "code",
   "execution_count": 16,
   "id": "4acca085",
   "metadata": {},
   "outputs": [
    {
     "name": "stdout",
     "output_type": "stream",
     "text": [
      "<class 'pandas.core.frame.DataFrame'>\n",
      "DatetimeIndex: 639943 entries, 2004-05-07 10:00:00 to 2018-09-30 23:30:00\n",
      "Data columns (total 1 columns):\n",
      " #   Column      Non-Null Count   Dtype  \n",
      "---  ------      --------------   -----  \n",
      " 0   loc1_20_cm  591699 non-null  float64\n",
      "dtypes: float64(1)\n",
      "memory usage: 25.9 MB\n"
     ]
    }
   ],
   "source": [
    "temp.info()"
   ]
  },
  {
   "cell_type": "code",
   "execution_count": 28,
   "id": "42a8d67c",
   "metadata": {},
   "outputs": [
    {
     "data": {
      "image/png": "[encoded data removed]",
      "text/plain": [
       "<Figure size 432x288 with 1 Axes>"
      ]
     },
     "metadata": {
      "needs_background": "light"
     },
     "output_type": "display_data"
    }
   ],
   "source": [
    "import scipy.fft\n",
    "\n",
    "fft = scipy.fft.fft((temp - temp.mean()).values)\n",
    "plt.plot(np.abs(fft))\n",
    "plt.title(\"FFT of temperature data\")\n",
    "plt.xlabel('# Cycles in full window of data (~14 years)');"
   ]
  },
  {
   "cell_type": "code",
   "execution_count": null,
   "id": "598bf9de",
   "metadata": {},
   "outputs": [],
   "source": [
    "plt.plot(1./365 * np.arange(len(fft)), np.abs(fft))\n",
    "plt.title(\"FFT of temperature data (Low Frequencies zoom)\")\n",
    "#plt.xlim([0,10000])\n",
    "plt.xlabel('Frequency ($y^{-1}$)');"
   ]
  },
  {
   "cell_type": "code",
   "execution_count": null,
   "id": "a6ae9b91",
   "metadata": {},
   "outputs": [],
   "source": []
  }
 ],
 "metadata": {
  "kernelspec": {
   "display_name": "Python 3",
   "language": "python",
   "name": "python3"
  },
  "language_info": {
   "codemirror_mode": {
    "name": "ipython",
    "version": 3
   },
   "file_extension": ".py",
   "mimetype": "text/x-python",
   "name": "python",
   "nbconvert_exporter": "python",
   "pygments_lexer": "ipython3",
   "version": "3.8.8"
  }
 },
 "nbformat": 4,
 "nbformat_minor": 5
}
