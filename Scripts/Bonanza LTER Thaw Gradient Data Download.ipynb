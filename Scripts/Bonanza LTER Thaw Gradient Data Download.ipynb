{
 "cells": [
  {
   "cell_type": "markdown",
   "id": "4aefaff6",
   "metadata": {},
   "source": [
    "# Bonanza-LTER Eight Mile Lake Dataset Cleaning"
   ]
  },
  {
   "cell_type": "code",
   "execution_count": 282,
   "id": "bf778a74",
   "metadata": {},
   "outputs": [],
   "source": [
    "import pandas as pd\n",
    "import numpy as np\n",
    "import csv\n",
    "import glob, os\n",
    "from datetime import datetime"
   ]
  },
  {
   "cell_type": "markdown",
   "id": "f2f493c8",
   "metadata": {},
   "source": [
    "This script reads in multiple datasets from the Bonanza-LTER data catalog for thaw gradient sites at Eight Mile Lake (EML). \n",
    "The general workflow for each dataset is to:\n",
    "import individual dataset, declare na_values, inspect the data, format date to datetime, and add corresponding year and day of year (DOY) columns if needed."
   ]
  },
  {
   "cell_type": "markdown",
   "id": "b6cf8b2d",
   "metadata": {},
   "source": [
    "### Eight Mile Lake: CO2 Flux data 2004-2010\n",
    "DOI: http://dx.doi.org/10.6073/pasta/2f70f7a4a0279df6f2bfe7ecdf2462cd"
   ]
  },
  {
   "cell_type": "code",
   "execution_count": 283,
   "id": "ba21255a",
   "metadata": {},
   "outputs": [],
   "source": [
    "EMLurl8=\"https://www.lter.uaf.edu/php/download_data.php?f=/data_files/ascii/files/455_ThawGradientAK_CarbonFluxes_2004-2006.txt\"\n",
    "EMLurl9=\"https://www.lter.uaf.edu/php/download_data.php?f=/data_files/ascii/files/455_ThawGradientAK_CarbonFluxes_2007-2010.txt\""
   ]
  },
  {
   "cell_type": "markdown",
   "id": "a35c507f",
   "metadata": {},
   "source": [
    "Eight Mile Lake-Thaw Gradient Carbon Flux Datasets: 2004-2006, and 2007-2010. \n",
    "Variables include: air temperature (degC), PAR, NEE, ecosystem respiration (Re), and GPP"
   ]
  },
  {
   "cell_type": "code",
   "execution_count": 284,
   "id": "1c7ebfb8",
   "metadata": {},
   "outputs": [],
   "source": [
    "emlcf1 =pd.read_csv(EMLurl8\n",
    "          ,skiprows=1\n",
    "            ,sep=\",\"  \n",
    "           , names=[\n",
    "                    \"year\",     \n",
    "                    \"month\",     \n",
    "                    \"doy\",     \n",
    "                    \"hour\",     \n",
    "                    \"chamb\",     \n",
    "                    \"site\",     \n",
    "                    \"tair\",     \n",
    "                    \"PAR\",     \n",
    "                    \"NEE\",     \n",
    "                    \"Re\",     \n",
    "                    \"GPP\",     \n",
    "                    \"filled\"    ],na_values={'-9999','NaN'})"
   ]
  },
  {
   "cell_type": "code",
   "execution_count": 285,
   "id": "a8ba7a9f",
   "metadata": {},
   "outputs": [],
   "source": [
    "emlcf2 =pd.read_csv(EMLurl9\n",
    "          ,skiprows=1\n",
    "            ,sep=\",\"  \n",
    "           , names=[\n",
    "                    \"year\",     \n",
    "                    \"month\",     \n",
    "                    \"doy\",     \n",
    "                    \"hour\",     \n",
    "                    \"chamb\",     \n",
    "                    \"site\",     \n",
    "                    \"tair\",     \n",
    "                    \"PAR\",     \n",
    "                    \"NEE\",     \n",
    "                    \"Re\",     \n",
    "                    \"GPP\",     \n",
    "                    \"filled\"    ],na_values={'-9999','NaN'})"
   ]
  },
  {
   "cell_type": "code",
   "execution_count": 286,
   "id": "b977e226",
   "metadata": {},
   "outputs": [
    {
     "name": "stdout",
     "output_type": "stream",
     "text": [
      "<class 'pandas.core.frame.DataFrame'>\n",
      "RangeIndex: 123308 entries, 0 to 123307\n",
      "Data columns (total 12 columns):\n",
      " #   Column  Non-Null Count   Dtype  \n",
      "---  ------  --------------   -----  \n",
      " 0   year    123308 non-null  int64  \n",
      " 1   month   123308 non-null  int64  \n",
      " 2   doy     123308 non-null  int64  \n",
      " 3   hour    123308 non-null  int64  \n",
      " 4   chamb   123209 non-null  float64\n",
      " 5   site    123308 non-null  object \n",
      " 6   tair    123308 non-null  float64\n",
      " 7   PAR     123308 non-null  float64\n",
      " 8   NEE     89459 non-null   float64\n",
      " 9   Re      122427 non-null  float64\n",
      " 10  GPP     122774 non-null  float64\n",
      " 11  filled  123308 non-null  int64  \n",
      "dtypes: float64(6), int64(5), object(1)\n",
      "memory usage: 11.3+ MB\n"
     ]
    }
   ],
   "source": [
    "emlcf1.info()"
   ]
  },
  {
   "cell_type": "code",
   "execution_count": 287,
   "id": "76724958",
   "metadata": {
    "scrolled": false
   },
   "outputs": [
    {
     "data": {
      "text/plain": [
       "<AxesSubplot:>"
      ]
     },
     "execution_count": 287,
     "metadata": {},
     "output_type": "execute_result"
    },
    {
     "data": {
      "image/png": "[encoded data removed]",
      "text/plain": [
       "<Figure size 432x288 with 1 Axes>"
      ]
     },
     "metadata": {
      "needs_background": "light"
     },
     "output_type": "display_data"
    }
   ],
   "source": [
    "emlcf1.NEE.plot()"
   ]
  },
  {
   "cell_type": "code",
   "execution_count": 288,
   "id": "1c8f8b3e",
   "metadata": {},
   "outputs": [
    {
     "data": {
      "text/html": [
       "<div>\n",
       "<style scoped>\n",
       "    .dataframe tbody tr th:only-of-type {\n",
       "        vertical-align: middle;\n",
       "    }\n",
       "\n",
       "    .dataframe tbody tr th {\n",
       "        vertical-align: top;\n",
       "    }\n",
       "\n",
       "    .dataframe thead th {\n",
       "        text-align: right;\n",
       "    }\n",
       "</style>\n",
       "<table border=\"1\" class=\"dataframe\">\n",
       "  <thead>\n",
       "    <tr style=\"text-align: right;\">\n",
       "      <th></th>\n",
       "      <th>year</th>\n",
       "      <th>month</th>\n",
       "      <th>doy</th>\n",
       "      <th>hour</th>\n",
       "      <th>chamb</th>\n",
       "      <th>tair</th>\n",
       "      <th>PAR</th>\n",
       "      <th>NEE</th>\n",
       "      <th>Re</th>\n",
       "      <th>GPP</th>\n",
       "      <th>filled</th>\n",
       "    </tr>\n",
       "  </thead>\n",
       "  <tbody>\n",
       "    <tr>\n",
       "      <th>count</th>\n",
       "      <td>330918.000000</td>\n",
       "      <td>330918.000000</td>\n",
       "      <td>330918.000000</td>\n",
       "      <td>330918.000000</td>\n",
       "      <td>330918.000000</td>\n",
       "      <td>330918.000000</td>\n",
       "      <td>330918.000000</td>\n",
       "      <td>330918.000000</td>\n",
       "      <td>330914.000000</td>\n",
       "      <td>241352.000000</td>\n",
       "      <td>330918.000000</td>\n",
       "    </tr>\n",
       "    <tr>\n",
       "      <th>mean</th>\n",
       "      <td>2008.797237</td>\n",
       "      <td>6.992282</td>\n",
       "      <td>197.148378</td>\n",
       "      <td>12.197593</td>\n",
       "      <td>17.984637</td>\n",
       "      <td>9.546084</td>\n",
       "      <td>303.363055</td>\n",
       "      <td>0.822493</td>\n",
       "      <td>-2.190732</td>\n",
       "      <td>4.131245</td>\n",
       "      <td>0.045395</td>\n",
       "    </tr>\n",
       "    <tr>\n",
       "      <th>std</th>\n",
       "      <td>1.167679</td>\n",
       "      <td>1.410592</td>\n",
       "      <td>44.122837</td>\n",
       "      <td>6.933175</td>\n",
       "      <td>10.377258</td>\n",
       "      <td>6.112107</td>\n",
       "      <td>355.918879</td>\n",
       "      <td>2.793848</td>\n",
       "      <td>1.005802</td>\n",
       "      <td>3.300454</td>\n",
       "      <td>0.208169</td>\n",
       "    </tr>\n",
       "    <tr>\n",
       "      <th>min</th>\n",
       "      <td>2007.000000</td>\n",
       "      <td>5.000000</td>\n",
       "      <td>121.000000</td>\n",
       "      <td>0.000000</td>\n",
       "      <td>1.000000</td>\n",
       "      <td>-40.005390</td>\n",
       "      <td>-0.130713</td>\n",
       "      <td>-11.671900</td>\n",
       "      <td>-11.790075</td>\n",
       "      <td>-9.210526</td>\n",
       "      <td>0.000000</td>\n",
       "    </tr>\n",
       "    <tr>\n",
       "      <th>25%</th>\n",
       "      <td>2008.000000</td>\n",
       "      <td>6.000000</td>\n",
       "      <td>159.000000</td>\n",
       "      <td>6.000000</td>\n",
       "      <td>9.000000</td>\n",
       "      <td>5.830000</td>\n",
       "      <td>2.658936</td>\n",
       "      <td>-1.258037</td>\n",
       "      <td>-2.753909</td>\n",
       "      <td>1.702345</td>\n",
       "      <td>0.000000</td>\n",
       "    </tr>\n",
       "    <tr>\n",
       "      <th>50%</th>\n",
       "      <td>2009.000000</td>\n",
       "      <td>7.000000</td>\n",
       "      <td>197.000000</td>\n",
       "      <td>12.000000</td>\n",
       "      <td>17.000000</td>\n",
       "      <td>9.676695</td>\n",
       "      <td>156.395750</td>\n",
       "      <td>0.154716</td>\n",
       "      <td>-2.053975</td>\n",
       "      <td>3.356724</td>\n",
       "      <td>0.000000</td>\n",
       "    </tr>\n",
       "    <tr>\n",
       "      <th>75%</th>\n",
       "      <td>2010.000000</td>\n",
       "      <td>8.000000</td>\n",
       "      <td>235.000000</td>\n",
       "      <td>18.000000</td>\n",
       "      <td>27.000000</td>\n",
       "      <td>13.740000</td>\n",
       "      <td>510.295800</td>\n",
       "      <td>2.423842</td>\n",
       "      <td>-1.474020</td>\n",
       "      <td>6.239087</td>\n",
       "      <td>0.000000</td>\n",
       "    </tr>\n",
       "    <tr>\n",
       "      <th>max</th>\n",
       "      <td>2010.000000</td>\n",
       "      <td>9.000000</td>\n",
       "      <td>274.000000</td>\n",
       "      <td>24.000000</td>\n",
       "      <td>35.000000</td>\n",
       "      <td>29.630000</td>\n",
       "      <td>1960.882000</td>\n",
       "      <td>19.102029</td>\n",
       "      <td>7.350334</td>\n",
       "      <td>22.779822</td>\n",
       "      <td>1.000000</td>\n",
       "    </tr>\n",
       "  </tbody>\n",
       "</table>\n",
       "</div>"
      ],
      "text/plain": [
       "                year          month            doy           hour  \\\n",
       "count  330918.000000  330918.000000  330918.000000  330918.000000   \n",
       "mean     2008.797237       6.992282     197.148378      12.197593   \n",
       "std         1.167679       1.410592      44.122837       6.933175   \n",
       "min      2007.000000       5.000000     121.000000       0.000000   \n",
       "25%      2008.000000       6.000000     159.000000       6.000000   \n",
       "50%      2009.000000       7.000000     197.000000      12.000000   \n",
       "75%      2010.000000       8.000000     235.000000      18.000000   \n",
       "max      2010.000000       9.000000     274.000000      24.000000   \n",
       "\n",
       "               chamb           tair            PAR            NEE  \\\n",
       "count  330918.000000  330918.000000  330918.000000  330918.000000   \n",
       "mean       17.984637       9.546084     303.363055       0.822493   \n",
       "std        10.377258       6.112107     355.918879       2.793848   \n",
       "min         1.000000     -40.005390      -0.130713     -11.671900   \n",
       "25%         9.000000       5.830000       2.658936      -1.258037   \n",
       "50%        17.000000       9.676695     156.395750       0.154716   \n",
       "75%        27.000000      13.740000     510.295800       2.423842   \n",
       "max        35.000000      29.630000    1960.882000      19.102029   \n",
       "\n",
       "                  Re            GPP         filled  \n",
       "count  330914.000000  241352.000000  330918.000000  \n",
       "mean       -2.190732       4.131245       0.045395  \n",
       "std         1.005802       3.300454       0.208169  \n",
       "min       -11.790075      -9.210526       0.000000  \n",
       "25%        -2.753909       1.702345       0.000000  \n",
       "50%        -2.053975       3.356724       0.000000  \n",
       "75%        -1.474020       6.239087       0.000000  \n",
       "max         7.350334      22.779822       1.000000  "
      ]
     },
     "execution_count": 288,
     "metadata": {},
     "output_type": "execute_result"
    }
   ],
   "source": [
    "emlcf2.describe()"
   ]
  },
  {
   "cell_type": "code",
   "execution_count": 289,
   "id": "9d463764",
   "metadata": {
    "scrolled": false
   },
   "outputs": [
    {
     "data": {
      "text/plain": [
       "<AxesSubplot:>"
      ]
     },
     "execution_count": 289,
     "metadata": {},
     "output_type": "execute_result"
    },
    {
     "data": {
      "image/png": "[encoded data removed]",
      "text/plain": [
       "<Figure size 432x288 with 1 Axes>"
      ]
     },
     "metadata": {
      "needs_background": "light"
     },
     "output_type": "display_data"
    }
   ],
   "source": [
    "emlcf2.NEE.plot()"
   ]
  },
  {
   "cell_type": "code",
   "execution_count": 290,
   "id": "d2a5ebd8",
   "metadata": {},
   "outputs": [],
   "source": [
    "emlcfconcat=pd.concat([emlcf1,emlcf2])"
   ]
  },
  {
   "cell_type": "markdown",
   "id": "6102d621",
   "metadata": {},
   "source": [
    "Added a seperate Date column from Year and Doy "
   ]
  },
  {
   "cell_type": "code",
   "execution_count": 291,
   "id": "4342d9d4",
   "metadata": {},
   "outputs": [
    {
     "data": {
      "text/html": [
       "<div>\n",
       "<style scoped>\n",
       "    .dataframe tbody tr th:only-of-type {\n",
       "        vertical-align: middle;\n",
       "    }\n",
       "\n",
       "    .dataframe tbody tr th {\n",
       "        vertical-align: top;\n",
       "    }\n",
       "\n",
       "    .dataframe thead th {\n",
       "        text-align: right;\n",
       "    }\n",
       "</style>\n",
       "<table border=\"1\" class=\"dataframe\">\n",
       "  <thead>\n",
       "    <tr style=\"text-align: right;\">\n",
       "      <th></th>\n",
       "      <th>year</th>\n",
       "      <th>month</th>\n",
       "      <th>doy</th>\n",
       "      <th>hour</th>\n",
       "      <th>chamb</th>\n",
       "      <th>site</th>\n",
       "      <th>tair</th>\n",
       "      <th>PAR</th>\n",
       "      <th>NEE</th>\n",
       "      <th>Re</th>\n",
       "      <th>GPP</th>\n",
       "      <th>filled</th>\n",
       "      <th>date</th>\n",
       "    </tr>\n",
       "  </thead>\n",
       "  <tbody>\n",
       "    <tr>\n",
       "      <th>0</th>\n",
       "      <td>2004</td>\n",
       "      <td>5</td>\n",
       "      <td>128</td>\n",
       "      <td>12.0</td>\n",
       "      <td>1.0</td>\n",
       "      <td>Ext</td>\n",
       "      <td>1.1</td>\n",
       "      <td>500.0</td>\n",
       "      <td>0.10</td>\n",
       "      <td>NaN</td>\n",
       "      <td>NaN</td>\n",
       "      <td>0</td>\n",
       "      <td>2004-05-07</td>\n",
       "    </tr>\n",
       "    <tr>\n",
       "      <th>1</th>\n",
       "      <td>2004</td>\n",
       "      <td>5</td>\n",
       "      <td>128</td>\n",
       "      <td>12.0</td>\n",
       "      <td>3.0</td>\n",
       "      <td>Ext</td>\n",
       "      <td>1.1</td>\n",
       "      <td>500.0</td>\n",
       "      <td>-0.64</td>\n",
       "      <td>NaN</td>\n",
       "      <td>NaN</td>\n",
       "      <td>0</td>\n",
       "      <td>2004-05-07</td>\n",
       "    </tr>\n",
       "    <tr>\n",
       "      <th>2</th>\n",
       "      <td>2004</td>\n",
       "      <td>5</td>\n",
       "      <td>128</td>\n",
       "      <td>12.0</td>\n",
       "      <td>5.0</td>\n",
       "      <td>Ext</td>\n",
       "      <td>1.1</td>\n",
       "      <td>500.0</td>\n",
       "      <td>-0.55</td>\n",
       "      <td>NaN</td>\n",
       "      <td>NaN</td>\n",
       "      <td>0</td>\n",
       "      <td>2004-05-07</td>\n",
       "    </tr>\n",
       "    <tr>\n",
       "      <th>3</th>\n",
       "      <td>2004</td>\n",
       "      <td>5</td>\n",
       "      <td>128</td>\n",
       "      <td>12.0</td>\n",
       "      <td>7.0</td>\n",
       "      <td>Ext</td>\n",
       "      <td>1.1</td>\n",
       "      <td>500.0</td>\n",
       "      <td>-0.97</td>\n",
       "      <td>NaN</td>\n",
       "      <td>NaN</td>\n",
       "      <td>0</td>\n",
       "      <td>2004-05-07</td>\n",
       "    </tr>\n",
       "    <tr>\n",
       "      <th>4</th>\n",
       "      <td>2004</td>\n",
       "      <td>5</td>\n",
       "      <td>128</td>\n",
       "      <td>12.0</td>\n",
       "      <td>9.0</td>\n",
       "      <td>Ext</td>\n",
       "      <td>1.1</td>\n",
       "      <td>500.0</td>\n",
       "      <td>-1.50</td>\n",
       "      <td>NaN</td>\n",
       "      <td>NaN</td>\n",
       "      <td>0</td>\n",
       "      <td>2004-05-07</td>\n",
       "    </tr>\n",
       "  </tbody>\n",
       "</table>\n",
       "</div>"
      ],
      "text/plain": [
       "   year  month  doy  hour  chamb site  tair    PAR   NEE  Re  GPP  filled  \\\n",
       "0  2004      5  128  12.0    1.0  Ext   1.1  500.0  0.10 NaN  NaN       0   \n",
       "1  2004      5  128  12.0    3.0  Ext   1.1  500.0 -0.64 NaN  NaN       0   \n",
       "2  2004      5  128  12.0    5.0  Ext   1.1  500.0 -0.55 NaN  NaN       0   \n",
       "3  2004      5  128  12.0    7.0  Ext   1.1  500.0 -0.97 NaN  NaN       0   \n",
       "4  2004      5  128  12.0    9.0  Ext   1.1  500.0 -1.50 NaN  NaN       0   \n",
       "\n",
       "        date  \n",
       "0 2004-05-07  \n",
       "1 2004-05-07  \n",
       "2 2004-05-07  \n",
       "3 2004-05-07  \n",
       "4 2004-05-07  "
      ]
     },
     "execution_count": 291,
     "metadata": {},
     "output_type": "execute_result"
    }
   ],
   "source": [
    "emlcfconcat['date']=pd.to_datetime(emlcfconcat['year'] * 1000 + emlcfconcat['doy'], format='%Y%j')\n",
    "emlcfconcat.head()"
   ]
  },
  {
   "cell_type": "markdown",
   "id": "705bdace",
   "metadata": {},
   "source": [
    "Merge datasets to create one continuous dataset"
   ]
  },
  {
   "cell_type": "code",
   "execution_count": 292,
   "id": "e21431e5",
   "metadata": {
    "scrolled": true
   },
   "outputs": [
    {
     "data": {
      "text/html": [
       "<div>\n",
       "<style scoped>\n",
       "    .dataframe tbody tr th:only-of-type {\n",
       "        vertical-align: middle;\n",
       "    }\n",
       "\n",
       "    .dataframe tbody tr th {\n",
       "        vertical-align: top;\n",
       "    }\n",
       "\n",
       "    .dataframe thead th {\n",
       "        text-align: right;\n",
       "    }\n",
       "</style>\n",
       "<table border=\"1\" class=\"dataframe\">\n",
       "  <thead>\n",
       "    <tr style=\"text-align: right;\">\n",
       "      <th></th>\n",
       "      <th>year</th>\n",
       "      <th>month</th>\n",
       "      <th>doy</th>\n",
       "      <th>hour</th>\n",
       "      <th>chamb</th>\n",
       "      <th>tair</th>\n",
       "      <th>PAR</th>\n",
       "      <th>NEE</th>\n",
       "      <th>Re</th>\n",
       "      <th>GPP</th>\n",
       "      <th>filled</th>\n",
       "    </tr>\n",
       "  </thead>\n",
       "  <tbody>\n",
       "    <tr>\n",
       "      <th>count</th>\n",
       "      <td>454226.000000</td>\n",
       "      <td>454226.000000</td>\n",
       "      <td>454226.000000</td>\n",
       "      <td>454226.000000</td>\n",
       "      <td>454127.000000</td>\n",
       "      <td>454226.000000</td>\n",
       "      <td>454226.000000</td>\n",
       "      <td>420377.000000</td>\n",
       "      <td>453341.000000</td>\n",
       "      <td>364126.000000</td>\n",
       "      <td>454226.000000</td>\n",
       "    </tr>\n",
       "    <tr>\n",
       "      <th>mean</th>\n",
       "      <td>2007.799901</td>\n",
       "      <td>7.038159</td>\n",
       "      <td>198.700781</td>\n",
       "      <td>12.027522</td>\n",
       "      <td>17.983632</td>\n",
       "      <td>10.344321</td>\n",
       "      <td>319.121766</td>\n",
       "      <td>0.847200</td>\n",
       "      <td>-2.246409</td>\n",
       "      <td>3.825618</td>\n",
       "      <td>0.281331</td>\n",
       "    </tr>\n",
       "    <tr>\n",
       "      <th>std</th>\n",
       "      <td>1.959896</td>\n",
       "      <td>1.304608</td>\n",
       "      <td>40.720324</td>\n",
       "      <td>6.926299</td>\n",
       "      <td>10.373240</td>\n",
       "      <td>6.153412</td>\n",
       "      <td>369.169179</td>\n",
       "      <td>2.736555</td>\n",
       "      <td>0.988841</td>\n",
       "      <td>3.225913</td>\n",
       "      <td>0.449649</td>\n",
       "    </tr>\n",
       "    <tr>\n",
       "      <th>min</th>\n",
       "      <td>2004.000000</td>\n",
       "      <td>4.000000</td>\n",
       "      <td>121.000000</td>\n",
       "      <td>0.000000</td>\n",
       "      <td>1.000000</td>\n",
       "      <td>-40.005390</td>\n",
       "      <td>-0.130713</td>\n",
       "      <td>-11.671900</td>\n",
       "      <td>-11.790075</td>\n",
       "      <td>-9.210526</td>\n",
       "      <td>0.000000</td>\n",
       "    </tr>\n",
       "    <tr>\n",
       "      <th>25%</th>\n",
       "      <td>2006.000000</td>\n",
       "      <td>6.000000</td>\n",
       "      <td>166.000000</td>\n",
       "      <td>6.000000</td>\n",
       "      <td>9.000000</td>\n",
       "      <td>6.500000</td>\n",
       "      <td>3.748500</td>\n",
       "      <td>-1.271722</td>\n",
       "      <td>-2.776215</td>\n",
       "      <td>1.318772</td>\n",
       "      <td>0.000000</td>\n",
       "    </tr>\n",
       "    <tr>\n",
       "      <th>50%</th>\n",
       "      <td>2008.000000</td>\n",
       "      <td>7.000000</td>\n",
       "      <td>199.000000</td>\n",
       "      <td>12.000000</td>\n",
       "      <td>17.000000</td>\n",
       "      <td>10.340000</td>\n",
       "      <td>171.264000</td>\n",
       "      <td>0.298639</td>\n",
       "      <td>-2.110811</td>\n",
       "      <td>3.284440</td>\n",
       "      <td>0.000000</td>\n",
       "    </tr>\n",
       "    <tr>\n",
       "      <th>75%</th>\n",
       "      <td>2010.000000</td>\n",
       "      <td>8.000000</td>\n",
       "      <td>232.000000</td>\n",
       "      <td>18.000000</td>\n",
       "      <td>27.000000</td>\n",
       "      <td>14.416510</td>\n",
       "      <td>533.453200</td>\n",
       "      <td>2.501742</td>\n",
       "      <td>-1.562408</td>\n",
       "      <td>5.803056</td>\n",
       "      <td>1.000000</td>\n",
       "    </tr>\n",
       "    <tr>\n",
       "      <th>max</th>\n",
       "      <td>2010.000000</td>\n",
       "      <td>9.000000</td>\n",
       "      <td>274.000000</td>\n",
       "      <td>24.000000</td>\n",
       "      <td>35.000000</td>\n",
       "      <td>37.222222</td>\n",
       "      <td>2350.000000</td>\n",
       "      <td>19.102029</td>\n",
       "      <td>7.350334</td>\n",
       "      <td>24.070000</td>\n",
       "      <td>1.000000</td>\n",
       "    </tr>\n",
       "  </tbody>\n",
       "</table>\n",
       "</div>"
      ],
      "text/plain": [
       "                year          month            doy           hour  \\\n",
       "count  454226.000000  454226.000000  454226.000000  454226.000000   \n",
       "mean     2007.799901       7.038159     198.700781      12.027522   \n",
       "std         1.959896       1.304608      40.720324       6.926299   \n",
       "min      2004.000000       4.000000     121.000000       0.000000   \n",
       "25%      2006.000000       6.000000     166.000000       6.000000   \n",
       "50%      2008.000000       7.000000     199.000000      12.000000   \n",
       "75%      2010.000000       8.000000     232.000000      18.000000   \n",
       "max      2010.000000       9.000000     274.000000      24.000000   \n",
       "\n",
       "               chamb           tair            PAR            NEE  \\\n",
       "count  454127.000000  454226.000000  454226.000000  420377.000000   \n",
       "mean       17.983632      10.344321     319.121766       0.847200   \n",
       "std        10.373240       6.153412     369.169179       2.736555   \n",
       "min         1.000000     -40.005390      -0.130713     -11.671900   \n",
       "25%         9.000000       6.500000       3.748500      -1.271722   \n",
       "50%        17.000000      10.340000     171.264000       0.298639   \n",
       "75%        27.000000      14.416510     533.453200       2.501742   \n",
       "max        35.000000      37.222222    2350.000000      19.102029   \n",
       "\n",
       "                  Re            GPP         filled  \n",
       "count  453341.000000  364126.000000  454226.000000  \n",
       "mean       -2.246409       3.825618       0.281331  \n",
       "std         0.988841       3.225913       0.449649  \n",
       "min       -11.790075      -9.210526       0.000000  \n",
       "25%        -2.776215       1.318772       0.000000  \n",
       "50%        -2.110811       3.284440       0.000000  \n",
       "75%        -1.562408       5.803056       1.000000  \n",
       "max         7.350334      24.070000       1.000000  "
      ]
     },
     "execution_count": 292,
     "metadata": {},
     "output_type": "execute_result"
    }
   ],
   "source": [
    "emlcfconcat.describe()"
   ]
  },
  {
   "cell_type": "markdown",
   "id": "2e6843a3",
   "metadata": {},
   "source": [
    "Visualize the data after the datasets have been merged.."
   ]
  },
  {
   "cell_type": "code",
   "execution_count": 293,
   "id": "751141db",
   "metadata": {
    "scrolled": true
   },
   "outputs": [
    {
     "data": {
      "text/plain": [
       "<AxesSubplot:>"
      ]
     },
     "execution_count": 293,
     "metadata": {},
     "output_type": "execute_result"
    },
    {
     "data": {
      "image/png": "[encoded data removed]",
      "text/plain": [
       "<Figure size 432x288 with 1 Axes>"
      ]
     },
     "metadata": {
      "needs_background": "light"
     },
     "output_type": "display_data"
    }
   ],
   "source": [
    "emlcfconcat.NEE.plot()"
   ]
  },
  {
   "cell_type": "markdown",
   "id": "908100fb",
   "metadata": {},
   "source": [
    "Export concatenated EML Carbon Flux datasets for years 2004-2010"
   ]
  },
  {
   "cell_type": "code",
   "execution_count": 294,
   "id": "2e0a67b6",
   "metadata": {},
   "outputs": [],
   "source": [
    "emlcfconcat.index = emlcfconcat['date']\n",
    "emlcfconcat.to_csv('AK_EML_CarbonFluxes_2004-2010.csv')"
   ]
  },
  {
   "cell_type": "markdown",
   "id": "9a4b2872",
   "metadata": {
    "scrolled": false
   },
   "source": [
    "### Eight Mile Lake-Thaw Gradient: Physical properties of soil (temperature, moisure and thaw depth)\n",
    "DOI: http://dx.doi.org/10.6073/pasta/6bffaf21fbd1d2704b37da01fbbca623"
   ]
  },
  {
   "cell_type": "code",
   "execution_count": 295,
   "id": "ca427a84",
   "metadata": {},
   "outputs": [],
   "source": [
    "EMLurl2=\"https://www.lter.uaf.edu/php/download_data.php?f=/data_files/ascii/files/534_footprint_alt_2008.txt\""
   ]
  },
  {
   "cell_type": "markdown",
   "id": "ca9aa7f6",
   "metadata": {},
   "source": [
    "Read in url link as csv file, state Na values and print dataset information"
   ]
  },
  {
   "cell_type": "code",
   "execution_count": 296,
   "id": "842287fa",
   "metadata": {
    "scrolled": true
   },
   "outputs": [
    {
     "name": "stdout",
     "output_type": "stream",
     "text": [
      "<class 'pandas.core.frame.DataFrame'>\n",
      "RangeIndex: 229 entries, 0 to 228\n",
      "Data columns (total 18 columns):\n",
      " #   Column        Non-Null Count  Dtype  \n",
      "---  ------        --------------  -----  \n",
      " 0   site          229 non-null    int64  \n",
      " 1   northing      229 non-null    float64\n",
      " 2   easting       229 non-null    float64\n",
      " 3   ele           229 non-null    float64\n",
      " 4   Date          229 non-null    object \n",
      " 5   Time          229 non-null    object \n",
      " 6   st_10         229 non-null    float64\n",
      " 7   st_20         229 non-null    float64\n",
      " 8   sm_10         229 non-null    float64\n",
      " 9   millivolts    229 non-null    float64\n",
      " 10  %VWC_10       229 non-null    float64\n",
      " 11  sm_20         229 non-null    float64\n",
      " 12  millivolts.1  229 non-null    float64\n",
      " 13  %VWC_20       229 non-null    float64\n",
      " 14  TD1           229 non-null    float64\n",
      " 15  TD2           229 non-null    float64\n",
      " 16  TD3           229 non-null    float64\n",
      " 17  TD_avg        229 non-null    float64\n",
      "dtypes: float64(15), int64(1), object(2)\n",
      "memory usage: 32.3+ KB\n"
     ]
    }
   ],
   "source": [
    "EMLdf2=pd.read_csv(EMLurl2,sep=',',na_values={'-9999','NaN'})\n",
    "EMLdf2.info()"
   ]
  },
  {
   "cell_type": "code",
   "execution_count": 297,
   "id": "e3a79038",
   "metadata": {
    "scrolled": true
   },
   "outputs": [
    {
     "data": {
      "text/html": [
       "<div>\n",
       "<style scoped>\n",
       "    .dataframe tbody tr th:only-of-type {\n",
       "        vertical-align: middle;\n",
       "    }\n",
       "\n",
       "    .dataframe tbody tr th {\n",
       "        vertical-align: top;\n",
       "    }\n",
       "\n",
       "    .dataframe thead th {\n",
       "        text-align: right;\n",
       "    }\n",
       "</style>\n",
       "<table border=\"1\" class=\"dataframe\">\n",
       "  <thead>\n",
       "    <tr style=\"text-align: right;\">\n",
       "      <th></th>\n",
       "      <th>site</th>\n",
       "      <th>northing</th>\n",
       "      <th>easting</th>\n",
       "      <th>ele</th>\n",
       "      <th>Date</th>\n",
       "      <th>Time</th>\n",
       "      <th>st_10</th>\n",
       "      <th>st_20</th>\n",
       "      <th>sm_10</th>\n",
       "      <th>millivolts</th>\n",
       "      <th>%VWC_10</th>\n",
       "      <th>sm_20</th>\n",
       "      <th>millivolts.1</th>\n",
       "      <th>%VWC_20</th>\n",
       "      <th>TD1</th>\n",
       "      <th>TD2</th>\n",
       "      <th>TD3</th>\n",
       "      <th>TD_avg</th>\n",
       "    </tr>\n",
       "  </thead>\n",
       "  <tbody>\n",
       "    <tr>\n",
       "      <th>0</th>\n",
       "      <td>1</td>\n",
       "      <td>7085394.513</td>\n",
       "      <td>389438.366</td>\n",
       "      <td>658.111</td>\n",
       "      <td>2008-01-08</td>\n",
       "      <td>16:09</td>\n",
       "      <td>2.7</td>\n",
       "      <td>1.7</td>\n",
       "      <td>54.4</td>\n",
       "      <td>18.4</td>\n",
       "      <td>16.5</td>\n",
       "      <td>40.6</td>\n",
       "      <td>24.6</td>\n",
       "      <td>26.3</td>\n",
       "      <td>35.5</td>\n",
       "      <td>40.0</td>\n",
       "      <td>36.3</td>\n",
       "      <td>37.27</td>\n",
       "    </tr>\n",
       "    <tr>\n",
       "      <th>1</th>\n",
       "      <td>2</td>\n",
       "      <td>7085395.139</td>\n",
       "      <td>389414.092</td>\n",
       "      <td>658.121</td>\n",
       "      <td>2008-03-08</td>\n",
       "      <td>12:10</td>\n",
       "      <td>3.9</td>\n",
       "      <td>2.8</td>\n",
       "      <td>41.8</td>\n",
       "      <td>23.9</td>\n",
       "      <td>25.2</td>\n",
       "      <td>32.4</td>\n",
       "      <td>30.9</td>\n",
       "      <td>36.1</td>\n",
       "      <td>43.6</td>\n",
       "      <td>35.0</td>\n",
       "      <td>40.1</td>\n",
       "      <td>39.57</td>\n",
       "    </tr>\n",
       "    <tr>\n",
       "      <th>2</th>\n",
       "      <td>3</td>\n",
       "      <td>7085394.427</td>\n",
       "      <td>389389.890</td>\n",
       "      <td>658.127</td>\n",
       "      <td>2008-03-08</td>\n",
       "      <td>12:19</td>\n",
       "      <td>2.8</td>\n",
       "      <td>2.1</td>\n",
       "      <td>53.3</td>\n",
       "      <td>18.8</td>\n",
       "      <td>17.1</td>\n",
       "      <td>37.8</td>\n",
       "      <td>26.5</td>\n",
       "      <td>29.2</td>\n",
       "      <td>36.2</td>\n",
       "      <td>34.0</td>\n",
       "      <td>38.2</td>\n",
       "      <td>36.13</td>\n",
       "    </tr>\n",
       "    <tr>\n",
       "      <th>3</th>\n",
       "      <td>4</td>\n",
       "      <td>7085396.670</td>\n",
       "      <td>389365.839</td>\n",
       "      <td>657.923</td>\n",
       "      <td>2008-03-08</td>\n",
       "      <td>17:34</td>\n",
       "      <td>8.4</td>\n",
       "      <td>4.8</td>\n",
       "      <td>54.1</td>\n",
       "      <td>18.5</td>\n",
       "      <td>16.7</td>\n",
       "      <td>41.2</td>\n",
       "      <td>24.3</td>\n",
       "      <td>25.7</td>\n",
       "      <td>38.0</td>\n",
       "      <td>44.9</td>\n",
       "      <td>40.6</td>\n",
       "      <td>41.17</td>\n",
       "    </tr>\n",
       "    <tr>\n",
       "      <th>4</th>\n",
       "      <td>5</td>\n",
       "      <td>7085398.731</td>\n",
       "      <td>389342.848</td>\n",
       "      <td>658.047</td>\n",
       "      <td>2008-03-08</td>\n",
       "      <td>17:43</td>\n",
       "      <td>6.4</td>\n",
       "      <td>3.1</td>\n",
       "      <td>38.6</td>\n",
       "      <td>25.9</td>\n",
       "      <td>28.3</td>\n",
       "      <td>31.3</td>\n",
       "      <td>31.9</td>\n",
       "      <td>37.8</td>\n",
       "      <td>31.9</td>\n",
       "      <td>36.9</td>\n",
       "      <td>40.3</td>\n",
       "      <td>36.37</td>\n",
       "    </tr>\n",
       "  </tbody>\n",
       "</table>\n",
       "</div>"
      ],
      "text/plain": [
       "   site     northing     easting      ele       Date   Time   st_10  st_20  \\\n",
       "0     1  7085394.513  389438.366  658.111  2008-01-08  16:09    2.7    1.7   \n",
       "1     2  7085395.139  389414.092  658.121  2008-03-08  12:10    3.9    2.8   \n",
       "2     3  7085394.427  389389.890  658.127  2008-03-08  12:19    2.8    2.1   \n",
       "3     4  7085396.670  389365.839  657.923  2008-03-08  17:34    8.4    4.8   \n",
       "4     5  7085398.731  389342.848  658.047  2008-03-08  17:43    6.4    3.1   \n",
       "\n",
       "   sm_10  millivolts  %VWC_10  sm_20  millivolts.1  %VWC_20   TD1   TD2   TD3  \\\n",
       "0   54.4        18.4     16.5   40.6          24.6     26.3  35.5  40.0  36.3   \n",
       "1   41.8        23.9     25.2   32.4          30.9     36.1  43.6  35.0  40.1   \n",
       "2   53.3        18.8     17.1   37.8          26.5     29.2  36.2  34.0  38.2   \n",
       "3   54.1        18.5     16.7   41.2          24.3     25.7  38.0  44.9  40.6   \n",
       "4   38.6        25.9     28.3   31.3          31.9     37.8  31.9  36.9  40.3   \n",
       "\n",
       "   TD_avg  \n",
       "0   37.27  \n",
       "1   39.57  \n",
       "2   36.13  \n",
       "3   41.17  \n",
       "4   36.37  "
      ]
     },
     "execution_count": 297,
     "metadata": {},
     "output_type": "execute_result"
    }
   ],
   "source": [
    "EMLdf2.head()"
   ]
  },
  {
   "cell_type": "markdown",
   "id": "a6d8966e",
   "metadata": {},
   "source": [
    "format date into datetime format..\n",
    "Combine date and time to create new DateTime column..\n",
    "extract DOY and Year from Date "
   ]
  },
  {
   "cell_type": "code",
   "execution_count": 298,
   "id": "d79685b4",
   "metadata": {},
   "outputs": [
    {
     "data": {
      "text/html": [
       "<div>\n",
       "<style scoped>\n",
       "    .dataframe tbody tr th:only-of-type {\n",
       "        vertical-align: middle;\n",
       "    }\n",
       "\n",
       "    .dataframe tbody tr th {\n",
       "        vertical-align: top;\n",
       "    }\n",
       "\n",
       "    .dataframe thead th {\n",
       "        text-align: right;\n",
       "    }\n",
       "</style>\n",
       "<table border=\"1\" class=\"dataframe\">\n",
       "  <thead>\n",
       "    <tr style=\"text-align: right;\">\n",
       "      <th></th>\n",
       "      <th>site</th>\n",
       "      <th>northing</th>\n",
       "      <th>easting</th>\n",
       "      <th>ele</th>\n",
       "      <th>Date</th>\n",
       "      <th>Time</th>\n",
       "      <th>st_10</th>\n",
       "      <th>st_20</th>\n",
       "      <th>sm_10</th>\n",
       "      <th>millivolts</th>\n",
       "      <th>...</th>\n",
       "      <th>sm_20</th>\n",
       "      <th>millivolts.1</th>\n",
       "      <th>%VWC_20</th>\n",
       "      <th>TD1</th>\n",
       "      <th>TD2</th>\n",
       "      <th>TD3</th>\n",
       "      <th>TD_avg</th>\n",
       "      <th>DateTime</th>\n",
       "      <th>Doy</th>\n",
       "      <th>Year</th>\n",
       "    </tr>\n",
       "  </thead>\n",
       "  <tbody>\n",
       "    <tr>\n",
       "      <th>0</th>\n",
       "      <td>1</td>\n",
       "      <td>7085394.513</td>\n",
       "      <td>389438.366</td>\n",
       "      <td>658.111</td>\n",
       "      <td>2008-08-01</td>\n",
       "      <td>16:09</td>\n",
       "      <td>2.7</td>\n",
       "      <td>1.7</td>\n",
       "      <td>54.4</td>\n",
       "      <td>18.4</td>\n",
       "      <td>...</td>\n",
       "      <td>40.6</td>\n",
       "      <td>24.6</td>\n",
       "      <td>26.3</td>\n",
       "      <td>35.5</td>\n",
       "      <td>40.0</td>\n",
       "      <td>36.3</td>\n",
       "      <td>37.27</td>\n",
       "      <td>2008-08-01 16:09:00</td>\n",
       "      <td>214</td>\n",
       "      <td>2008</td>\n",
       "    </tr>\n",
       "    <tr>\n",
       "      <th>1</th>\n",
       "      <td>2</td>\n",
       "      <td>7085395.139</td>\n",
       "      <td>389414.092</td>\n",
       "      <td>658.121</td>\n",
       "      <td>2008-08-03</td>\n",
       "      <td>12:10</td>\n",
       "      <td>3.9</td>\n",
       "      <td>2.8</td>\n",
       "      <td>41.8</td>\n",
       "      <td>23.9</td>\n",
       "      <td>...</td>\n",
       "      <td>32.4</td>\n",
       "      <td>30.9</td>\n",
       "      <td>36.1</td>\n",
       "      <td>43.6</td>\n",
       "      <td>35.0</td>\n",
       "      <td>40.1</td>\n",
       "      <td>39.57</td>\n",
       "      <td>2008-08-03 12:10:00</td>\n",
       "      <td>216</td>\n",
       "      <td>2008</td>\n",
       "    </tr>\n",
       "    <tr>\n",
       "      <th>2</th>\n",
       "      <td>3</td>\n",
       "      <td>7085394.427</td>\n",
       "      <td>389389.890</td>\n",
       "      <td>658.127</td>\n",
       "      <td>2008-08-03</td>\n",
       "      <td>12:19</td>\n",
       "      <td>2.8</td>\n",
       "      <td>2.1</td>\n",
       "      <td>53.3</td>\n",
       "      <td>18.8</td>\n",
       "      <td>...</td>\n",
       "      <td>37.8</td>\n",
       "      <td>26.5</td>\n",
       "      <td>29.2</td>\n",
       "      <td>36.2</td>\n",
       "      <td>34.0</td>\n",
       "      <td>38.2</td>\n",
       "      <td>36.13</td>\n",
       "      <td>2008-08-03 12:19:00</td>\n",
       "      <td>216</td>\n",
       "      <td>2008</td>\n",
       "    </tr>\n",
       "    <tr>\n",
       "      <th>3</th>\n",
       "      <td>4</td>\n",
       "      <td>7085396.670</td>\n",
       "      <td>389365.839</td>\n",
       "      <td>657.923</td>\n",
       "      <td>2008-08-03</td>\n",
       "      <td>17:34</td>\n",
       "      <td>8.4</td>\n",
       "      <td>4.8</td>\n",
       "      <td>54.1</td>\n",
       "      <td>18.5</td>\n",
       "      <td>...</td>\n",
       "      <td>41.2</td>\n",
       "      <td>24.3</td>\n",
       "      <td>25.7</td>\n",
       "      <td>38.0</td>\n",
       "      <td>44.9</td>\n",
       "      <td>40.6</td>\n",
       "      <td>41.17</td>\n",
       "      <td>2008-08-03 17:34:00</td>\n",
       "      <td>216</td>\n",
       "      <td>2008</td>\n",
       "    </tr>\n",
       "    <tr>\n",
       "      <th>4</th>\n",
       "      <td>5</td>\n",
       "      <td>7085398.731</td>\n",
       "      <td>389342.848</td>\n",
       "      <td>658.047</td>\n",
       "      <td>2008-08-03</td>\n",
       "      <td>17:43</td>\n",
       "      <td>6.4</td>\n",
       "      <td>3.1</td>\n",
       "      <td>38.6</td>\n",
       "      <td>25.9</td>\n",
       "      <td>...</td>\n",
       "      <td>31.3</td>\n",
       "      <td>31.9</td>\n",
       "      <td>37.8</td>\n",
       "      <td>31.9</td>\n",
       "      <td>36.9</td>\n",
       "      <td>40.3</td>\n",
       "      <td>36.37</td>\n",
       "      <td>2008-08-03 17:43:00</td>\n",
       "      <td>216</td>\n",
       "      <td>2008</td>\n",
       "    </tr>\n",
       "  </tbody>\n",
       "</table>\n",
       "<p>5 rows × 21 columns</p>\n",
       "</div>"
      ],
      "text/plain": [
       "   site     northing     easting      ele        Date   Time  st_10  st_20  \\\n",
       "0     1  7085394.513  389438.366  658.111  2008-08-01  16:09    2.7    1.7   \n",
       "1     2  7085395.139  389414.092  658.121  2008-08-03  12:10    3.9    2.8   \n",
       "2     3  7085394.427  389389.890  658.127  2008-08-03  12:19    2.8    2.1   \n",
       "3     4  7085396.670  389365.839  657.923  2008-08-03  17:34    8.4    4.8   \n",
       "4     5  7085398.731  389342.848  658.047  2008-08-03  17:43    6.4    3.1   \n",
       "\n",
       "   sm_10  millivolts  ...  sm_20  millivolts.1  %VWC_20   TD1   TD2   TD3  \\\n",
       "0   54.4        18.4  ...   40.6          24.6     26.3  35.5  40.0  36.3   \n",
       "1   41.8        23.9  ...   32.4          30.9     36.1  43.6  35.0  40.1   \n",
       "2   53.3        18.8  ...   37.8          26.5     29.2  36.2  34.0  38.2   \n",
       "3   54.1        18.5  ...   41.2          24.3     25.7  38.0  44.9  40.6   \n",
       "4   38.6        25.9  ...   31.3          31.9     37.8  31.9  36.9  40.3   \n",
       "\n",
       "   TD_avg            DateTime  Doy  Year  \n",
       "0   37.27 2008-08-01 16:09:00  214  2008  \n",
       "1   39.57 2008-08-03 12:10:00  216  2008  \n",
       "2   36.13 2008-08-03 12:19:00  216  2008  \n",
       "3   41.17 2008-08-03 17:34:00  216  2008  \n",
       "4   36.37 2008-08-03 17:43:00  216  2008  \n",
       "\n",
       "[5 rows x 21 columns]"
      ]
     },
     "execution_count": 298,
     "metadata": {},
     "output_type": "execute_result"
    }
   ],
   "source": [
    "EMLdf2['Date ']=pd.to_datetime(EMLdf2['Date '])\n",
    "EMLdf2['Date '] = EMLdf2['Date '].dt.strftime('%Y-%d-%m')\n",
    "EMLdf2['DateTime'] = pd.to_datetime(EMLdf2['Date '].apply(str)+' '+EMLdf2['Time '])\n",
    "EMLdf2[\"Doy\"]=EMLdf2['DateTime'].dt.dayofyear\n",
    "EMLdf2[\"Year\"]=EMLdf2['DateTime'].dt.year\n",
    "EMLdf2=EMLdf2.rename(columns={\"Date \": \"Date\",'Time ':'Time'})\n",
    "EMLdf2.head()"
   ]
  },
  {
   "cell_type": "markdown",
   "id": "3baa0180",
   "metadata": {},
   "source": [
    "Plot out variables to visualize the data.."
   ]
  },
  {
   "cell_type": "code",
   "execution_count": 299,
   "id": "abadb685",
   "metadata": {
    "scrolled": true
   },
   "outputs": [
    {
     "data": {
      "text/plain": [
       "<AxesSubplot:>"
      ]
     },
     "execution_count": 299,
     "metadata": {},
     "output_type": "execute_result"
    },
    {
     "data": {
      "image/png": "[encoded data removed]",
      "text/plain": [
       "<Figure size 432x288 with 1 Axes>"
      ]
     },
     "metadata": {
      "needs_background": "light"
     },
     "output_type": "display_data"
    },
    {
     "data": {
      "image/png": "[encoded data removed]",
      "text/plain": [
       "<Figure size 432x288 with 1 Axes>"
      ]
     },
     "metadata": {
      "needs_background": "light"
     },
     "output_type": "display_data"
    }
   ],
   "source": [
    "EMLdf2[['st_10','st_20']].plot(legend=True)\n",
    "EMLdf2[['%VWC_10','%VWC_20']].plot(legend=True)"
   ]
  },
  {
   "cell_type": "markdown",
   "id": "be296724",
   "metadata": {},
   "source": [
    "Set date as index to remove row number index..export to csv when done"
   ]
  },
  {
   "cell_type": "code",
   "execution_count": 300,
   "id": "93519dc1",
   "metadata": {},
   "outputs": [],
   "source": [
    "EMLdf2.index = EMLdf2['Date']\n",
    "EMLdf2.to_csv('ak_eml_bnzlter_soilproperties_2008.csv')"
   ]
  },
  {
   "cell_type": "markdown",
   "id": "13a33345",
   "metadata": {},
   "source": [
    "### Eight Mile Lake: Eddy covariance CO2 flux data\n",
    "DOI: http://dx.doi.org/10.6073/pasta/a566c09857cfce4882509555661a1447"
   ]
  },
  {
   "cell_type": "markdown",
   "id": "cba620a4",
   "metadata": {},
   "source": [
    "Read in csv data from url link and print dataset info"
   ]
  },
  {
   "cell_type": "code",
   "execution_count": 301,
   "id": "a56f0639",
   "metadata": {},
   "outputs": [],
   "source": [
    "EMLurl3=\"https://www.lter.uaf.edu/php/download_data.php?f=/data_files/ascii/files/447_healy_EC_gapfilled_09.txt\"\n",
    "EMLdf3=pd.read_csv(EMLurl3)"
   ]
  },
  {
   "cell_type": "markdown",
   "id": "89941685",
   "metadata": {
    "scrolled": true
   },
   "source": [
    "EMLdf3.info()"
   ]
  },
  {
   "cell_type": "markdown",
   "id": "b1e219c1",
   "metadata": {},
   "source": [
    "Unnamed Columns appear to be empty, remove from dataset.."
   ]
  },
  {
   "cell_type": "code",
   "execution_count": 302,
   "id": "b6c1218b",
   "metadata": {},
   "outputs": [],
   "source": [
    "EMLdf3=EMLdf3.drop(columns=['Unnamed: 16', 'Unnamed: 22','Unnamed: 19']) #remove two unnamed columns which contain all null values"
   ]
  },
  {
   "cell_type": "code",
   "execution_count": 303,
   "id": "e6cfed1c",
   "metadata": {
    "scrolled": true
   },
   "outputs": [
    {
     "data": {
      "text/html": [
       "<div>\n",
       "<style scoped>\n",
       "    .dataframe tbody tr th:only-of-type {\n",
       "        vertical-align: middle;\n",
       "    }\n",
       "\n",
       "    .dataframe tbody tr th {\n",
       "        vertical-align: top;\n",
       "    }\n",
       "\n",
       "    .dataframe thead th {\n",
       "        text-align: right;\n",
       "    }\n",
       "</style>\n",
       "<table border=\"1\" class=\"dataframe\">\n",
       "  <thead>\n",
       "    <tr style=\"text-align: right;\">\n",
       "      <th></th>\n",
       "      <th>Year</th>\n",
       "      <th>Month</th>\n",
       "      <th>Day</th>\n",
       "      <th>time</th>\n",
       "      <th>week</th>\n",
       "      <th>PPFD</th>\n",
       "      <th>netrad</th>\n",
       "      <th>TA</th>\n",
       "      <th>TA K</th>\n",
       "      <th>Ts</th>\n",
       "      <th>...</th>\n",
       "      <th>Calculated NEE</th>\n",
       "      <th>Calculated Re</th>\n",
       "      <th>gapfilled reco</th>\n",
       "      <th>gapfilled NEE</th>\n",
       "      <th>GEP</th>\n",
       "      <th>NEE g Cm-2</th>\n",
       "      <th>GEP g Cm-2</th>\n",
       "      <th>Re g Cm-2</th>\n",
       "      <th>Date</th>\n",
       "      <th>Doy</th>\n",
       "    </tr>\n",
       "  </thead>\n",
       "  <tbody>\n",
       "    <tr>\n",
       "      <th>0</th>\n",
       "      <td>2009</td>\n",
       "      <td>3</td>\n",
       "      <td>24</td>\n",
       "      <td>0.0</td>\n",
       "      <td>12</td>\n",
       "      <td>0.0</td>\n",
       "      <td>-38.20696</td>\n",
       "      <td>-17.75414</td>\n",
       "      <td>255.4</td>\n",
       "      <td>-8.09</td>\n",
       "      <td>...</td>\n",
       "      <td>0.568647</td>\n",
       "      <td>0.568647</td>\n",
       "      <td>1.329369</td>\n",
       "      <td>1.329369</td>\n",
       "      <td>0.0</td>\n",
       "      <td>0.028738</td>\n",
       "      <td>0.0</td>\n",
       "      <td>0.028738</td>\n",
       "      <td>2009-03-24</td>\n",
       "      <td>83</td>\n",
       "    </tr>\n",
       "    <tr>\n",
       "      <th>1</th>\n",
       "      <td>2009</td>\n",
       "      <td>3</td>\n",
       "      <td>24</td>\n",
       "      <td>0.5</td>\n",
       "      <td>12</td>\n",
       "      <td>0.0</td>\n",
       "      <td>-37.47469</td>\n",
       "      <td>-18.47527</td>\n",
       "      <td>254.7</td>\n",
       "      <td>-8.08</td>\n",
       "      <td>...</td>\n",
       "      <td>0.569272</td>\n",
       "      <td>0.569272</td>\n",
       "      <td>1.318850</td>\n",
       "      <td>1.318850</td>\n",
       "      <td>0.0</td>\n",
       "      <td>0.028511</td>\n",
       "      <td>0.0</td>\n",
       "      <td>0.028511</td>\n",
       "      <td>2009-03-24</td>\n",
       "      <td>83</td>\n",
       "    </tr>\n",
       "    <tr>\n",
       "      <th>2</th>\n",
       "      <td>2009</td>\n",
       "      <td>3</td>\n",
       "      <td>24</td>\n",
       "      <td>1.0</td>\n",
       "      <td>12</td>\n",
       "      <td>0.0</td>\n",
       "      <td>-38.34639</td>\n",
       "      <td>-18.50944</td>\n",
       "      <td>254.6</td>\n",
       "      <td>-8.08</td>\n",
       "      <td>...</td>\n",
       "      <td>0.569272</td>\n",
       "      <td>0.569272</td>\n",
       "      <td>1.861610</td>\n",
       "      <td>1.861610</td>\n",
       "      <td>0.0</td>\n",
       "      <td>0.040244</td>\n",
       "      <td>0.0</td>\n",
       "      <td>0.040244</td>\n",
       "      <td>2009-03-24</td>\n",
       "      <td>83</td>\n",
       "    </tr>\n",
       "    <tr>\n",
       "      <th>3</th>\n",
       "      <td>2009</td>\n",
       "      <td>3</td>\n",
       "      <td>24</td>\n",
       "      <td>1.5</td>\n",
       "      <td>12</td>\n",
       "      <td>0.0</td>\n",
       "      <td>-37.35448</td>\n",
       "      <td>-19.57649</td>\n",
       "      <td>253.6</td>\n",
       "      <td>-8.07</td>\n",
       "      <td>...</td>\n",
       "      <td>0.569898</td>\n",
       "      <td>0.569898</td>\n",
       "      <td>0.569898</td>\n",
       "      <td>0.569898</td>\n",
       "      <td>0.0</td>\n",
       "      <td>0.012320</td>\n",
       "      <td>0.0</td>\n",
       "      <td>0.012320</td>\n",
       "      <td>2009-03-24</td>\n",
       "      <td>83</td>\n",
       "    </tr>\n",
       "    <tr>\n",
       "      <th>4</th>\n",
       "      <td>2009</td>\n",
       "      <td>3</td>\n",
       "      <td>24</td>\n",
       "      <td>2.0</td>\n",
       "      <td>12</td>\n",
       "      <td>0.0</td>\n",
       "      <td>-37.38875</td>\n",
       "      <td>-19.30055</td>\n",
       "      <td>253.8</td>\n",
       "      <td>-8.07</td>\n",
       "      <td>...</td>\n",
       "      <td>0.569898</td>\n",
       "      <td>0.569898</td>\n",
       "      <td>1.484271</td>\n",
       "      <td>1.484271</td>\n",
       "      <td>0.0</td>\n",
       "      <td>0.032087</td>\n",
       "      <td>0.0</td>\n",
       "      <td>0.032087</td>\n",
       "      <td>2009-03-24</td>\n",
       "      <td>83</td>\n",
       "    </tr>\n",
       "  </tbody>\n",
       "</table>\n",
       "<p>5 rows × 26 columns</p>\n",
       "</div>"
      ],
      "text/plain": [
       "   Year  Month  Day  time  week  PPFD    netrad        TA   TA K    Ts  ...  \\\n",
       "0  2009      3   24   0.0    12   0.0 -38.20696 -17.75414  255.4 -8.09  ...   \n",
       "1  2009      3   24   0.5    12   0.0 -37.47469 -18.47527  254.7 -8.08  ...   \n",
       "2  2009      3   24   1.0    12   0.0 -38.34639 -18.50944  254.6 -8.08  ...   \n",
       "3  2009      3   24   1.5    12   0.0 -37.35448 -19.57649  253.6 -8.07  ...   \n",
       "4  2009      3   24   2.0    12   0.0 -37.38875 -19.30055  253.8 -8.07  ...   \n",
       "\n",
       "   Calculated NEE  Calculated Re  gapfilled reco  gapfilled NEE  GEP  \\\n",
       "0        0.568647       0.568647        1.329369       1.329369  0.0   \n",
       "1        0.569272       0.569272        1.318850       1.318850  0.0   \n",
       "2        0.569272       0.569272        1.861610       1.861610  0.0   \n",
       "3        0.569898       0.569898        0.569898       0.569898  0.0   \n",
       "4        0.569898       0.569898        1.484271       1.484271  0.0   \n",
       "\n",
       "   NEE g Cm-2  GEP g Cm-2  Re g Cm-2       Date  Doy  \n",
       "0    0.028738         0.0   0.028738 2009-03-24   83  \n",
       "1    0.028511         0.0   0.028511 2009-03-24   83  \n",
       "2    0.040244         0.0   0.040244 2009-03-24   83  \n",
       "3    0.012320         0.0   0.012320 2009-03-24   83  \n",
       "4    0.032087         0.0   0.032087 2009-03-24   83  \n",
       "\n",
       "[5 rows x 26 columns]"
      ]
     },
     "execution_count": 303,
     "metadata": {},
     "output_type": "execute_result"
    }
   ],
   "source": [
    "#Re-format Date to match that of other datasets: Year, Month, Day\n",
    "EMLdf3['Date']= pd.to_datetime(EMLdf3[['Year','Month','Day']],format='%Y-%m-%d')\n",
    "EMLdf3[\"Doy\"]=EMLdf3['Date'].dt.dayofyear\n",
    "EMLdf3.head()"
   ]
  },
  {
   "cell_type": "markdown",
   "id": "af088b75",
   "metadata": {},
   "source": [
    "Visualize NEE, GEP, and ecosystem respiration"
   ]
  },
  {
   "cell_type": "code",
   "execution_count": 304,
   "id": "be2a2db9",
   "metadata": {},
   "outputs": [
    {
     "data": {
      "text/plain": [
       "<AxesSubplot:>"
      ]
     },
     "execution_count": 304,
     "metadata": {},
     "output_type": "execute_result"
    },
    {
     "data": {
      "image/png": "[encoded data removed]",
      "text/plain": [
       "<Figure size 432x288 with 1 Axes>"
      ]
     },
     "metadata": {
      "needs_background": "light"
     },
     "output_type": "display_data"
    }
   ],
   "source": [
    "EMLdf3[['NEE g Cm-2','GEP g Cm-2','Re g Cm-2']].plot()\n"
   ]
  },
  {
   "cell_type": "code",
   "execution_count": 305,
   "id": "1ef6bedd",
   "metadata": {
    "scrolled": false
   },
   "outputs": [
    {
     "data": {
      "text/plain": [
       "<AxesSubplot:>"
      ]
     },
     "execution_count": 305,
     "metadata": {},
     "output_type": "execute_result"
    },
    {
     "data": {
      "image/png": "[encoded data removed]",
      "text/plain": [
       "<Figure size 432x288 with 1 Axes>"
      ]
     },
     "metadata": {
      "needs_background": "light"
     },
     "output_type": "display_data"
    }
   ],
   "source": [
    "EMLdf3.Ts.plot()"
   ]
  },
  {
   "cell_type": "markdown",
   "id": "4fd6fb6e",
   "metadata": {},
   "source": [
    "When ready to export as a csv"
   ]
  },
  {
   "cell_type": "code",
   "execution_count": 306,
   "id": "2c2c5803",
   "metadata": {},
   "outputs": [],
   "source": [
    "EMLdf3.index = EMLdf3['Date']\n",
    "EMLdf3.to_csv('ak_healy_bnzlter_eddycovariance_2009.csv')"
   ]
  },
  {
   "cell_type": "markdown",
   "id": "a879a23c",
   "metadata": {},
   "source": [
    "### Thaw Gradient: Eight Mile Lake soil carbon and nitrogen 2004\n",
    "DOI: http://dx.doi.org/10.6073/pasta/31b32868ddbb099c4b5480fb00eb2481"
   ]
  },
  {
   "cell_type": "code",
   "execution_count": 307,
   "id": "c4a23692",
   "metadata": {},
   "outputs": [],
   "source": [
    "\n",
    "EMLurl4=\"https://www.lter.uaf.edu/php/download_data.php?f=/data_files/ascii/files/366_Healy_Soil_C_and_N_inventory.txt\"\n",
    "EMLdf4=pd.read_csv(EMLurl4,na_values={'-9999','NaN'})"
   ]
  },
  {
   "cell_type": "code",
   "execution_count": 308,
   "id": "ebe2fbb2",
   "metadata": {},
   "outputs": [
    {
     "name": "stdout",
     "output_type": "stream",
     "text": [
      "<class 'pandas.core.frame.DataFrame'>\n",
      "RangeIndex: 159 entries, 0 to 158\n",
      "Data columns (total 12 columns):\n",
      " #   Column       Non-Null Count  Dtype  \n",
      "---  ------       --------------  -----  \n",
      " 0   Site         159 non-null    object \n",
      " 1   Core         159 non-null    int64  \n",
      " 2   O or M       159 non-null    object \n",
      " 3   Layer        159 non-null    object \n",
      " 4   Depth        159 non-null    float64\n",
      " 5   %N           153 non-null    float64\n",
      " 6   %C           153 non-null    float64\n",
      " 7   delta14N     153 non-null    float64\n",
      " 8   delta13C     153 non-null    float64\n",
      " 9   gN/m2        153 non-null    float64\n",
      " 10  gC/m2        153 non-null    float64\n",
      " 11  BulkDensity  153 non-null    float64\n",
      "dtypes: float64(8), int64(1), object(3)\n",
      "memory usage: 15.0+ KB\n"
     ]
    }
   ],
   "source": [
    "EMLdf4.info()"
   ]
  },
  {
   "cell_type": "code",
   "execution_count": 309,
   "id": "85d1c16a",
   "metadata": {
    "scrolled": true
   },
   "outputs": [
    {
     "data": {
      "text/html": [
       "<div>\n",
       "<style scoped>\n",
       "    .dataframe tbody tr th:only-of-type {\n",
       "        vertical-align: middle;\n",
       "    }\n",
       "\n",
       "    .dataframe tbody tr th {\n",
       "        vertical-align: top;\n",
       "    }\n",
       "\n",
       "    .dataframe thead th {\n",
       "        text-align: right;\n",
       "    }\n",
       "</style>\n",
       "<table border=\"1\" class=\"dataframe\">\n",
       "  <thead>\n",
       "    <tr style=\"text-align: right;\">\n",
       "      <th></th>\n",
       "      <th>Site</th>\n",
       "      <th>Core</th>\n",
       "      <th>O or M</th>\n",
       "      <th>Layer</th>\n",
       "      <th>Depth</th>\n",
       "      <th>Nitrogen</th>\n",
       "      <th>Carbon</th>\n",
       "      <th>delta14N</th>\n",
       "      <th>delta13C</th>\n",
       "      <th>gN/m2</th>\n",
       "      <th>gC/m2</th>\n",
       "      <th>BulkDensity</th>\n",
       "    </tr>\n",
       "  </thead>\n",
       "  <tbody>\n",
       "    <tr>\n",
       "      <th>0</th>\n",
       "      <td>Mod</td>\n",
       "      <td>1</td>\n",
       "      <td>O</td>\n",
       "      <td>0-5</td>\n",
       "      <td>5.0</td>\n",
       "      <td>0.70</td>\n",
       "      <td>43.57</td>\n",
       "      <td>-4.32</td>\n",
       "      <td>-27.79</td>\n",
       "      <td>22.50</td>\n",
       "      <td>1408.64</td>\n",
       "      <td>0.0647</td>\n",
       "    </tr>\n",
       "    <tr>\n",
       "      <th>1</th>\n",
       "      <td>Mod</td>\n",
       "      <td>1</td>\n",
       "      <td>O</td>\n",
       "      <td>5-15</td>\n",
       "      <td>10.0</td>\n",
       "      <td>0.76</td>\n",
       "      <td>42.97</td>\n",
       "      <td>-1.40</td>\n",
       "      <td>-26.45</td>\n",
       "      <td>49.58</td>\n",
       "      <td>2792.39</td>\n",
       "      <td>0.0650</td>\n",
       "    </tr>\n",
       "    <tr>\n",
       "      <th>2</th>\n",
       "      <td>Mod</td>\n",
       "      <td>1</td>\n",
       "      <td>O</td>\n",
       "      <td>15-25</td>\n",
       "      <td>10.0</td>\n",
       "      <td>1.41</td>\n",
       "      <td>40.05</td>\n",
       "      <td>0.89</td>\n",
       "      <td>-25.28</td>\n",
       "      <td>187.77</td>\n",
       "      <td>4959.11</td>\n",
       "      <td>0.1238</td>\n",
       "    </tr>\n",
       "    <tr>\n",
       "      <th>3</th>\n",
       "      <td>Mod</td>\n",
       "      <td>1</td>\n",
       "      <td>O</td>\n",
       "      <td>25-35</td>\n",
       "      <td>10.0</td>\n",
       "      <td>1.87</td>\n",
       "      <td>41.95</td>\n",
       "      <td>1.53</td>\n",
       "      <td>-25.51</td>\n",
       "      <td>307.90</td>\n",
       "      <td>6900.06</td>\n",
       "      <td>0.1645</td>\n",
       "    </tr>\n",
       "    <tr>\n",
       "      <th>4</th>\n",
       "      <td>Mod</td>\n",
       "      <td>1</td>\n",
       "      <td>O</td>\n",
       "      <td>35+</td>\n",
       "      <td>5.0</td>\n",
       "      <td>1.55</td>\n",
       "      <td>33.93</td>\n",
       "      <td>1.09</td>\n",
       "      <td>-26.66</td>\n",
       "      <td>190.13</td>\n",
       "      <td>4156.86</td>\n",
       "      <td>0.2450</td>\n",
       "    </tr>\n",
       "  </tbody>\n",
       "</table>\n",
       "</div>"
      ],
      "text/plain": [
       "  Site  Core O or M  Layer  Depth  Nitrogen  Carbon  delta14N  delta13C  \\\n",
       "0  Mod     1      O    0-5    5.0      0.70   43.57     -4.32    -27.79   \n",
       "1  Mod     1      O   5-15   10.0      0.76   42.97     -1.40    -26.45   \n",
       "2  Mod     1      O  15-25   10.0      1.41   40.05      0.89    -25.28   \n",
       "3  Mod     1      O  25-35   10.0      1.87   41.95      1.53    -25.51   \n",
       "4  Mod     1      O    35+    5.0      1.55   33.93      1.09    -26.66   \n",
       "\n",
       "    gN/m2    gC/m2  BulkDensity  \n",
       "0   22.50  1408.64       0.0647  \n",
       "1   49.58  2792.39       0.0650  \n",
       "2  187.77  4959.11       0.1238  \n",
       "3  307.90  6900.06       0.1645  \n",
       "4  190.13  4156.86       0.2450  "
      ]
     },
     "execution_count": 309,
     "metadata": {},
     "output_type": "execute_result"
    }
   ],
   "source": [
    "EMLdf4=EMLdf4.rename(columns={'%N':'Nitrogen','%C':'Carbon'})\n",
    "EMLdf4.head()"
   ]
  },
  {
   "cell_type": "markdown",
   "id": "c8d5f625",
   "metadata": {},
   "source": [
    "Visualize Nitrogen and Carbon variables"
   ]
  },
  {
   "cell_type": "code",
   "execution_count": 310,
   "id": "aed801f9",
   "metadata": {
    "scrolled": true
   },
   "outputs": [
    {
     "data": {
      "text/plain": [
       "<AxesSubplot:>"
      ]
     },
     "execution_count": 310,
     "metadata": {},
     "output_type": "execute_result"
    },
    {
     "data": {
      "image/png": "[encoded data removed]",
      "text/plain": [
       "<Figure size 432x288 with 1 Axes>"
      ]
     },
     "metadata": {
      "needs_background": "light"
     },
     "output_type": "display_data"
    }
   ],
   "source": [
    "EMLdf4.Nitrogen.plot()"
   ]
  },
  {
   "cell_type": "code",
   "execution_count": 311,
   "id": "8815e770",
   "metadata": {
    "scrolled": false
   },
   "outputs": [
    {
     "data": {
      "text/plain": [
       "<AxesSubplot:>"
      ]
     },
     "execution_count": 311,
     "metadata": {},
     "output_type": "execute_result"
    },
    {
     "data": {
      "image/png": "[encoded data removed]",
      "text/plain": [
       "<Figure size 432x288 with 1 Axes>"
      ]
     },
     "metadata": {
      "needs_background": "light"
     },
     "output_type": "display_data"
    }
   ],
   "source": [
    "EMLdf4.Carbon.plot()"
   ]
  },
  {
   "cell_type": "code",
   "execution_count": 312,
   "id": "3625e1c6",
   "metadata": {},
   "outputs": [
    {
     "data": {
      "text/plain": [
       "<AxesSubplot:>"
      ]
     },
     "execution_count": 312,
     "metadata": {},
     "output_type": "execute_result"
    },
    {
     "data": {
      "image/png": "[encoded data removed]",
      "text/plain": [
       "<Figure size 432x288 with 1 Axes>"
      ]
     },
     "metadata": {
      "needs_background": "light"
     },
     "output_type": "display_data"
    }
   ],
   "source": [
    "EMLdf4.BulkDensity.plot()"
   ]
  },
  {
   "cell_type": "markdown",
   "id": "f7068358",
   "metadata": {},
   "source": [
    "When ready to export"
   ]
  },
  {
   "cell_type": "code",
   "execution_count": 313,
   "id": "a7d63603",
   "metadata": {},
   "outputs": [],
   "source": [
    "EMLdf4.index = EMLdf4['Site']\n",
    "EMLdf4.to_csv('ak_healy_soil_C_and_N_inventory.csv')"
   ]
  },
  {
   "cell_type": "markdown",
   "id": "bc98f42f",
   "metadata": {},
   "source": [
    "### Eight Mile Lake Research Watershed, Thaw Gradient: Growing season CO2 fluxes and several ecosystem measurements\n",
    "DOI: http://dx.doi.org/10.6073/pasta/d96e0aa67603035457276b021109cd25"
   ]
  },
  {
   "cell_type": "code",
   "execution_count": 314,
   "id": "106faed8",
   "metadata": {},
   "outputs": [],
   "source": [
    "\n",
    "EMLurl5=\"https://www.lter.uaf.edu/php/download_data.php?f=/data_files/ascii/files/428_EMLfluxes.txt\"\n",
    "\n",
    "EMLdf5=pd.read_csv(EMLurl5,na_values={'-9999','NaN'})"
   ]
  },
  {
   "cell_type": "code",
   "execution_count": 315,
   "id": "4b1dba0c",
   "metadata": {
    "scrolled": true
   },
   "outputs": [
    {
     "name": "stdout",
     "output_type": "stream",
     "text": [
      "<class 'pandas.core.frame.DataFrame'>\n",
      "RangeIndex: 150 entries, 0 to 149\n",
      "Data columns (total 10 columns):\n",
      " #   Column   Non-Null Count  Dtype  \n",
      "---  ------   --------------  -----  \n",
      " 0   Site     150 non-null    object \n",
      " 1   Reco     150 non-null    float64\n",
      " 2   NEE      149 non-null    float64\n",
      " 3   GPP      150 non-null    float64\n",
      " 4   MT       136 non-null    float64\n",
      " 5   NDVI     149 non-null    float64\n",
      " 6   TD       150 non-null    float64\n",
      " 7   VWC      150 non-null    float64\n",
      " 8   T        150 non-null    float64\n",
      " 9   Biomass  150 non-null    float64\n",
      "dtypes: float64(9), object(1)\n",
      "memory usage: 11.8+ KB\n"
     ]
    }
   ],
   "source": [
    "EMLdf5.info()"
   ]
  },
  {
   "cell_type": "markdown",
   "id": "184c92d4",
   "metadata": {},
   "source": [
    "Rename ecosystem respiration column from Reco to Re to match previous datasets"
   ]
  },
  {
   "cell_type": "code",
   "execution_count": 316,
   "id": "2667e437",
   "metadata": {
    "scrolled": true
   },
   "outputs": [
    {
     "data": {
      "text/html": [
       "<div>\n",
       "<style scoped>\n",
       "    .dataframe tbody tr th:only-of-type {\n",
       "        vertical-align: middle;\n",
       "    }\n",
       "\n",
       "    .dataframe tbody tr th {\n",
       "        vertical-align: top;\n",
       "    }\n",
       "\n",
       "    .dataframe thead th {\n",
       "        text-align: right;\n",
       "    }\n",
       "</style>\n",
       "<table border=\"1\" class=\"dataframe\">\n",
       "  <thead>\n",
       "    <tr style=\"text-align: right;\">\n",
       "      <th></th>\n",
       "      <th>Site</th>\n",
       "      <th>Re</th>\n",
       "      <th>NEE</th>\n",
       "      <th>GPP</th>\n",
       "      <th>MT</th>\n",
       "      <th>NDVI</th>\n",
       "      <th>TD</th>\n",
       "      <th>VWC</th>\n",
       "      <th>T</th>\n",
       "      <th>Biomass</th>\n",
       "    </tr>\n",
       "  </thead>\n",
       "  <tbody>\n",
       "    <tr>\n",
       "      <th>0</th>\n",
       "      <td>Min01</td>\n",
       "      <td>1.004</td>\n",
       "      <td>1.502</td>\n",
       "      <td>2.507</td>\n",
       "      <td>-0.72</td>\n",
       "      <td>0.741</td>\n",
       "      <td>38.6</td>\n",
       "      <td>0.27</td>\n",
       "      <td>2.60</td>\n",
       "      <td>236.4</td>\n",
       "    </tr>\n",
       "    <tr>\n",
       "      <th>1</th>\n",
       "      <td>Min02</td>\n",
       "      <td>1.717</td>\n",
       "      <td>2.140</td>\n",
       "      <td>3.859</td>\n",
       "      <td>-0.72</td>\n",
       "      <td>0.765</td>\n",
       "      <td>47.7</td>\n",
       "      <td>0.27</td>\n",
       "      <td>1.61</td>\n",
       "      <td>155.1</td>\n",
       "    </tr>\n",
       "    <tr>\n",
       "      <th>2</th>\n",
       "      <td>Min03</td>\n",
       "      <td>2.370</td>\n",
       "      <td>2.538</td>\n",
       "      <td>4.910</td>\n",
       "      <td>0.06</td>\n",
       "      <td>0.702</td>\n",
       "      <td>35.7</td>\n",
       "      <td>0.15</td>\n",
       "      <td>3.15</td>\n",
       "      <td>629.6</td>\n",
       "    </tr>\n",
       "    <tr>\n",
       "      <th>3</th>\n",
       "      <td>Min04</td>\n",
       "      <td>2.071</td>\n",
       "      <td>2.092</td>\n",
       "      <td>4.165</td>\n",
       "      <td>-0.31</td>\n",
       "      <td>0.710</td>\n",
       "      <td>35.0</td>\n",
       "      <td>0.17</td>\n",
       "      <td>5.89</td>\n",
       "      <td>379.6</td>\n",
       "    </tr>\n",
       "    <tr>\n",
       "      <th>4</th>\n",
       "      <td>Min05</td>\n",
       "      <td>2.443</td>\n",
       "      <td>1.466</td>\n",
       "      <td>3.911</td>\n",
       "      <td>-0.26</td>\n",
       "      <td>0.757</td>\n",
       "      <td>37.4</td>\n",
       "      <td>0.20</td>\n",
       "      <td>3.22</td>\n",
       "      <td>634.7</td>\n",
       "    </tr>\n",
       "  </tbody>\n",
       "</table>\n",
       "</div>"
      ],
      "text/plain": [
       "    Site     Re    NEE    GPP    MT   NDVI    TD   VWC     T  Biomass\n",
       "0  Min01  1.004  1.502  2.507 -0.72  0.741  38.6  0.27  2.60    236.4\n",
       "1  Min02  1.717  2.140  3.859 -0.72  0.765  47.7  0.27  1.61    155.1\n",
       "2  Min03  2.370  2.538  4.910  0.06  0.702  35.7  0.15  3.15    629.6\n",
       "3  Min04  2.071  2.092  4.165 -0.31  0.710  35.0  0.17  5.89    379.6\n",
       "4  Min05  2.443  1.466  3.911 -0.26  0.757  37.4  0.20  3.22    634.7"
      ]
     },
     "execution_count": 316,
     "metadata": {},
     "output_type": "execute_result"
    }
   ],
   "source": [
    "EMLdf5=EMLdf5.rename(columns={'Reco':'Re'})\n",
    "EMLdf5.head()"
   ]
  },
  {
   "cell_type": "markdown",
   "id": "f9f865cb",
   "metadata": {},
   "source": [
    "Visualize the data"
   ]
  },
  {
   "cell_type": "code",
   "execution_count": 317,
   "id": "6339b177",
   "metadata": {
    "scrolled": true
   },
   "outputs": [
    {
     "data": {
      "text/plain": [
       "<AxesSubplot:>"
      ]
     },
     "execution_count": 317,
     "metadata": {},
     "output_type": "execute_result"
    },
    {
     "data": {
      "image/png": "[encoded data removed]",
      "text/plain": [
       "<Figure size 432x288 with 1 Axes>"
      ]
     },
     "metadata": {
      "needs_background": "light"
     },
     "output_type": "display_data"
    }
   ],
   "source": [
    "EMLdf5[['NEE','GPP','Re']].plot(legend=True)"
   ]
  },
  {
   "cell_type": "code",
   "execution_count": 318,
   "id": "cdb6aac7",
   "metadata": {
    "scrolled": true
   },
   "outputs": [
    {
     "data": {
      "text/plain": [
       "<AxesSubplot:>"
      ]
     },
     "execution_count": 318,
     "metadata": {},
     "output_type": "execute_result"
    },
    {
     "data": {
      "image/png": "[encoded data removed]",
      "text/plain": [
       "<Figure size 432x288 with 1 Axes>"
      ]
     },
     "metadata": {
      "needs_background": "light"
     },
     "output_type": "display_data"
    }
   ],
   "source": [
    "EMLdf5.NDVI.plot()"
   ]
  },
  {
   "cell_type": "code",
   "execution_count": 319,
   "id": "b0d6c953",
   "metadata": {},
   "outputs": [],
   "source": [
    "##### When ready to export\n",
    "EMLdf5.index = EMLdf5['Site']\n",
    "EMLdf5.to_csv('ak_eml_bnzlter_flux.csv')"
   ]
  },
  {
   "cell_type": "markdown",
   "id": "c06f4163",
   "metadata": {},
   "source": [
    "### Eight Mile Lake: Peak growing season biomass 2017\n",
    "DOI: http://dx.doi.org/10.6073/pasta/40f9ae60d635e5aac0e562ee006d24e2"
   ]
  },
  {
   "cell_type": "code",
   "execution_count": 320,
   "id": "f1e50806",
   "metadata": {},
   "outputs": [],
   "source": [
    "EMLurl6=\"https://www.lter.uaf.edu/php/download_data.php?f=/data_files/ascii/files/705_EML_AK_Gradient_BiomassBySpecies_2017.csv\"\n",
    "EMLdf6=pd.read_csv(EMLurl6,na_values={'-9999','NaN'})\n",
    "\n"
   ]
  },
  {
   "cell_type": "code",
   "execution_count": 321,
   "id": "3b06b202",
   "metadata": {},
   "outputs": [
    {
     "name": "stdout",
     "output_type": "stream",
     "text": [
      "<class 'pandas.core.frame.DataFrame'>\n",
      "RangeIndex: 288 entries, 0 to 287\n",
      "Data columns (total 6 columns):\n",
      " #   Column   Non-Null Count  Dtype  \n",
      "---  ------   --------------  -----  \n",
      " 0   date     288 non-null    object \n",
      " 1   site     288 non-null    object \n",
      " 2   plot     288 non-null    int64  \n",
      " 3   species  288 non-null    object \n",
      " 4   avghits  288 non-null    float64\n",
      " 5   biomass  288 non-null    float64\n",
      "dtypes: float64(2), int64(1), object(3)\n",
      "memory usage: 13.6+ KB\n"
     ]
    }
   ],
   "source": [
    "EMLdf6.info()"
   ]
  },
  {
   "cell_type": "markdown",
   "id": "881417c9",
   "metadata": {},
   "source": [
    "Extract month, year and day of year from date index"
   ]
  },
  {
   "cell_type": "code",
   "execution_count": 322,
   "id": "ac7a368f",
   "metadata": {},
   "outputs": [
    {
     "data": {
      "text/html": [
       "<div>\n",
       "<style scoped>\n",
       "    .dataframe tbody tr th:only-of-type {\n",
       "        vertical-align: middle;\n",
       "    }\n",
       "\n",
       "    .dataframe tbody tr th {\n",
       "        vertical-align: top;\n",
       "    }\n",
       "\n",
       "    .dataframe thead th {\n",
       "        text-align: right;\n",
       "    }\n",
       "</style>\n",
       "<table border=\"1\" class=\"dataframe\">\n",
       "  <thead>\n",
       "    <tr style=\"text-align: right;\">\n",
       "      <th></th>\n",
       "      <th>date</th>\n",
       "      <th>site</th>\n",
       "      <th>plot</th>\n",
       "      <th>species</th>\n",
       "      <th>avghits</th>\n",
       "      <th>biomass</th>\n",
       "      <th>month</th>\n",
       "      <th>year</th>\n",
       "      <th>doy</th>\n",
       "    </tr>\n",
       "  </thead>\n",
       "  <tbody>\n",
       "    <tr>\n",
       "      <th>0</th>\n",
       "      <td>2017-07-27</td>\n",
       "      <td>Extensive Thaw</td>\n",
       "      <td>1</td>\n",
       "      <td>AND</td>\n",
       "      <td>0.0000</td>\n",
       "      <td>0.000000</td>\n",
       "      <td>7</td>\n",
       "      <td>2017</td>\n",
       "      <td>208</td>\n",
       "    </tr>\n",
       "    <tr>\n",
       "      <th>1</th>\n",
       "      <td>2017-07-27</td>\n",
       "      <td>Extensive Thaw</td>\n",
       "      <td>1</td>\n",
       "      <td>AUL</td>\n",
       "      <td>0.0000</td>\n",
       "      <td>0.000000</td>\n",
       "      <td>7</td>\n",
       "      <td>2017</td>\n",
       "      <td>208</td>\n",
       "    </tr>\n",
       "    <tr>\n",
       "      <th>2</th>\n",
       "      <td>2017-07-27</td>\n",
       "      <td>Extensive Thaw</td>\n",
       "      <td>1</td>\n",
       "      <td>BN</td>\n",
       "      <td>0.0000</td>\n",
       "      <td>0.000000</td>\n",
       "      <td>7</td>\n",
       "      <td>2017</td>\n",
       "      <td>208</td>\n",
       "    </tr>\n",
       "    <tr>\n",
       "      <th>3</th>\n",
       "      <td>2017-07-27</td>\n",
       "      <td>Extensive Thaw</td>\n",
       "      <td>1</td>\n",
       "      <td>CX</td>\n",
       "      <td>0.1875</td>\n",
       "      <td>14.953125</td>\n",
       "      <td>7</td>\n",
       "      <td>2017</td>\n",
       "      <td>208</td>\n",
       "    </tr>\n",
       "    <tr>\n",
       "      <th>4</th>\n",
       "      <td>2017-07-27</td>\n",
       "      <td>Extensive Thaw</td>\n",
       "      <td>1</td>\n",
       "      <td>DIC</td>\n",
       "      <td>0.0000</td>\n",
       "      <td>0.000000</td>\n",
       "      <td>7</td>\n",
       "      <td>2017</td>\n",
       "      <td>208</td>\n",
       "    </tr>\n",
       "  </tbody>\n",
       "</table>\n",
       "</div>"
      ],
      "text/plain": [
       "         date            site  plot species  avghits    biomass  month  year  \\\n",
       "0  2017-07-27  Extensive Thaw     1     AND   0.0000   0.000000      7  2017   \n",
       "1  2017-07-27  Extensive Thaw     1     AUL   0.0000   0.000000      7  2017   \n",
       "2  2017-07-27  Extensive Thaw     1      BN   0.0000   0.000000      7  2017   \n",
       "3  2017-07-27  Extensive Thaw     1      CX   0.1875  14.953125      7  2017   \n",
       "4  2017-07-27  Extensive Thaw     1     DIC   0.0000   0.000000      7  2017   \n",
       "\n",
       "   doy  \n",
       "0  208  \n",
       "1  208  \n",
       "2  208  \n",
       "3  208  \n",
       "4  208  "
      ]
     },
     "execution_count": 322,
     "metadata": {},
     "output_type": "execute_result"
    }
   ],
   "source": [
    "EMLdf6['month']=pd.DatetimeIndex(EMLdf6['date']).month\n",
    "EMLdf6['year']=pd.DatetimeIndex(EMLdf6['date']).year\n",
    "EMLdf6['doy']=pd.DatetimeIndex(EMLdf6['date']).dayofyear\n",
    "EMLdf6.head()"
   ]
  },
  {
   "cell_type": "markdown",
   "id": "9043e176",
   "metadata": {},
   "source": [
    "Visualize the data"
   ]
  },
  {
   "cell_type": "code",
   "execution_count": 323,
   "id": "9567cd28",
   "metadata": {},
   "outputs": [
    {
     "data": {
      "text/plain": [
       "<AxesSubplot:>"
      ]
     },
     "execution_count": 323,
     "metadata": {},
     "output_type": "execute_result"
    },
    {
     "data": {
      "image/png": "[encoded data removed]",
      "text/plain": [
       "<Figure size 432x288 with 1 Axes>"
      ]
     },
     "metadata": {
      "needs_background": "light"
     },
     "output_type": "display_data"
    }
   ],
   "source": [
    "EMLdf6.biomass.plot()"
   ]
  },
  {
   "cell_type": "markdown",
   "id": "104c9e05",
   "metadata": {},
   "source": [
    "Export to csv "
   ]
  },
  {
   "cell_type": "code",
   "execution_count": 324,
   "id": "4340e497",
   "metadata": {},
   "outputs": [],
   "source": [
    "EMLdf6.index = EMLdf6['site']\n",
    "EMLdf6.to_csv('ak_eml_bnzlter_biomass_2017.csv')"
   ]
  },
  {
   "cell_type": "markdown",
   "id": "46fd29ff",
   "metadata": {},
   "source": [
    "### Eight Mile Lake: Leaf Carbon, Nitrogen, Peak Biomass 2017\n",
    "DOI: http://dx.doi.org/10.6073/pasta/f8a89e7b8545105b6aeff28449411d80"
   ]
  },
  {
   "cell_type": "code",
   "execution_count": 325,
   "id": "33431dd0",
   "metadata": {},
   "outputs": [],
   "source": [
    "EMLurl7=\"https://www.lter.uaf.edu/php/download_data.php?f=/data_files/ascii/files/706_EML_AK_Gradient_Foliar_C,N,P,Ca,Mg,SLA_Peak_2017.csv\"\n",
    "EMLdf7=pd.read_csv(EMLurl7,na_values={'-9999','NaN'})\n",
    "\n"
   ]
  },
  {
   "cell_type": "code",
   "execution_count": 326,
   "id": "099d8ea2",
   "metadata": {},
   "outputs": [
    {
     "name": "stdout",
     "output_type": "stream",
     "text": [
      "<class 'pandas.core.frame.DataFrame'>\n",
      "RangeIndex: 126 entries, 0 to 125\n",
      "Data columns (total 13 columns):\n",
      " #   Column   Non-Null Count  Dtype  \n",
      "---  ------   --------------  -----  \n",
      " 0   date     126 non-null    object \n",
      " 1   site     126 non-null    object \n",
      " 2   base     126 non-null    int64  \n",
      " 3   species  126 non-null    object \n",
      " 4   SLA      125 non-null    float64\n",
      " 5   %C       126 non-null    float64\n",
      " 6   d13C     126 non-null    float64\n",
      " 7   %N       126 non-null    float64\n",
      " 8   d15N     126 non-null    float64\n",
      " 9   %P       124 non-null    float64\n",
      " 10  %Ca      124 non-null    float64\n",
      " 11  %Mg      124 non-null    float64\n",
      " 12  notes    3 non-null      object \n",
      "dtypes: float64(8), int64(1), object(4)\n",
      "memory usage: 12.9+ KB\n"
     ]
    }
   ],
   "source": [
    "EMLdf7.info()"
   ]
  },
  {
   "cell_type": "markdown",
   "id": "3baa26e6",
   "metadata": {},
   "source": [
    "Extract month, day of year and year from date index"
   ]
  },
  {
   "cell_type": "code",
   "execution_count": 327,
   "id": "d662da1f",
   "metadata": {},
   "outputs": [
    {
     "data": {
      "text/html": [
       "<div>\n",
       "<style scoped>\n",
       "    .dataframe tbody tr th:only-of-type {\n",
       "        vertical-align: middle;\n",
       "    }\n",
       "\n",
       "    .dataframe tbody tr th {\n",
       "        vertical-align: top;\n",
       "    }\n",
       "\n",
       "    .dataframe thead th {\n",
       "        text-align: right;\n",
       "    }\n",
       "</style>\n",
       "<table border=\"1\" class=\"dataframe\">\n",
       "  <thead>\n",
       "    <tr style=\"text-align: right;\">\n",
       "      <th></th>\n",
       "      <th>date</th>\n",
       "      <th>site</th>\n",
       "      <th>base</th>\n",
       "      <th>species</th>\n",
       "      <th>SLA</th>\n",
       "      <th>Carbon</th>\n",
       "      <th>d13C</th>\n",
       "      <th>Nitrogen</th>\n",
       "      <th>d15N</th>\n",
       "      <th>%P</th>\n",
       "      <th>%Ca</th>\n",
       "      <th>%Mg</th>\n",
       "      <th>notes</th>\n",
       "      <th>month</th>\n",
       "      <th>year</th>\n",
       "      <th>doy</th>\n",
       "    </tr>\n",
       "  </thead>\n",
       "  <tbody>\n",
       "    <tr>\n",
       "      <th>0</th>\n",
       "      <td>2017-07-17</td>\n",
       "      <td>Extensive Thaw</td>\n",
       "      <td>1</td>\n",
       "      <td>VVI</td>\n",
       "      <td>77.76</td>\n",
       "      <td>49.599</td>\n",
       "      <td>-27.399</td>\n",
       "      <td>1.446</td>\n",
       "      <td>-8.155</td>\n",
       "      <td>0.169</td>\n",
       "      <td>0.25</td>\n",
       "      <td>0.11</td>\n",
       "      <td>NaN</td>\n",
       "      <td>7</td>\n",
       "      <td>2017</td>\n",
       "      <td>198</td>\n",
       "    </tr>\n",
       "    <tr>\n",
       "      <th>1</th>\n",
       "      <td>2017-07-17</td>\n",
       "      <td>Extensive Thaw</td>\n",
       "      <td>1</td>\n",
       "      <td>RO</td>\n",
       "      <td>68.12</td>\n",
       "      <td>53.640</td>\n",
       "      <td>-27.003</td>\n",
       "      <td>1.778</td>\n",
       "      <td>-5.952</td>\n",
       "      <td>0.165</td>\n",
       "      <td>0.23</td>\n",
       "      <td>0.10</td>\n",
       "      <td>NaN</td>\n",
       "      <td>7</td>\n",
       "      <td>2017</td>\n",
       "      <td>198</td>\n",
       "    </tr>\n",
       "    <tr>\n",
       "      <th>2</th>\n",
       "      <td>2017-07-17</td>\n",
       "      <td>Extensive Thaw</td>\n",
       "      <td>1</td>\n",
       "      <td>CX</td>\n",
       "      <td>110.07</td>\n",
       "      <td>45.799</td>\n",
       "      <td>-25.907</td>\n",
       "      <td>2.498</td>\n",
       "      <td>1.694</td>\n",
       "      <td>0.159</td>\n",
       "      <td>0.14</td>\n",
       "      <td>0.12</td>\n",
       "      <td>NaN</td>\n",
       "      <td>7</td>\n",
       "      <td>2017</td>\n",
       "      <td>198</td>\n",
       "    </tr>\n",
       "    <tr>\n",
       "      <th>3</th>\n",
       "      <td>2017-07-17</td>\n",
       "      <td>Extensive Thaw</td>\n",
       "      <td>1</td>\n",
       "      <td>BN</td>\n",
       "      <td>114.95</td>\n",
       "      <td>48.794</td>\n",
       "      <td>-29.786</td>\n",
       "      <td>2.013</td>\n",
       "      <td>-7.796</td>\n",
       "      <td>0.230</td>\n",
       "      <td>0.35</td>\n",
       "      <td>0.16</td>\n",
       "      <td>NaN</td>\n",
       "      <td>7</td>\n",
       "      <td>2017</td>\n",
       "      <td>198</td>\n",
       "    </tr>\n",
       "    <tr>\n",
       "      <th>4</th>\n",
       "      <td>2017-07-17</td>\n",
       "      <td>Extensive Thaw</td>\n",
       "      <td>1</td>\n",
       "      <td>EV</td>\n",
       "      <td>72.51</td>\n",
       "      <td>46.560</td>\n",
       "      <td>-26.595</td>\n",
       "      <td>2.100</td>\n",
       "      <td>1.648</td>\n",
       "      <td>0.196</td>\n",
       "      <td>0.06</td>\n",
       "      <td>0.09</td>\n",
       "      <td>NaN</td>\n",
       "      <td>7</td>\n",
       "      <td>2017</td>\n",
       "      <td>198</td>\n",
       "    </tr>\n",
       "  </tbody>\n",
       "</table>\n",
       "</div>"
      ],
      "text/plain": [
       "         date            site  base species     SLA  Carbon    d13C  Nitrogen  \\\n",
       "0  2017-07-17  Extensive Thaw     1     VVI   77.76  49.599 -27.399     1.446   \n",
       "1  2017-07-17  Extensive Thaw     1      RO   68.12  53.640 -27.003     1.778   \n",
       "2  2017-07-17  Extensive Thaw     1      CX  110.07  45.799 -25.907     2.498   \n",
       "3  2017-07-17  Extensive Thaw     1      BN  114.95  48.794 -29.786     2.013   \n",
       "4  2017-07-17  Extensive Thaw     1      EV   72.51  46.560 -26.595     2.100   \n",
       "\n",
       "    d15N     %P   %Ca   %Mg notes  month  year  doy  \n",
       "0 -8.155  0.169  0.25  0.11   NaN      7  2017  198  \n",
       "1 -5.952  0.165  0.23  0.10   NaN      7  2017  198  \n",
       "2  1.694  0.159  0.14  0.12   NaN      7  2017  198  \n",
       "3 -7.796  0.230  0.35  0.16   NaN      7  2017  198  \n",
       "4  1.648  0.196  0.06  0.09   NaN      7  2017  198  "
      ]
     },
     "execution_count": 327,
     "metadata": {},
     "output_type": "execute_result"
    }
   ],
   "source": [
    "EMLdf7['month']=pd.DatetimeIndex(EMLdf7['date']).month\n",
    "EMLdf7['year']=pd.DatetimeIndex(EMLdf7['date']).year\n",
    "EMLdf7['doy']=pd.DatetimeIndex(EMLdf7['date']).dayofyear\n",
    "\n",
    "EMLdf7=EMLdf7.rename(columns={'%N':'Nitrogen','%C':'Carbon'})\n",
    "EMLdf7.head()"
   ]
  },
  {
   "cell_type": "markdown",
   "id": "1d82a327",
   "metadata": {},
   "source": [
    "Eight Mile Lake-Thaw Gradient Foliar Carbon and Nitrogen 2017"
   ]
  },
  {
   "cell_type": "code",
   "execution_count": 328,
   "id": "af6af942",
   "metadata": {
    "scrolled": true
   },
   "outputs": [
    {
     "data": {
      "text/plain": [
       "<AxesSubplot:>"
      ]
     },
     "execution_count": 328,
     "metadata": {},
     "output_type": "execute_result"
    },
    {
     "data": {
      "image/png": "[encoded data removed]",
      "text/plain": [
       "<Figure size 432x288 with 1 Axes>"
      ]
     },
     "metadata": {
      "needs_background": "light"
     },
     "output_type": "display_data"
    }
   ],
   "source": [
    "EMLdf7.Carbon.plot()"
   ]
  },
  {
   "cell_type": "code",
   "execution_count": 329,
   "id": "2492238e",
   "metadata": {
    "scrolled": true
   },
   "outputs": [
    {
     "data": {
      "text/plain": [
       "<AxesSubplot:>"
      ]
     },
     "execution_count": 329,
     "metadata": {},
     "output_type": "execute_result"
    },
    {
     "data": {
      "image/png": "[encoded data removed]",
      "text/plain": [
       "<Figure size 432x288 with 1 Axes>"
      ]
     },
     "metadata": {
      "needs_background": "light"
     },
     "output_type": "display_data"
    }
   ],
   "source": [
    "EMLdf7.Nitrogen.plot()"
   ]
  },
  {
   "cell_type": "markdown",
   "id": "786bc0dc",
   "metadata": {},
   "source": [
    "Export to csv"
   ]
  },
  {
   "cell_type": "code",
   "execution_count": 330,
   "id": "063295c9",
   "metadata": {},
   "outputs": [],
   "source": [
    "EMLdf7.index = EMLdf7['site']\n",
    "EMLdf7.to_csv('ak_eml_bnzlter_foliar_c_n_2017.csv')"
   ]
  },
  {
   "cell_type": "markdown",
   "id": "715f09b5",
   "metadata": {},
   "source": [
    "### Eight Mile Lake: PLant Species Composition and Productivity 2004\n",
    "DOI: http://dx.doi.org/10.6073/pasta/141d911e791ee2c2903884f8719f5a3e"
   ]
  },
  {
   "cell_type": "code",
   "execution_count": 331,
   "id": "399869dd",
   "metadata": {},
   "outputs": [],
   "source": [
    "EMLurl10=\"https://www.lter.uaf.edu/php/download_data.php?f=/data_files/ascii/files/348_Healy04_BiomassNPP.txt\"\n",
    "EMLdf10=pd.read_csv(EMLurl10,na_values={'-9999','NaN'})\n"
   ]
  },
  {
   "cell_type": "code",
   "execution_count": 332,
   "id": "386acfbe",
   "metadata": {
    "scrolled": false
   },
   "outputs": [
    {
     "name": "stdout",
     "output_type": "stream",
     "text": [
      "<class 'pandas.core.frame.DataFrame'>\n",
      "RangeIndex: 612 entries, 0 to 611\n",
      "Data columns (total 13 columns):\n",
      " #   Column                    Non-Null Count  Dtype  \n",
      "---  ------                    --------------  -----  \n",
      " 0   Site                      612 non-null    object \n",
      " 1   Ch                        612 non-null    int64  \n",
      " 2   Species/Fxn Group/ Total  612 non-null    object \n",
      " 3   Fxn Grp                   612 non-null    object \n",
      " 4   g/m2 all                  612 non-null    float64\n",
      " 5   g/m2 lf                   612 non-null    float64\n",
      " 6   g/m2 NPP                  576 non-null    float64\n",
      " 7   % AG                      288 non-null    float64\n",
      " 8   %PS                       288 non-null    float64\n",
      " 9   delta 15N                 121 non-null    float64\n",
      " 10  delta 13C                 121 non-null    float64\n",
      " 11  %N                        121 non-null    float64\n",
      " 12  %C                        120 non-null    object \n",
      "dtypes: float64(8), int64(1), object(4)\n",
      "memory usage: 62.3+ KB\n"
     ]
    }
   ],
   "source": [
    "EMLdf10.info()"
   ]
  },
  {
   "cell_type": "code",
   "execution_count": 333,
   "id": "b2a0b84e",
   "metadata": {},
   "outputs": [],
   "source": [
    "#appears %Carbon and %Nitrogen have a lot of missing values within the dataset"
   ]
  },
  {
   "cell_type": "code",
   "execution_count": 334,
   "id": "8b3323ae",
   "metadata": {},
   "outputs": [
    {
     "data": {
      "text/plain": [
       "<AxesSubplot:>"
      ]
     },
     "execution_count": 334,
     "metadata": {},
     "output_type": "execute_result"
    },
    {
     "data": {
      "image/png": "[encoded data removed]",
      "text/plain": [
       "<Figure size 432x288 with 1 Axes>"
      ]
     },
     "metadata": {
      "needs_background": "light"
     },
     "output_type": "display_data"
    }
   ],
   "source": [
    "EMLdf10['g/m2 NPP'].plot()"
   ]
  },
  {
   "cell_type": "code",
   "execution_count": 335,
   "id": "bab25d10",
   "metadata": {},
   "outputs": [],
   "source": [
    "EMLdf10.index = EMLdf10['Site']\n",
    "EMLdf10.to_csv('ak_healy_bnzlter_biomass.csv')"
   ]
  },
  {
   "cell_type": "markdown",
   "id": "08eb4b39",
   "metadata": {},
   "source": [
    "### Eight Mile Lake: Active Layer Thickness 2004-2013\n",
    "DOI: http://dx.doi.org/10.6073/pasta/03441a0ad26b370b8fd6000459fdf0bf"
   ]
  },
  {
   "cell_type": "markdown",
   "id": "60825c43",
   "metadata": {},
   "source": [
    "Merge two datasets to create one continuous file containing active layer thickness data from 2004-2013"
   ]
  },
  {
   "cell_type": "code",
   "execution_count": 336,
   "id": "9b98a5bc",
   "metadata": {},
   "outputs": [],
   "source": [
    "EMLurl11=\"https://www.lter.uaf.edu/php/download_data.php?f=/data_files/ascii/files/518_ActiveLayerDepth.csv\"\n",
    "EMLdf11=pd.read_csv(EMLurl11,na_values={'-9999','NaN'})\n"
   ]
  },
  {
   "cell_type": "code",
   "execution_count": 337,
   "id": "81dbbdb5",
   "metadata": {
    "scrolled": false
   },
   "outputs": [
    {
     "name": "stdout",
     "output_type": "stream",
     "text": [
      "<class 'pandas.core.frame.DataFrame'>\n",
      "RangeIndex: 540 entries, 0 to 539\n",
      "Data columns (total 7 columns):\n",
      " #   Column  Non-Null Count  Dtype  \n",
      "---  ------  --------------  -----  \n",
      " 0   Site    540 non-null    object \n",
      " 1   month   540 non-null    int64  \n",
      " 2   day     540 non-null    int64  \n",
      " 3   Year    540 non-null    int64  \n",
      " 4   DOY     540 non-null    int64  \n",
      " 5   Base    540 non-null    int64  \n",
      " 6   ALD     540 non-null    float64\n",
      "dtypes: float64(1), int64(5), object(1)\n",
      "memory usage: 29.7+ KB\n"
     ]
    }
   ],
   "source": [
    "EMLdf11.info()"
   ]
  },
  {
   "cell_type": "code",
   "execution_count": 338,
   "id": "c076af47",
   "metadata": {
    "scrolled": false
   },
   "outputs": [
    {
     "data": {
      "text/html": [
       "<div>\n",
       "<style scoped>\n",
       "    .dataframe tbody tr th:only-of-type {\n",
       "        vertical-align: middle;\n",
       "    }\n",
       "\n",
       "    .dataframe tbody tr th {\n",
       "        vertical-align: top;\n",
       "    }\n",
       "\n",
       "    .dataframe thead th {\n",
       "        text-align: right;\n",
       "    }\n",
       "</style>\n",
       "<table border=\"1\" class=\"dataframe\">\n",
       "  <thead>\n",
       "    <tr style=\"text-align: right;\">\n",
       "      <th></th>\n",
       "      <th>Site</th>\n",
       "      <th>month</th>\n",
       "      <th>day</th>\n",
       "      <th>Year</th>\n",
       "      <th>DOY</th>\n",
       "      <th>Base</th>\n",
       "      <th>ALD</th>\n",
       "      <th>Date</th>\n",
       "    </tr>\n",
       "  </thead>\n",
       "  <tbody>\n",
       "    <tr>\n",
       "      <th>0</th>\n",
       "      <td>Extensive</td>\n",
       "      <td>9</td>\n",
       "      <td>1</td>\n",
       "      <td>2004</td>\n",
       "      <td>244</td>\n",
       "      <td>1</td>\n",
       "      <td>69.0</td>\n",
       "      <td>2004-09-01</td>\n",
       "    </tr>\n",
       "    <tr>\n",
       "      <th>1</th>\n",
       "      <td>Extensive</td>\n",
       "      <td>9</td>\n",
       "      <td>1</td>\n",
       "      <td>2004</td>\n",
       "      <td>244</td>\n",
       "      <td>2</td>\n",
       "      <td>47.0</td>\n",
       "      <td>2004-09-01</td>\n",
       "    </tr>\n",
       "    <tr>\n",
       "      <th>2</th>\n",
       "      <td>Extensive</td>\n",
       "      <td>9</td>\n",
       "      <td>1</td>\n",
       "      <td>2004</td>\n",
       "      <td>244</td>\n",
       "      <td>3</td>\n",
       "      <td>58.0</td>\n",
       "      <td>2004-09-01</td>\n",
       "    </tr>\n",
       "    <tr>\n",
       "      <th>3</th>\n",
       "      <td>Extensive</td>\n",
       "      <td>9</td>\n",
       "      <td>1</td>\n",
       "      <td>2004</td>\n",
       "      <td>244</td>\n",
       "      <td>4</td>\n",
       "      <td>54.0</td>\n",
       "      <td>2004-09-01</td>\n",
       "    </tr>\n",
       "    <tr>\n",
       "      <th>4</th>\n",
       "      <td>Extensive</td>\n",
       "      <td>9</td>\n",
       "      <td>1</td>\n",
       "      <td>2004</td>\n",
       "      <td>244</td>\n",
       "      <td>5</td>\n",
       "      <td>53.0</td>\n",
       "      <td>2004-09-01</td>\n",
       "    </tr>\n",
       "  </tbody>\n",
       "</table>\n",
       "</div>"
      ],
      "text/plain": [
       "        Site  month  day  Year  DOY  Base   ALD       Date\n",
       "0  Extensive      9    1  2004  244     1  69.0 2004-09-01\n",
       "1  Extensive      9    1  2004  244     2  47.0 2004-09-01\n",
       "2  Extensive      9    1  2004  244     3  58.0 2004-09-01\n",
       "3  Extensive      9    1  2004  244     4  54.0 2004-09-01\n",
       "4  Extensive      9    1  2004  244     5  53.0 2004-09-01"
      ]
     },
     "execution_count": 338,
     "metadata": {},
     "output_type": "execute_result"
    }
   ],
   "source": [
    "EMLdf11['Date']= pd.to_datetime(EMLdf11[['Year','month','day']],format='%Y-%m-%d')\n",
    "EMLdf11.head()"
   ]
  },
  {
   "cell_type": "code",
   "execution_count": 339,
   "id": "d0f6b7e9",
   "metadata": {},
   "outputs": [
    {
     "data": {
      "text/plain": [
       "array(['Extensive', 'Moderate', 'Minimal'], dtype=object)"
      ]
     },
     "execution_count": 339,
     "metadata": {},
     "output_type": "execute_result"
    }
   ],
   "source": [
    "EMLdf11['Site'].unique()"
   ]
  },
  {
   "cell_type": "code",
   "execution_count": 340,
   "id": "3af49427",
   "metadata": {
    "scrolled": true
   },
   "outputs": [
    {
     "data": {
      "text/plain": [
       "<AxesSubplot:>"
      ]
     },
     "execution_count": 340,
     "metadata": {},
     "output_type": "execute_result"
    },
    {
     "data": {
      "image/png": "[encoded data removed]",
      "text/plain": [
       "<Figure size 432x288 with 1 Axes>"
      ]
     },
     "metadata": {
      "needs_background": "light"
     },
     "output_type": "display_data"
    }
   ],
   "source": [
    "EMLdf11.ALD.plot()"
   ]
  },
  {
   "cell_type": "code",
   "execution_count": 341,
   "id": "a28b0c74",
   "metadata": {},
   "outputs": [
    {
     "data": {
      "text/plain": [
       "Timestamp('2012-09-17 00:00:00')"
      ]
     },
     "execution_count": 341,
     "metadata": {},
     "output_type": "execute_result"
    }
   ],
   "source": [
    "EMLdf11['Date'].max()"
   ]
  },
  {
   "cell_type": "code",
   "execution_count": 342,
   "id": "17830e2e",
   "metadata": {},
   "outputs": [],
   "source": [
    "EMLdf11.index = EMLdf11['Date']\n",
    "EMLdf11.to_csv('ak_eml_bnzlter_ald_2004.csv')"
   ]
  },
  {
   "cell_type": "code",
   "execution_count": 343,
   "id": "723885a7",
   "metadata": {},
   "outputs": [],
   "source": [
    "EMLurl12=\"https://www.lter.uaf.edu/php/download_data.php?f=/data_files/ascii/files/518_EML_ALD_2013.txt\"\n",
    "EMLdf12=pd.read_csv(EMLurl12,na_values={'-9999','NaN'})\n"
   ]
  },
  {
   "cell_type": "code",
   "execution_count": 344,
   "id": "6bf7f6aa",
   "metadata": {
    "scrolled": false
   },
   "outputs": [
    {
     "name": "stdout",
     "output_type": "stream",
     "text": [
      "<class 'pandas.core.frame.DataFrame'>\n",
      "RangeIndex: 36 entries, 0 to 35\n",
      "Data columns (total 7 columns):\n",
      " #   Column  Non-Null Count  Dtype  \n",
      "---  ------  --------------  -----  \n",
      " 0   Site    36 non-null     object \n",
      " 1   month   36 non-null     int64  \n",
      " 2   day     36 non-null     int64  \n",
      " 3   Year    36 non-null     int64  \n",
      " 4   DOY     36 non-null     int64  \n",
      " 5   Base    36 non-null     int64  \n",
      " 6   ALD     36 non-null     float64\n",
      "dtypes: float64(1), int64(5), object(1)\n",
      "memory usage: 2.1+ KB\n"
     ]
    }
   ],
   "source": [
    "EMLdf12.info()"
   ]
  },
  {
   "cell_type": "code",
   "execution_count": 345,
   "id": "ff5d466d",
   "metadata": {
    "scrolled": false
   },
   "outputs": [
    {
     "data": {
      "text/html": [
       "<div>\n",
       "<style scoped>\n",
       "    .dataframe tbody tr th:only-of-type {\n",
       "        vertical-align: middle;\n",
       "    }\n",
       "\n",
       "    .dataframe tbody tr th {\n",
       "        vertical-align: top;\n",
       "    }\n",
       "\n",
       "    .dataframe thead th {\n",
       "        text-align: right;\n",
       "    }\n",
       "</style>\n",
       "<table border=\"1\" class=\"dataframe\">\n",
       "  <thead>\n",
       "    <tr style=\"text-align: right;\">\n",
       "      <th></th>\n",
       "      <th>Site</th>\n",
       "      <th>month</th>\n",
       "      <th>day</th>\n",
       "      <th>Year</th>\n",
       "      <th>DOY</th>\n",
       "      <th>Base</th>\n",
       "      <th>ALD</th>\n",
       "      <th>Date</th>\n",
       "    </tr>\n",
       "  </thead>\n",
       "  <tbody>\n",
       "    <tr>\n",
       "      <th>0</th>\n",
       "      <td>Extensive</td>\n",
       "      <td>9</td>\n",
       "      <td>20</td>\n",
       "      <td>2013</td>\n",
       "      <td>263</td>\n",
       "      <td>1</td>\n",
       "      <td>62.0</td>\n",
       "      <td>2013-09-20</td>\n",
       "    </tr>\n",
       "    <tr>\n",
       "      <th>1</th>\n",
       "      <td>Extensive</td>\n",
       "      <td>9</td>\n",
       "      <td>20</td>\n",
       "      <td>2013</td>\n",
       "      <td>263</td>\n",
       "      <td>2</td>\n",
       "      <td>56.0</td>\n",
       "      <td>2013-09-20</td>\n",
       "    </tr>\n",
       "    <tr>\n",
       "      <th>2</th>\n",
       "      <td>Extensive</td>\n",
       "      <td>9</td>\n",
       "      <td>20</td>\n",
       "      <td>2013</td>\n",
       "      <td>263</td>\n",
       "      <td>3</td>\n",
       "      <td>63.3</td>\n",
       "      <td>2013-09-20</td>\n",
       "    </tr>\n",
       "    <tr>\n",
       "      <th>3</th>\n",
       "      <td>Extensive</td>\n",
       "      <td>9</td>\n",
       "      <td>20</td>\n",
       "      <td>2013</td>\n",
       "      <td>263</td>\n",
       "      <td>4</td>\n",
       "      <td>68.7</td>\n",
       "      <td>2013-09-20</td>\n",
       "    </tr>\n",
       "    <tr>\n",
       "      <th>4</th>\n",
       "      <td>Extensive</td>\n",
       "      <td>9</td>\n",
       "      <td>20</td>\n",
       "      <td>2013</td>\n",
       "      <td>263</td>\n",
       "      <td>5</td>\n",
       "      <td>69.5</td>\n",
       "      <td>2013-09-20</td>\n",
       "    </tr>\n",
       "  </tbody>\n",
       "</table>\n",
       "</div>"
      ],
      "text/plain": [
       "        Site  month  day  Year  DOY  Base   ALD       Date\n",
       "0  Extensive      9   20  2013  263     1  62.0 2013-09-20\n",
       "1  Extensive      9   20  2013  263     2  56.0 2013-09-20\n",
       "2  Extensive      9   20  2013  263     3  63.3 2013-09-20\n",
       "3  Extensive      9   20  2013  263     4  68.7 2013-09-20\n",
       "4  Extensive      9   20  2013  263     5  69.5 2013-09-20"
      ]
     },
     "execution_count": 345,
     "metadata": {},
     "output_type": "execute_result"
    }
   ],
   "source": [
    "EMLdf12['Date']= pd.to_datetime(EMLdf12[['Year','month','day']],format='%Y-%m-%d')\n",
    "EMLdf12['Site']=EMLdf12['Site'].replace({'extensive':'Extensive','minimal':'Minimal'\n",
    "                                ,'moderate':'Moderate'})\n",
    "EMLdf12.head()"
   ]
  },
  {
   "cell_type": "code",
   "execution_count": 346,
   "id": "7bf6ae6b",
   "metadata": {},
   "outputs": [
    {
     "data": {
      "text/plain": [
       "<AxesSubplot:>"
      ]
     },
     "execution_count": 346,
     "metadata": {},
     "output_type": "execute_result"
    },
    {
     "data": {
      "image/png": "[encoded data removed]",
      "text/plain": [
       "<Figure size 432x288 with 1 Axes>"
      ]
     },
     "metadata": {
      "needs_background": "light"
     },
     "output_type": "display_data"
    }
   ],
   "source": [
    "EMLdf12.ALD.plot()"
   ]
  },
  {
   "cell_type": "markdown",
   "id": "cc34a30d",
   "metadata": {},
   "source": [
    "Merge both datasets to create one continuous file"
   ]
  },
  {
   "cell_type": "code",
   "execution_count": 347,
   "id": "27ef2c36",
   "metadata": {},
   "outputs": [
    {
     "data": {
      "text/plain": [
       "array([2004, 2005, 2006, 2007, 2008, 2009, 2010, 2011, 2012, 2013],\n",
       "      dtype=int64)"
      ]
     },
     "execution_count": 347,
     "metadata": {},
     "output_type": "execute_result"
    }
   ],
   "source": [
    "EMLald=pd.concat([EMLdf11,EMLdf12])\n",
    "EMLald.Year.unique()"
   ]
  },
  {
   "cell_type": "code",
   "execution_count": 348,
   "id": "fbd2466f",
   "metadata": {},
   "outputs": [],
   "source": [
    "#EMLald.index = EMLald['Date']\n",
    "#EMLald.to_csv('ak_eml_bnzlter_ald_2004_2013.csv')"
   ]
  },
  {
   "cell_type": "markdown",
   "id": "442ef170",
   "metadata": {},
   "source": [
    "### Eight Mile Lake: Organic Layer Depth, NDVI\n",
    "DOI: http://dx.doi.org/10.6073/pasta/9ef6520787d5cb17e5e753602c6277d2"
   ]
  },
  {
   "cell_type": "code",
   "execution_count": 349,
   "id": "83a37a78",
   "metadata": {},
   "outputs": [],
   "source": [
    "EMLurl13=\"https://www.lter.uaf.edu/php/download_data.php?f=/data_files/ascii/files/537_RS_alt_data.txt\"\n",
    "EMLdf13=pd.read_csv(EMLurl13,na_values={'-9999','NaN'})"
   ]
  },
  {
   "cell_type": "code",
   "execution_count": 350,
   "id": "d3f6e071",
   "metadata": {
    "scrolled": true
   },
   "outputs": [
    {
     "name": "stdout",
     "output_type": "stream",
     "text": [
      "<class 'pandas.core.frame.DataFrame'>\n",
      "RangeIndex: 77 entries, 0 to 76\n",
      "Data columns (total 12 columns):\n",
      " #   Column                     Non-Null Count  Dtype  \n",
      "---  ------                     --------------  -----  \n",
      " 0   site                       77 non-null     object \n",
      " 1   land cover classification  77 non-null     object \n",
      " 2   TD_avg                     77 non-null     float64\n",
      " 3   OD1                        77 non-null     float64\n",
      " 4   OD2                        77 non-null     float64\n",
      " 5   OD3                        77 non-null     int64  \n",
      " 6   OD_avg                     77 non-null     float64\n",
      " 7   OD_sd                      77 non-null     float64\n",
      " 8   northing                   77 non-null     float64\n",
      " 9   easting                    77 non-null     float64\n",
      " 10  ele                        77 non-null     float64\n",
      " 11  ndvi                       77 non-null     float64\n",
      "dtypes: float64(9), int64(1), object(2)\n",
      "memory usage: 7.3+ KB\n"
     ]
    }
   ],
   "source": [
    "EMLdf13.info()"
   ]
  },
  {
   "cell_type": "markdown",
   "id": "fda0fb6d",
   "metadata": {},
   "source": [
    "Visualize variable of interest..\n",
    "EMLdf13_#_.plot()"
   ]
  },
  {
   "cell_type": "code",
   "execution_count": 352,
   "id": "0f98140c",
   "metadata": {
    "scrolled": true
   },
   "outputs": [
    {
     "data": {
      "text/plain": [
       "<AxesSubplot:>"
      ]
     },
     "execution_count": 352,
     "metadata": {},
     "output_type": "execute_result"
    },
    {
     "data": {
      "image/png": "[encoded data removed]",
      "text/plain": [
       "<Figure size 432x288 with 1 Axes>"
      ]
     },
     "metadata": {
      "needs_background": "light"
     },
     "output_type": "display_data"
    }
   ],
   "source": [
    "EMLdf13.ndvi.plot()"
   ]
  },
  {
   "cell_type": "markdown",
   "id": "6495502b",
   "metadata": {},
   "source": [
    "Export to csv.."
   ]
  },
  {
   "cell_type": "code",
   "execution_count": null,
   "id": "108498d5",
   "metadata": {},
   "outputs": [],
   "source": [
    "#EMLdf13.index = EMLdf13['Date']\n",
    "#EMLdf13.to_csv('ak_eml_bnzlter_thaw_depth_2009.csv')"
   ]
  },
  {
   "cell_type": "markdown",
   "id": "d470cb7f",
   "metadata": {},
   "source": [
    "### Eight Mile Lake: Thaw Depths\n",
    "DOI: http://dx.doi.org/10.6073/pasta/3deeaf33722575b6a9826bda6e3d21e6"
   ]
  },
  {
   "cell_type": "code",
   "execution_count": 353,
   "id": "11cc3efb",
   "metadata": {},
   "outputs": [],
   "source": [
    "EMLurl14=\"https://www.lter.uaf.edu/php/download_data.php?f=/data_files/ascii/files/535_footprint_thawdepth_2009.txt\"\n",
    "EMLdf14=pd.read_csv(EMLurl14,na_values={'-9999','NaN'})"
   ]
  },
  {
   "cell_type": "code",
   "execution_count": 354,
   "id": "94c1f7da",
   "metadata": {
    "scrolled": true
   },
   "outputs": [
    {
     "name": "stdout",
     "output_type": "stream",
     "text": [
      "<class 'pandas.core.frame.DataFrame'>\n",
      "RangeIndex: 309 entries, 0 to 308\n",
      "Data columns (total 5 columns):\n",
      " #   Column    Non-Null Count  Dtype  \n",
      "---  ------    --------------  -----  \n",
      " 0   site      309 non-null    float64\n",
      " 1   northing  309 non-null    float64\n",
      " 2   easting   309 non-null    float64\n",
      " 3   ele       309 non-null    float64\n",
      " 4   td        309 non-null    float64\n",
      "dtypes: float64(5)\n",
      "memory usage: 12.2 KB\n"
     ]
    }
   ],
   "source": [
    "EMLdf14.info()"
   ]
  },
  {
   "cell_type": "code",
   "execution_count": 355,
   "id": "af31ea52",
   "metadata": {},
   "outputs": [
    {
     "data": {
      "text/plain": [
       "<AxesSubplot:>"
      ]
     },
     "execution_count": 355,
     "metadata": {},
     "output_type": "execute_result"
    },
    {
     "data": {
      "image/png": "[encoded data removed]",
      "text/plain": [
       "<Figure size 432x288 with 1 Axes>"
      ]
     },
     "metadata": {
      "needs_background": "light"
     },
     "output_type": "display_data"
    }
   ],
   "source": [
    "EMLdf14.td.plot()"
   ]
  }
 ],
 "metadata": {
  "kernelspec": {
   "display_name": "Python 3",
   "language": "python",
   "name": "python3"
  },
  "language_info": {
   "codemirror_mode": {
    "name": "ipython",
    "version": 3
   },
   "file_extension": ".py",
   "mimetype": "text/x-python",
   "name": "python",
   "nbconvert_exporter": "python",
   "pygments_lexer": "ipython3",
   "version": "3.8.8"
  }
 },
 "nbformat": 4,
 "nbformat_minor": 5
}
