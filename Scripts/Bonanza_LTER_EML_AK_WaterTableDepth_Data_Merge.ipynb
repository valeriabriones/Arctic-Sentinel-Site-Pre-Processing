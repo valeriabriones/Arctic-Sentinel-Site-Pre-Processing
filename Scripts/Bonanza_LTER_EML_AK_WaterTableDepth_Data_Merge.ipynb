{
 "cells": [
  {
   "cell_type": "markdown",
   "id": "2f14ac16",
   "metadata": {},
   "source": [
    "### BNZ-LTER Thaw Gradient Water Table Depth "
   ]
  },
  {
   "cell_type": "markdown",
   "id": "0ab2d823",
   "metadata": {},
   "source": [
    "THe following script is intended to merge multiple files containing seasonal water table depth data at a thaw gradient site in Eight Mile Lake (EML) from years 2004-2020. The metadata for the following datasetes can be found here: \n",
    "\n",
    "DOI: http://dx.doi.org/10.6073/pasta/1d382beba150ee4ff5d7c1b941cf3153"
   ]
  },
  {
   "cell_type": "code",
   "execution_count": 27,
   "id": "5291f38d",
   "metadata": {},
   "outputs": [],
   "source": [
    "import numpy as np\n",
    "import pandas as pd \n",
    "from datetime import datetime"
   ]
  },
  {
   "cell_type": "markdown",
   "id": "69503c20",
   "metadata": {},
   "source": [
    "Variables avaialble within this dataset include: Water Table Depth (cm)"
   ]
  },
  {
   "cell_type": "markdown",
   "id": "d1e3cb68",
   "metadata": {},
   "source": [
    "List of urls containing the csvs corresponding to each dataset for water table depth for EML gradient site"
   ]
  },
  {
   "cell_type": "code",
   "execution_count": 28,
   "id": "acf4ea1f",
   "metadata": {},
   "outputs": [],
   "source": [
    "urls=[\"https://www.lter.uaf.edu/php/download_data.php?f=/data_files/ascii/files/564_Gradient_WTD_2004_2013.csv\",\n",
    "     \"https://www.lter.uaf.edu/php/download_data.php?f=/data_files/ascii/files/564_Gradient_WTD_2014.csv\",\n",
    "     \"https://www.lter.uaf.edu/php/download_data.php?f=/data_files/ascii/files/564_Gradient_WTD_2015.csv\",\n",
    "     \"https://www.lter.uaf.edu/php/download_data.php?f=/data_files/ascii/files/564_Gradient_WTD_2016.csv\",\n",
    "     \"https://www.lter.uaf.edu/php/download_data.php?f=/data_files/ascii/files/564_Gradient_WTD_2017.csv\",\n",
    "     \"https://www.lter.uaf.edu/php/download_data.php?f=/data_files/ascii/files/564_Gradient_WTD_2018.csv\",\n",
    "     \"https://www.lter.uaf.edu/php/download_data.php?f=/data_files/ascii/files/564_Gradient_WTD_2019.csv\",\n",
    "    \"https://www.lter.uaf.edu/php/download_data.php?f=/data_files/ascii/files/564_Gradient_WTD_2020.csv\" \n",
    "     ]"
   ]
  },
  {
   "cell_type": "markdown",
   "id": "a2ac45bf",
   "metadata": {},
   "source": [
    "Call in each dataset, provide the column names and determine the Na-values associated (-9999, NaN)"
   ]
  },
  {
   "cell_type": "code",
   "execution_count": 29,
   "id": "8cf49f06",
   "metadata": {},
   "outputs": [],
   "source": [
    "dflist=[]\n",
    "for i in range(len(urls)):\n",
    "    df =pd.read_csv(urls[i]\n",
    "          ,skiprows=1\n",
    "            ,sep=\",\"  \n",
    "           , names=[\n",
    "                    \"Date\",     \n",
    "                    \"Doy\",     \n",
    "                    \"Site\",     \n",
    "                    \"Well\",     \n",
    "                    \"WTD\"    ]\n",
    "            ,na_values={'-9999.0','NaN'})\n",
    "    dflist.append(df)\n",
    "  "
   ]
  },
  {
   "cell_type": "markdown",
   "id": "3e34918f",
   "metadata": {},
   "source": [
    "Print information pertaining to each dataset"
   ]
  },
  {
   "cell_type": "code",
   "execution_count": 30,
   "id": "bc27bd1e",
   "metadata": {
    "scrolled": false
   },
   "outputs": [
    {
     "name": "stdout",
     "output_type": "stream",
     "text": [
      "<class 'pandas.core.frame.DataFrame'>\n",
      "RangeIndex: 1203 entries, 0 to 1202\n",
      "Data columns (total 5 columns):\n",
      " #   Column  Non-Null Count  Dtype  \n",
      "---  ------  --------------  -----  \n",
      " 0   Date    1203 non-null   object \n",
      " 1   Doy     1203 non-null   int64  \n",
      " 2   Site    1203 non-null   object \n",
      " 3   Well    1203 non-null   int64  \n",
      " 4   WTD     1184 non-null   float64\n",
      "dtypes: float64(1), int64(2), object(2)\n",
      "memory usage: 47.1+ KB\n",
      "None\n",
      "<class 'pandas.core.frame.DataFrame'>\n",
      "RangeIndex: 81 entries, 0 to 80\n",
      "Data columns (total 5 columns):\n",
      " #   Column  Non-Null Count  Dtype  \n",
      "---  ------  --------------  -----  \n",
      " 0   Date    81 non-null     object \n",
      " 1   Doy     81 non-null     int64  \n",
      " 2   Site    81 non-null     object \n",
      " 3   Well    81 non-null     int64  \n",
      " 4   WTD     72 non-null     float64\n",
      "dtypes: float64(1), int64(2), object(2)\n",
      "memory usage: 3.3+ KB\n",
      "None\n",
      "<class 'pandas.core.frame.DataFrame'>\n",
      "RangeIndex: 63 entries, 0 to 62\n",
      "Data columns (total 5 columns):\n",
      " #   Column  Non-Null Count  Dtype  \n",
      "---  ------  --------------  -----  \n",
      " 0   Date    63 non-null     object \n",
      " 1   Doy     63 non-null     int64  \n",
      " 2   Site    63 non-null     object \n",
      " 3   Well    63 non-null     int64  \n",
      " 4   WTD     63 non-null     float64\n",
      "dtypes: float64(1), int64(2), object(2)\n",
      "memory usage: 2.6+ KB\n",
      "None\n",
      "<class 'pandas.core.frame.DataFrame'>\n",
      "RangeIndex: 72 entries, 0 to 71\n",
      "Data columns (total 5 columns):\n",
      " #   Column  Non-Null Count  Dtype  \n",
      "---  ------  --------------  -----  \n",
      " 0   Date    72 non-null     object \n",
      " 1   Doy     72 non-null     int64  \n",
      " 2   Site    72 non-null     object \n",
      " 3   Well    72 non-null     int64  \n",
      " 4   WTD     70 non-null     float64\n",
      "dtypes: float64(1), int64(2), object(2)\n",
      "memory usage: 2.9+ KB\n",
      "None\n",
      "<class 'pandas.core.frame.DataFrame'>\n",
      "RangeIndex: 108 entries, 0 to 107\n",
      "Data columns (total 5 columns):\n",
      " #   Column  Non-Null Count  Dtype  \n",
      "---  ------  --------------  -----  \n",
      " 0   Date    108 non-null    object \n",
      " 1   Doy     108 non-null    int64  \n",
      " 2   Site    108 non-null    object \n",
      " 3   Well    108 non-null    int64  \n",
      " 4   WTD     104 non-null    float64\n",
      "dtypes: float64(1), int64(2), object(2)\n",
      "memory usage: 4.3+ KB\n",
      "None\n",
      "<class 'pandas.core.frame.DataFrame'>\n",
      "RangeIndex: 81 entries, 0 to 80\n",
      "Data columns (total 5 columns):\n",
      " #   Column  Non-Null Count  Dtype  \n",
      "---  ------  --------------  -----  \n",
      " 0   Date    81 non-null     object \n",
      " 1   Doy     81 non-null     int64  \n",
      " 2   Site    81 non-null     object \n",
      " 3   Well    81 non-null     int64  \n",
      " 4   WTD     81 non-null     float64\n",
      "dtypes: float64(1), int64(2), object(2)\n",
      "memory usage: 3.3+ KB\n",
      "None\n",
      "<class 'pandas.core.frame.DataFrame'>\n",
      "RangeIndex: 351 entries, 0 to 350\n",
      "Data columns (total 5 columns):\n",
      " #   Column  Non-Null Count  Dtype  \n",
      "---  ------  --------------  -----  \n",
      " 0   Date    351 non-null    object \n",
      " 1   Doy     351 non-null    int64  \n",
      " 2   Site    351 non-null    object \n",
      " 3   Well    351 non-null    object \n",
      " 4   WTD     350 non-null    float64\n",
      "dtypes: float64(1), int64(1), object(3)\n",
      "memory usage: 13.8+ KB\n",
      "None\n",
      "<class 'pandas.core.frame.DataFrame'>\n",
      "RangeIndex: 399 entries, 0 to 398\n",
      "Data columns (total 5 columns):\n",
      " #   Column  Non-Null Count  Dtype  \n",
      "---  ------  --------------  -----  \n",
      " 0   Date    399 non-null    object \n",
      " 1   Doy     399 non-null    int64  \n",
      " 2   Site    399 non-null    object \n",
      " 3   Well    399 non-null    object \n",
      " 4   WTD     391 non-null    float64\n",
      "dtypes: float64(1), int64(1), object(3)\n",
      "memory usage: 15.7+ KB\n",
      "None\n"
     ]
    }
   ],
   "source": [
    "for k in dflist:\n",
    "    print(k.info())"
   ]
  },
  {
   "cell_type": "code",
   "execution_count": null,
   "id": "0ace2b2e",
   "metadata": {},
   "outputs": [],
   "source": []
  },
  {
   "cell_type": "markdown",
   "id": "a83032e2",
   "metadata": {},
   "source": [
    "Print unique site names in each dataset to see if naming conventions are uniform across all..\n",
    "If not will need to modify them in order to merge files later on.."
   ]
  },
  {
   "cell_type": "code",
   "execution_count": 31,
   "id": "61d5a9a8",
   "metadata": {
    "scrolled": true
   },
   "outputs": [
    {
     "name": "stdout",
     "output_type": "stream",
     "text": [
      "['Extensive' 'Moderate ' 'Minimal ' 'Extensive  ' 'Moderate' 'Minimal']\n",
      "['Extensive' 'Minimal' 'Moderate']\n",
      "['Extensive' 'Moderate' 'Minimal']\n",
      "['Extensive' 'Moderate' 'Minimal']\n",
      "['Extensive' 'Moderate' 'Minimal']\n",
      "['Extensive' 'Moderate' 'Minimal']\n",
      "['Extensive' 'Moderate' 'Minimal']\n",
      "['Extensive' 'Moderate' 'Minimal']\n"
     ]
    }
   ],
   "source": [
    "for l in dflist:\n",
    "    print(l['Site'].unique())"
   ]
  },
  {
   "cell_type": "markdown",
   "id": "cda29895",
   "metadata": {},
   "source": [
    "As shown above, there appears to be added spacing to the Site. To merge these dataframes, the site naming must be uniform"
   ]
  },
  {
   "cell_type": "code",
   "execution_count": 32,
   "id": "2df3ad03",
   "metadata": {
    "scrolled": true
   },
   "outputs": [
    {
     "name": "stdout",
     "output_type": "stream",
     "text": [
      "['Extensive' 'Moderate' 'Minimal']\n",
      "['Extensive' 'Minimal' 'Moderate']\n",
      "['Extensive' 'Moderate' 'Minimal']\n",
      "['Extensive' 'Moderate' 'Minimal']\n",
      "['Extensive' 'Moderate' 'Minimal']\n",
      "['Extensive' 'Moderate' 'Minimal']\n",
      "['Extensive' 'Moderate' 'Minimal']\n",
      "['Extensive' 'Moderate' 'Minimal']\n"
     ]
    }
   ],
   "source": [
    "for e in dflist:\n",
    "    e['Site']=e['Site'].replace({'Extensive ':'Extensive','Extensive  ':'Extensive','Moderate ':'Moderate','Minimal ':'Minimal'})\n",
    "    print(e['Site'].unique()) #check to make sure each dataframe contains the same site naming convention"
   ]
  },
  {
   "cell_type": "markdown",
   "id": "a44f8570",
   "metadata": {},
   "source": [
    "Print out well names within each dataset..\n",
    "In this case there appears to be a combination of different naming conventions associated with well.."
   ]
  },
  {
   "cell_type": "code",
   "execution_count": 33,
   "id": "590df1a5",
   "metadata": {},
   "outputs": [
    {
     "name": "stdout",
     "output_type": "stream",
     "text": [
      "[1 2 3]\n",
      "[1 2 3]\n",
      "[1 2 3]\n",
      "[1 2 3]\n",
      "[1 2 3]\n",
      "[1 2 3]\n",
      "['1_2' '3_4' '5_6' '7_8' '9_10' '11_12' '1' '2' '3' '13_14' '15_16'\n",
      " '17_18' '19_20' '21_22' '23_24' '25_26' '27_28' '29_30' '31_32' '33_34'\n",
      " '35_36']\n",
      "['1_2' '3_4' '5_6' '7_8' '9_10' '11_12' '13_14' '15_16' '17_18' '19_20'\n",
      " '21_22' '23_24' '25_26' '27_28' '29_30' '31_32' '33_34' '35_36' 'Ext 1'\n",
      " 'Ext 2' 'Ext 3' 'Min 1' 'Min 2' 'Min 3' 'Mod 1' 'Mod 2' 'Mod 3']\n"
     ]
    }
   ],
   "source": [
    "for g in dflist:\n",
    "    print(g['Well'].unique())"
   ]
  },
  {
   "cell_type": "markdown",
   "id": "47f8042e",
   "metadata": {},
   "source": [
    "Concatenate the list of dataframes into one..\n",
    "plot out water table depth to see if any issues pop up in the data"
   ]
  },
  {
   "cell_type": "code",
   "execution_count": 38,
   "id": "d4dd9759",
   "metadata": {
    "scrolled": true
   },
   "outputs": [
    {
     "data": {
      "text/html": [
       "<div>\n",
       "<style scoped>\n",
       "    .dataframe tbody tr th:only-of-type {\n",
       "        vertical-align: middle;\n",
       "    }\n",
       "\n",
       "    .dataframe tbody tr th {\n",
       "        vertical-align: top;\n",
       "    }\n",
       "\n",
       "    .dataframe thead th {\n",
       "        text-align: right;\n",
       "    }\n",
       "</style>\n",
       "<table border=\"1\" class=\"dataframe\">\n",
       "  <thead>\n",
       "    <tr style=\"text-align: right;\">\n",
       "      <th></th>\n",
       "      <th>Date</th>\n",
       "      <th>Doy</th>\n",
       "      <th>Site</th>\n",
       "      <th>Well</th>\n",
       "      <th>WTD</th>\n",
       "    </tr>\n",
       "  </thead>\n",
       "  <tbody>\n",
       "    <tr>\n",
       "      <th>0</th>\n",
       "      <td>6/18/2004</td>\n",
       "      <td>170</td>\n",
       "      <td>Extensive</td>\n",
       "      <td>1</td>\n",
       "      <td>9.0</td>\n",
       "    </tr>\n",
       "    <tr>\n",
       "      <th>1</th>\n",
       "      <td>6/18/2004</td>\n",
       "      <td>170</td>\n",
       "      <td>Extensive</td>\n",
       "      <td>2</td>\n",
       "      <td>17.0</td>\n",
       "    </tr>\n",
       "    <tr>\n",
       "      <th>2</th>\n",
       "      <td>6/18/2004</td>\n",
       "      <td>170</td>\n",
       "      <td>Extensive</td>\n",
       "      <td>3</td>\n",
       "      <td>57.0</td>\n",
       "    </tr>\n",
       "    <tr>\n",
       "      <th>3</th>\n",
       "      <td>6/18/2004</td>\n",
       "      <td>170</td>\n",
       "      <td>Moderate</td>\n",
       "      <td>1</td>\n",
       "      <td>12.0</td>\n",
       "    </tr>\n",
       "    <tr>\n",
       "      <th>4</th>\n",
       "      <td>6/18/2004</td>\n",
       "      <td>170</td>\n",
       "      <td>Moderate</td>\n",
       "      <td>2</td>\n",
       "      <td>17.0</td>\n",
       "    </tr>\n",
       "  </tbody>\n",
       "</table>\n",
       "</div>"
      ],
      "text/plain": [
       "        Date  Doy       Site Well   WTD\n",
       "0  6/18/2004  170  Extensive    1   9.0\n",
       "1  6/18/2004  170  Extensive    2  17.0\n",
       "2  6/18/2004  170  Extensive    3  57.0\n",
       "3  6/18/2004  170   Moderate    1  12.0\n",
       "4  6/18/2004  170   Moderate    2  17.0"
      ]
     },
     "execution_count": 38,
     "metadata": {},
     "output_type": "execute_result"
    }
   ],
   "source": [
    "emlwtd=pd.concat(dflist)\n",
    "emlwtd.head()"
   ]
  },
  {
   "cell_type": "markdown",
   "id": "adb7117f",
   "metadata": {},
   "source": [
    "Convert date into datetime format and add associated year column..\n",
    "Print out merged dataset information to ensure nothing alarming appears"
   ]
  },
  {
   "cell_type": "code",
   "execution_count": 35,
   "id": "46ee46de",
   "metadata": {
    "scrolled": false
   },
   "outputs": [
    {
     "name": "stdout",
     "output_type": "stream",
     "text": [
      "<class 'pandas.core.frame.DataFrame'>\n",
      "Int64Index: 2358 entries, 0 to 398\n",
      "Data columns (total 6 columns):\n",
      " #   Column  Non-Null Count  Dtype         \n",
      "---  ------  --------------  -----         \n",
      " 0   Date    2358 non-null   datetime64[ns]\n",
      " 1   Doy     2358 non-null   int64         \n",
      " 2   Site    2358 non-null   object        \n",
      " 3   Well    2358 non-null   object        \n",
      " 4   WTD     2315 non-null   float64       \n",
      " 5   Year    2358 non-null   int64         \n",
      "dtypes: datetime64[ns](1), float64(1), int64(2), object(2)\n",
      "memory usage: 129.0+ KB\n"
     ]
    }
   ],
   "source": [
    "emlwtd['Date']=pd.to_datetime(emlwtd['Date'])\n",
    "emlwtd[\"Year\"]=emlwtd['Date'].dt.year\n",
    "emlwtd.info()"
   ]
  },
  {
   "cell_type": "code",
   "execution_count": 39,
   "id": "8149cd73",
   "metadata": {},
   "outputs": [
    {
     "data": {
      "text/plain": [
       "<AxesSubplot:>"
      ]
     },
     "execution_count": 39,
     "metadata": {},
     "output_type": "execute_result"
    },
    {
     "data": {
      "image/png": "[encoded data removed]",
      "text/plain": [
       "<Figure size 432x288 with 1 Axes>"
      ]
     },
     "metadata": {
      "needs_background": "light"
     },
     "output_type": "display_data"
    }
   ],
   "source": [
    "emlwtd.WTD.plot()"
   ]
  },
  {
   "cell_type": "markdown",
   "id": "100f4c02",
   "metadata": {},
   "source": [
    "When done cleaning/processing the merged dataset, export as csv and re-index"
   ]
  },
  {
   "cell_type": "code",
   "execution_count": 37,
   "id": "08c68ae9",
   "metadata": {},
   "outputs": [],
   "source": [
    "emlwtd.index = emlwtd['Date']\n",
    "emlwtd.to_csv('AK_EML_LTER_Gradient_WTD_2004_2020.csv')"
   ]
  }
 ],
 "metadata": {
  "kernelspec": {
   "display_name": "Python 3",
   "language": "python",
   "name": "python3"
  },
  "language_info": {
   "codemirror_mode": {
    "name": "ipython",
    "version": 3
   },
   "file_extension": ".py",
   "mimetype": "text/x-python",
   "name": "python",
   "nbconvert_exporter": "python",
   "pygments_lexer": "ipython3",
   "version": "3.8.8"
  }
 },
 "nbformat": 4,
 "nbformat_minor": 5
}
