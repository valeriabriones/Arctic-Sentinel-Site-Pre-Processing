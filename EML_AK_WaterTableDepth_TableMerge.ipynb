{
 "cells": [
  {
   "cell_type": "code",
   "execution_count": 2,
   "id": "5291f38d",
   "metadata": {},
   "outputs": [],
   "source": [
    "import numpy as np\n",
    "import pandas as pd \n",
    "from datetime import datetime"
   ]
  },
  {
   "cell_type": "markdown",
   "id": "69503c20",
   "metadata": {},
   "source": [
    "Import CSV files for the ten variables of interest at Eight Mile Lake Sentinel Site.\n",
    "Variables of interest:\n",
    "NEE: net ecosystem exchange,\n",
    "RE:ecosystem resipiration,\n",
    "GPP: gross primary productivity,\n",
    "Biomass:vegetation biomass,\n",
    "OD:organic layer depth,\n",
    "Bulk Density: bulk density of the soil,\n",
    "C: percent carbon,\n",
    "N: percent nitrogen,\n",
    "Ts:soil temperature,\n",
    "VWC: volumetric water content,\n",
    "WTD: water table depth,"
   ]
  },
  {
   "cell_type": "code",
   "execution_count": null,
   "id": "8e0f7095",
   "metadata": {},
   "outputs": [],
   "source": [
    "#Input 8 seperate csv files from Eight Mile Lake Thaw Gradient: Seasonal water \n",
    "#table depth from 2004-2020\n",
    "#Each data table brings in the :Date, Doy, Site, Well, and WTD data as standardized column headings"
   ]
  },
  {
   "cell_type": "code",
   "execution_count": 7,
   "id": "1b249b2b",
   "metadata": {
    "scrolled": false
   },
   "outputs": [],
   "source": [
    "#Water Table Depth file 2004-2013\n",
    "infile1  =\"https://www.lter.uaf.edu/php/download_data.php?f=/data_files/ascii/files/564_Gradient_WTD_2004_2013.csv\"                 \n",
    "dt1 =pd.read_csv(infile1 \n",
    "          ,skiprows=1\n",
    "            ,sep=\",\"  \n",
    "           , names=[\n",
    "                    \"Date\",     \n",
    "                    \"Doy\",     \n",
    "                    \"Site\",     \n",
    "                    \"Well\",     \n",
    "                    \"WTD\"    ]\n",
    "            ,na_values={'-9999.0','NaN'} \n",
    "            \n",
    "    )"
   ]
  },
  {
   "cell_type": "code",
   "execution_count": 4,
   "id": "4e49c77b",
   "metadata": {},
   "outputs": [
    {
     "data": {
      "text/html": [
       "<div>\n",
       "<style scoped>\n",
       "    .dataframe tbody tr th:only-of-type {\n",
       "        vertical-align: middle;\n",
       "    }\n",
       "\n",
       "    .dataframe tbody tr th {\n",
       "        vertical-align: top;\n",
       "    }\n",
       "\n",
       "    .dataframe thead th {\n",
       "        text-align: right;\n",
       "    }\n",
       "</style>\n",
       "<table border=\"1\" class=\"dataframe\">\n",
       "  <thead>\n",
       "    <tr style=\"text-align: right;\">\n",
       "      <th></th>\n",
       "      <th>Date</th>\n",
       "      <th>Doy</th>\n",
       "      <th>Site</th>\n",
       "      <th>Well</th>\n",
       "      <th>WTD</th>\n",
       "    </tr>\n",
       "  </thead>\n",
       "  <tbody>\n",
       "    <tr>\n",
       "      <th>0</th>\n",
       "      <td>6/18/2004</td>\n",
       "      <td>170</td>\n",
       "      <td>Extensive</td>\n",
       "      <td>1</td>\n",
       "      <td>9.0</td>\n",
       "    </tr>\n",
       "    <tr>\n",
       "      <th>1</th>\n",
       "      <td>6/18/2004</td>\n",
       "      <td>170</td>\n",
       "      <td>Extensive</td>\n",
       "      <td>2</td>\n",
       "      <td>17.0</td>\n",
       "    </tr>\n",
       "    <tr>\n",
       "      <th>2</th>\n",
       "      <td>6/18/2004</td>\n",
       "      <td>170</td>\n",
       "      <td>Extensive</td>\n",
       "      <td>3</td>\n",
       "      <td>57.0</td>\n",
       "    </tr>\n",
       "    <tr>\n",
       "      <th>3</th>\n",
       "      <td>6/18/2004</td>\n",
       "      <td>170</td>\n",
       "      <td>Moderate</td>\n",
       "      <td>1</td>\n",
       "      <td>12.0</td>\n",
       "    </tr>\n",
       "    <tr>\n",
       "      <th>4</th>\n",
       "      <td>6/18/2004</td>\n",
       "      <td>170</td>\n",
       "      <td>Moderate</td>\n",
       "      <td>2</td>\n",
       "      <td>17.0</td>\n",
       "    </tr>\n",
       "  </tbody>\n",
       "</table>\n",
       "</div>"
      ],
      "text/plain": [
       "        Date  Doy       Site  Well   WTD\n",
       "0  6/18/2004  170  Extensive     1   9.0\n",
       "1  6/18/2004  170  Extensive     2  17.0\n",
       "2  6/18/2004  170  Extensive     3  57.0\n",
       "3  6/18/2004  170  Moderate      1  12.0\n",
       "4  6/18/2004  170  Moderate      2  17.0"
      ]
     },
     "execution_count": 4,
     "metadata": {},
     "output_type": "execute_result"
    }
   ],
   "source": [
    "dt1.head()"
   ]
  },
  {
   "cell_type": "code",
   "execution_count": 14,
   "id": "1f0ab0ee",
   "metadata": {
    "scrolled": true
   },
   "outputs": [
    {
     "name": "stdout",
     "output_type": "stream",
     "text": [
      "Here is a summary of numerical variables in the data frame dt1\n",
      "\n",
      "               Doy         Well          WTD\n",
      "count  1203.000000  1203.000000  1184.000000\n",
      "mean    202.078138     2.000000    17.506757\n",
      "std      37.247058     0.816836    10.458081\n",
      "min     126.000000     1.000000    -5.000000\n",
      "25%     171.000000     1.000000    10.000000\n",
      "50%     201.000000     2.000000    17.000000\n",
      "75%     235.000000     3.000000    24.000000\n",
      "max     268.000000     3.000000    65.000000\n",
      "--------------------\n",
      "\n",
      "\n"
     ]
    },
    {
     "data": {
      "text/plain": [
       "<AxesSubplot:>"
      ]
     },
     "execution_count": 14,
     "metadata": {},
     "output_type": "execute_result"
    },
    {
     "data": {
      "image/png": "[encoded data removed]",
      "text/plain": [
       "<Figure size 432x288 with 1 Axes>"
      ]
     },
     "metadata": {
      "needs_background": "light"
     },
     "output_type": "display_data"
    }
   ],
   "source": [
    "print(\"Here is a summary of numerical variables in the data frame dt1\\n\")\n",
    "print(dt1.describe())\n",
    "print(\"--------------------\\n\\n\")                \n",
    "\n",
    "dt1.WTD.plot()"
   ]
  },
  {
   "cell_type": "code",
   "execution_count": 15,
   "id": "58dff861",
   "metadata": {
    "scrolled": true
   },
   "outputs": [],
   "source": [
    "#Water Table Depth file 2014\n",
    "infile2  =\"https://www.lter.uaf.edu/php/download_data.php?f=/data_files/ascii/files/564_Gradient_WTD_2014.csv\"\n",
    "dt2 =pd.read_csv(infile2 \n",
    "          ,skiprows=1\n",
    "            ,sep=\",\"  \n",
    "           , names=[\n",
    "                    \"Date\",     \n",
    "                    \"Doy\",     \n",
    "                    \"Site\",     \n",
    "                    \"Well\",     \n",
    "                    \"WTD\"    ]\n",
    "            ,na_values={'-9999.0','NaN'} \n",
    "            \n",
    "    )"
   ]
  },
  {
   "cell_type": "code",
   "execution_count": 68,
   "id": "5f56d5fb",
   "metadata": {
    "scrolled": true
   },
   "outputs": [
    {
     "data": {
      "text/html": [
       "<div>\n",
       "<style scoped>\n",
       "    .dataframe tbody tr th:only-of-type {\n",
       "        vertical-align: middle;\n",
       "    }\n",
       "\n",
       "    .dataframe tbody tr th {\n",
       "        vertical-align: top;\n",
       "    }\n",
       "\n",
       "    .dataframe thead th {\n",
       "        text-align: right;\n",
       "    }\n",
       "</style>\n",
       "<table border=\"1\" class=\"dataframe\">\n",
       "  <thead>\n",
       "    <tr style=\"text-align: right;\">\n",
       "      <th></th>\n",
       "      <th>Date</th>\n",
       "      <th>Doy</th>\n",
       "      <th>Site</th>\n",
       "      <th>Well</th>\n",
       "      <th>WTD</th>\n",
       "    </tr>\n",
       "  </thead>\n",
       "  <tbody>\n",
       "    <tr>\n",
       "      <th>0</th>\n",
       "      <td>5/30/2014</td>\n",
       "      <td>150</td>\n",
       "      <td>Extensive</td>\n",
       "      <td>1</td>\n",
       "      <td>NaN</td>\n",
       "    </tr>\n",
       "    <tr>\n",
       "      <th>1</th>\n",
       "      <td>5/30/2014</td>\n",
       "      <td>150</td>\n",
       "      <td>Extensive</td>\n",
       "      <td>2</td>\n",
       "      <td>NaN</td>\n",
       "    </tr>\n",
       "    <tr>\n",
       "      <th>2</th>\n",
       "      <td>5/30/2014</td>\n",
       "      <td>150</td>\n",
       "      <td>Extensive</td>\n",
       "      <td>3</td>\n",
       "      <td>NaN</td>\n",
       "    </tr>\n",
       "    <tr>\n",
       "      <th>3</th>\n",
       "      <td>5/30/2014</td>\n",
       "      <td>150</td>\n",
       "      <td>Minimal</td>\n",
       "      <td>1</td>\n",
       "      <td>15.0</td>\n",
       "    </tr>\n",
       "    <tr>\n",
       "      <th>4</th>\n",
       "      <td>5/30/2014</td>\n",
       "      <td>150</td>\n",
       "      <td>Minimal</td>\n",
       "      <td>2</td>\n",
       "      <td>16.5</td>\n",
       "    </tr>\n",
       "  </tbody>\n",
       "</table>\n",
       "</div>"
      ],
      "text/plain": [
       "        Date  Doy       Site  Well   WTD\n",
       "0  5/30/2014  150  Extensive     1   NaN\n",
       "1  5/30/2014  150  Extensive     2   NaN\n",
       "2  5/30/2014  150  Extensive     3   NaN\n",
       "3  5/30/2014  150    Minimal     1  15.0\n",
       "4  5/30/2014  150    Minimal     2  16.5"
      ]
     },
     "execution_count": 68,
     "metadata": {},
     "output_type": "execute_result"
    }
   ],
   "source": [
    "dt2.head()"
   ]
  },
  {
   "cell_type": "code",
   "execution_count": 17,
   "id": "e1d72f73",
   "metadata": {
    "scrolled": true
   },
   "outputs": [
    {
     "name": "stdout",
     "output_type": "stream",
     "text": [
      "Here is a summary of numerical variables in the data frame dt1\n",
      "\n",
      "              Doy       Well        WTD\n",
      "count   81.000000  81.000000  72.000000\n",
      "mean   205.000000   2.000000  10.444444\n",
      "std     35.902994   0.821584   7.696513\n",
      "min    150.000000   1.000000 -12.000000\n",
      "25%    177.000000   1.000000   4.500000\n",
      "50%    205.000000   2.000000  12.000000\n",
      "75%    233.000000   3.000000  15.500000\n",
      "max    261.000000   3.000000  28.000000\n",
      "--------------------\n",
      "\n",
      "\n"
     ]
    },
    {
     "data": {
      "text/plain": [
       "<AxesSubplot:>"
      ]
     },
     "execution_count": 17,
     "metadata": {},
     "output_type": "execute_result"
    },
    {
     "data": {
      "image/png": "[encoded data removed]",
      "text/plain": [
       "<Figure size 432x288 with 1 Axes>"
      ]
     },
     "metadata": {
      "needs_background": "light"
     },
     "output_type": "display_data"
    }
   ],
   "source": [
    "print(\"Here is a summary of numerical variables in the data frame dt1\\n\")\n",
    "print(dt2.describe())\n",
    "print(\"--------------------\\n\\n\")                \n",
    "\n",
    "dt2.WTD.plot()"
   ]
  },
  {
   "cell_type": "code",
   "execution_count": 29,
   "id": "3da52881",
   "metadata": {},
   "outputs": [],
   "source": [
    "#Water Table Depth file 2015\n",
    "infile3=\"https://www.lter.uaf.edu/php/download_data.php?f=/data_files/ascii/files/564_Gradient_WTD_2015.csv\"\n",
    "dt3 =pd.read_csv(infile3\n",
    "          ,skiprows=1\n",
    "            ,sep=\",\"\n",
    "           , names=[\n",
    "                    \"Date\",     \n",
    "                    \"Doy\",     \n",
    "                    \"Site\",     \n",
    "                    \"Well\",     \n",
    "                    \"WTD\"    ]\n",
    "            ,na_values={'-9999.0','NaN'} \n",
    "            \n",
    "    )"
   ]
  },
  {
   "cell_type": "code",
   "execution_count": 30,
   "id": "8fe1f086",
   "metadata": {},
   "outputs": [
    {
     "data": {
      "text/html": [
       "<div>\n",
       "<style scoped>\n",
       "    .dataframe tbody tr th:only-of-type {\n",
       "        vertical-align: middle;\n",
       "    }\n",
       "\n",
       "    .dataframe tbody tr th {\n",
       "        vertical-align: top;\n",
       "    }\n",
       "\n",
       "    .dataframe thead th {\n",
       "        text-align: right;\n",
       "    }\n",
       "</style>\n",
       "<table border=\"1\" class=\"dataframe\">\n",
       "  <thead>\n",
       "    <tr style=\"text-align: right;\">\n",
       "      <th></th>\n",
       "      <th>Date</th>\n",
       "      <th>Doy</th>\n",
       "      <th>Site</th>\n",
       "      <th>Well</th>\n",
       "      <th>WTD</th>\n",
       "    </tr>\n",
       "  </thead>\n",
       "  <tbody>\n",
       "    <tr>\n",
       "      <th>0</th>\n",
       "      <td>6/23/2015</td>\n",
       "      <td>174</td>\n",
       "      <td>Extensive</td>\n",
       "      <td>1</td>\n",
       "      <td>19.5</td>\n",
       "    </tr>\n",
       "    <tr>\n",
       "      <th>1</th>\n",
       "      <td>6/23/2015</td>\n",
       "      <td>174</td>\n",
       "      <td>Extensive</td>\n",
       "      <td>2</td>\n",
       "      <td>15.5</td>\n",
       "    </tr>\n",
       "    <tr>\n",
       "      <th>2</th>\n",
       "      <td>6/23/2015</td>\n",
       "      <td>174</td>\n",
       "      <td>Extensive</td>\n",
       "      <td>3</td>\n",
       "      <td>11.5</td>\n",
       "    </tr>\n",
       "    <tr>\n",
       "      <th>3</th>\n",
       "      <td>6/23/2015</td>\n",
       "      <td>174</td>\n",
       "      <td>Moderate</td>\n",
       "      <td>1</td>\n",
       "      <td>16.0</td>\n",
       "    </tr>\n",
       "    <tr>\n",
       "      <th>4</th>\n",
       "      <td>6/23/2015</td>\n",
       "      <td>174</td>\n",
       "      <td>Moderate</td>\n",
       "      <td>2</td>\n",
       "      <td>8.0</td>\n",
       "    </tr>\n",
       "  </tbody>\n",
       "</table>\n",
       "</div>"
      ],
      "text/plain": [
       "        Date  Doy       Site  Well   WTD\n",
       "0  6/23/2015  174  Extensive     1  19.5\n",
       "1  6/23/2015  174  Extensive     2  15.5\n",
       "2  6/23/2015  174  Extensive     3  11.5\n",
       "3  6/23/2015  174   Moderate     1  16.0\n",
       "4  6/23/2015  174   Moderate     2   8.0"
      ]
     },
     "execution_count": 30,
     "metadata": {},
     "output_type": "execute_result"
    }
   ],
   "source": [
    "dt3.head()"
   ]
  },
  {
   "cell_type": "code",
   "execution_count": 20,
   "id": "b7b25040",
   "metadata": {},
   "outputs": [
    {
     "name": "stdout",
     "output_type": "stream",
     "text": [
      "Here is a summary of numerical variables in the data frame dt1\n",
      "\n",
      "              Doy       Well        WTD\n",
      "count   63.000000  63.000000  63.000000\n",
      "mean   216.571429   2.000000  11.144444\n",
      "std     28.658002   0.823055   7.187013\n",
      "min    174.000000   1.000000  -6.000000\n",
      "25%    188.000000   1.000000   7.500000\n",
      "50%    217.000000   2.000000  11.500000\n",
      "75%    245.000000   3.000000  16.000000\n",
      "max    259.000000   3.000000  26.000000\n",
      "--------------------\n",
      "\n",
      "\n"
     ]
    },
    {
     "data": {
      "text/plain": [
       "<AxesSubplot:>"
      ]
     },
     "execution_count": 20,
     "metadata": {},
     "output_type": "execute_result"
    },
    {
     "data": {
      "image/png": "[encoded data removed]",
      "text/plain": [
       "<Figure size 432x288 with 1 Axes>"
      ]
     },
     "metadata": {
      "needs_background": "light"
     },
     "output_type": "display_data"
    }
   ],
   "source": [
    "print(\"Here is a summary of numerical variables in the data frame dt1\\n\")\n",
    "print(dt3.describe())\n",
    "print(\"--------------------\\n\\n\")                \n",
    "\n",
    "dt3.WTD.plot()"
   ]
  },
  {
   "cell_type": "code",
   "execution_count": 27,
   "id": "101e37d5",
   "metadata": {},
   "outputs": [],
   "source": [
    "#Water Table Depth file 2016\n",
    "infile4  =\"https://www.lter.uaf.edu/php/download_data.php?f=/data_files/ascii/files/564_Gradient_WTD_2016.csv\"\n",
    "dt4 =pd.read_csv(infile4\n",
    "          ,skiprows=1\n",
    "            ,sep=\",\"\n",
    "            ,parse_dates=True     \n",
    "           , names=[\n",
    "                    \"Date\",     \n",
    "                    \"Doy\",     \n",
    "                    \"Site\",     \n",
    "                    \"Well\",     \n",
    "                    \"WTD\"    ]\n",
    "            ,na_values={'-9999.0','NaN'} \n",
    "                 \n",
    "            \n",
    "    )\n"
   ]
  },
  {
   "cell_type": "code",
   "execution_count": 28,
   "id": "57ee4e2d",
   "metadata": {},
   "outputs": [
    {
     "data": {
      "text/html": [
       "<div>\n",
       "<style scoped>\n",
       "    .dataframe tbody tr th:only-of-type {\n",
       "        vertical-align: middle;\n",
       "    }\n",
       "\n",
       "    .dataframe tbody tr th {\n",
       "        vertical-align: top;\n",
       "    }\n",
       "\n",
       "    .dataframe thead th {\n",
       "        text-align: right;\n",
       "    }\n",
       "</style>\n",
       "<table border=\"1\" class=\"dataframe\">\n",
       "  <thead>\n",
       "    <tr style=\"text-align: right;\">\n",
       "      <th></th>\n",
       "      <th>Date</th>\n",
       "      <th>Doy</th>\n",
       "      <th>Site</th>\n",
       "      <th>Well</th>\n",
       "      <th>WTD</th>\n",
       "    </tr>\n",
       "  </thead>\n",
       "  <tbody>\n",
       "    <tr>\n",
       "      <th>0</th>\n",
       "      <td>2016-06-07</td>\n",
       "      <td>159</td>\n",
       "      <td>Extensive</td>\n",
       "      <td>1</td>\n",
       "      <td>17.5</td>\n",
       "    </tr>\n",
       "    <tr>\n",
       "      <th>1</th>\n",
       "      <td>2016-06-07</td>\n",
       "      <td>159</td>\n",
       "      <td>Extensive</td>\n",
       "      <td>2</td>\n",
       "      <td>7.0</td>\n",
       "    </tr>\n",
       "    <tr>\n",
       "      <th>2</th>\n",
       "      <td>2016-06-07</td>\n",
       "      <td>159</td>\n",
       "      <td>Extensive</td>\n",
       "      <td>3</td>\n",
       "      <td>7.0</td>\n",
       "    </tr>\n",
       "    <tr>\n",
       "      <th>3</th>\n",
       "      <td>2016-06-07</td>\n",
       "      <td>159</td>\n",
       "      <td>Moderate</td>\n",
       "      <td>1</td>\n",
       "      <td>11.0</td>\n",
       "    </tr>\n",
       "    <tr>\n",
       "      <th>4</th>\n",
       "      <td>2016-06-07</td>\n",
       "      <td>159</td>\n",
       "      <td>Moderate</td>\n",
       "      <td>2</td>\n",
       "      <td>8.5</td>\n",
       "    </tr>\n",
       "  </tbody>\n",
       "</table>\n",
       "</div>"
      ],
      "text/plain": [
       "         Date  Doy       Site  Well   WTD\n",
       "0  2016-06-07  159  Extensive     1  17.5\n",
       "1  2016-06-07  159  Extensive     2   7.0\n",
       "2  2016-06-07  159  Extensive     3   7.0\n",
       "3  2016-06-07  159   Moderate     1  11.0\n",
       "4  2016-06-07  159   Moderate     2   8.5"
      ]
     },
     "execution_count": 28,
     "metadata": {},
     "output_type": "execute_result"
    }
   ],
   "source": [
    "dt4.head()"
   ]
  },
  {
   "cell_type": "code",
   "execution_count": 23,
   "id": "3136453a",
   "metadata": {},
   "outputs": [
    {
     "name": "stdout",
     "output_type": "stream",
     "text": [
      "Here is a summary of numerical variables in the data frame dt1\n",
      "\n",
      "              Doy       Well        WTD\n",
      "count   72.000000  72.000000  70.000000\n",
      "mean   211.750000   2.000000  10.128571\n",
      "std     37.543496   0.822226   7.157992\n",
      "min    159.000000   1.000000  -6.000000\n",
      "25%    183.500000   1.000000   6.500000\n",
      "50%    208.000000   2.000000   9.000000\n",
      "75%    236.000000   3.000000  15.375000\n",
      "max    273.000000   3.000000  29.500000\n",
      "--------------------\n",
      "\n",
      "\n"
     ]
    },
    {
     "data": {
      "text/plain": [
       "<AxesSubplot:>"
      ]
     },
     "execution_count": 23,
     "metadata": {},
     "output_type": "execute_result"
    },
    {
     "data": {
      "image/png": "[encoded data removed]",
      "text/plain": [
       "<Figure size 432x288 with 1 Axes>"
      ]
     },
     "metadata": {
      "needs_background": "light"
     },
     "output_type": "display_data"
    }
   ],
   "source": [
    "print(\"Here is a summary of numerical variables in the data frame dt1\\n\")\n",
    "print(dt4.describe())\n",
    "print(\"--------------------\\n\\n\")                \n",
    "\n",
    "dt4.WTD.plot()"
   ]
  },
  {
   "cell_type": "code",
   "execution_count": 31,
   "id": "a277f582",
   "metadata": {},
   "outputs": [],
   "source": [
    "#Water Table Depth file 2017\n",
    "infile5  =\"https://www.lter.uaf.edu/php/download_data.php?f=/data_files/ascii/files/564_Gradient_WTD_2017.csv\"\n",
    "dt5 =pd.read_csv(infile5\n",
    "          ,skiprows=1\n",
    "            ,sep=\",\"  \n",
    "           , names=[\n",
    "                    \"Date\",     \n",
    "                    \"Doy\",     \n",
    "                    \"Site\",     \n",
    "                    \"Well\",     \n",
    "                    \"WTD\"    ]\n",
    "            ,na_values={'-9999.0','NaN'} \n",
    "            \n",
    "    )"
   ]
  },
  {
   "cell_type": "code",
   "execution_count": 32,
   "id": "4e2e74ba",
   "metadata": {},
   "outputs": [
    {
     "data": {
      "text/html": [
       "<div>\n",
       "<style scoped>\n",
       "    .dataframe tbody tr th:only-of-type {\n",
       "        vertical-align: middle;\n",
       "    }\n",
       "\n",
       "    .dataframe tbody tr th {\n",
       "        vertical-align: top;\n",
       "    }\n",
       "\n",
       "    .dataframe thead th {\n",
       "        text-align: right;\n",
       "    }\n",
       "</style>\n",
       "<table border=\"1\" class=\"dataframe\">\n",
       "  <thead>\n",
       "    <tr style=\"text-align: right;\">\n",
       "      <th></th>\n",
       "      <th>Date</th>\n",
       "      <th>Doy</th>\n",
       "      <th>Site</th>\n",
       "      <th>Well</th>\n",
       "      <th>WTD</th>\n",
       "    </tr>\n",
       "  </thead>\n",
       "  <tbody>\n",
       "    <tr>\n",
       "      <th>0</th>\n",
       "      <td>2017/07/04</td>\n",
       "      <td>185</td>\n",
       "      <td>Extensive</td>\n",
       "      <td>1</td>\n",
       "      <td>37.5</td>\n",
       "    </tr>\n",
       "    <tr>\n",
       "      <th>1</th>\n",
       "      <td>2017/07/04</td>\n",
       "      <td>185</td>\n",
       "      <td>Extensive</td>\n",
       "      <td>2</td>\n",
       "      <td>24.5</td>\n",
       "    </tr>\n",
       "    <tr>\n",
       "      <th>2</th>\n",
       "      <td>2017/07/04</td>\n",
       "      <td>185</td>\n",
       "      <td>Extensive</td>\n",
       "      <td>3</td>\n",
       "      <td>8.0</td>\n",
       "    </tr>\n",
       "    <tr>\n",
       "      <th>3</th>\n",
       "      <td>2017/07/04</td>\n",
       "      <td>185</td>\n",
       "      <td>Moderate</td>\n",
       "      <td>1</td>\n",
       "      <td>22.5</td>\n",
       "    </tr>\n",
       "    <tr>\n",
       "      <th>4</th>\n",
       "      <td>2017/07/04</td>\n",
       "      <td>185</td>\n",
       "      <td>Moderate</td>\n",
       "      <td>2</td>\n",
       "      <td>20.5</td>\n",
       "    </tr>\n",
       "  </tbody>\n",
       "</table>\n",
       "</div>"
      ],
      "text/plain": [
       "         Date  Doy       Site  Well   WTD\n",
       "0  2017/07/04  185  Extensive     1  37.5\n",
       "1  2017/07/04  185  Extensive     2  24.5\n",
       "2  2017/07/04  185  Extensive     3   8.0\n",
       "3  2017/07/04  185   Moderate     1  22.5\n",
       "4  2017/07/04  185   Moderate     2  20.5"
      ]
     },
     "execution_count": 32,
     "metadata": {},
     "output_type": "execute_result"
    }
   ],
   "source": [
    "dt5.head()"
   ]
  },
  {
   "cell_type": "code",
   "execution_count": 33,
   "id": "93f2076d",
   "metadata": {},
   "outputs": [
    {
     "name": "stdout",
     "output_type": "stream",
     "text": [
      "Here is a summary of numerical variables in the data frame dt1\n",
      "\n",
      "              Doy        Well         WTD\n",
      "count  108.000000  108.000000  104.000000\n",
      "mean   229.000000    2.000000   14.405769\n",
      "std     26.954791    0.820303    7.168510\n",
      "min    185.000000    1.000000    0.000000\n",
      "25%    204.500000    1.000000    9.875000\n",
      "50%    234.500000    2.000000   14.250000\n",
      "75%    249.500000    3.000000   19.125000\n",
      "max    268.000000    3.000000   37.500000\n",
      "--------------------\n",
      "\n",
      "\n"
     ]
    },
    {
     "data": {
      "text/plain": [
       "<AxesSubplot:>"
      ]
     },
     "execution_count": 33,
     "metadata": {},
     "output_type": "execute_result"
    },
    {
     "data": {
      "image/png": "[encoded data removed]",
      "text/plain": [
       "<Figure size 432x288 with 1 Axes>"
      ]
     },
     "metadata": {
      "needs_background": "light"
     },
     "output_type": "display_data"
    }
   ],
   "source": [
    "print(\"Here is a summary of numerical variables in the data frame dt1\\n\")\n",
    "print(dt5.describe())\n",
    "print(\"--------------------\\n\\n\")                \n",
    "\n",
    "dt5.WTD.plot()"
   ]
  },
  {
   "cell_type": "code",
   "execution_count": 34,
   "id": "c86f75fb",
   "metadata": {},
   "outputs": [],
   "source": [
    "#Water Table Depth file 2018\n",
    "infile6  =\"https://www.lter.uaf.edu/php/download_data.php?f=/data_files/ascii/files/564_Gradient_WTD_2018.csv\"\n",
    "dt6 =pd.read_csv(infile6\n",
    "          ,skiprows=1\n",
    "            ,sep=\",\"  \n",
    "           , names=[\n",
    "                    \"Date\",     \n",
    "                    \"Doy\",     \n",
    "                    \"Site\",     \n",
    "                    \"Well\",     \n",
    "                    \"WTD\"    ]\n",
    "            ,na_values={'-9999.0','NaN'} \n",
    "            \n",
    "    )"
   ]
  },
  {
   "cell_type": "code",
   "execution_count": 35,
   "id": "db7aeaf6",
   "metadata": {},
   "outputs": [
    {
     "data": {
      "text/html": [
       "<div>\n",
       "<style scoped>\n",
       "    .dataframe tbody tr th:only-of-type {\n",
       "        vertical-align: middle;\n",
       "    }\n",
       "\n",
       "    .dataframe tbody tr th {\n",
       "        vertical-align: top;\n",
       "    }\n",
       "\n",
       "    .dataframe thead th {\n",
       "        text-align: right;\n",
       "    }\n",
       "</style>\n",
       "<table border=\"1\" class=\"dataframe\">\n",
       "  <thead>\n",
       "    <tr style=\"text-align: right;\">\n",
       "      <th></th>\n",
       "      <th>Date</th>\n",
       "      <th>Doy</th>\n",
       "      <th>Site</th>\n",
       "      <th>Well</th>\n",
       "      <th>WTD</th>\n",
       "    </tr>\n",
       "  </thead>\n",
       "  <tbody>\n",
       "    <tr>\n",
       "      <th>0</th>\n",
       "      <td>2018/06/12</td>\n",
       "      <td>163</td>\n",
       "      <td>Extensive</td>\n",
       "      <td>1</td>\n",
       "      <td>13.0</td>\n",
       "    </tr>\n",
       "    <tr>\n",
       "      <th>1</th>\n",
       "      <td>2018/06/12</td>\n",
       "      <td>163</td>\n",
       "      <td>Extensive</td>\n",
       "      <td>2</td>\n",
       "      <td>10.0</td>\n",
       "    </tr>\n",
       "    <tr>\n",
       "      <th>2</th>\n",
       "      <td>2018/06/12</td>\n",
       "      <td>163</td>\n",
       "      <td>Extensive</td>\n",
       "      <td>3</td>\n",
       "      <td>5.0</td>\n",
       "    </tr>\n",
       "    <tr>\n",
       "      <th>3</th>\n",
       "      <td>2018/06/12</td>\n",
       "      <td>163</td>\n",
       "      <td>Moderate</td>\n",
       "      <td>1</td>\n",
       "      <td>9.0</td>\n",
       "    </tr>\n",
       "    <tr>\n",
       "      <th>4</th>\n",
       "      <td>2018/06/12</td>\n",
       "      <td>163</td>\n",
       "      <td>Moderate</td>\n",
       "      <td>2</td>\n",
       "      <td>6.0</td>\n",
       "    </tr>\n",
       "  </tbody>\n",
       "</table>\n",
       "</div>"
      ],
      "text/plain": [
       "         Date  Doy       Site  Well   WTD\n",
       "0  2018/06/12  163  Extensive     1  13.0\n",
       "1  2018/06/12  163  Extensive     2  10.0\n",
       "2  2018/06/12  163  Extensive     3   5.0\n",
       "3  2018/06/12  163   Moderate     1   9.0\n",
       "4  2018/06/12  163   Moderate     2   6.0"
      ]
     },
     "execution_count": 35,
     "metadata": {},
     "output_type": "execute_result"
    }
   ],
   "source": [
    "dt6.head()"
   ]
  },
  {
   "cell_type": "code",
   "execution_count": 36,
   "id": "fb93c78a",
   "metadata": {},
   "outputs": [
    {
     "name": "stdout",
     "output_type": "stream",
     "text": [
      "Here is a summary of numerical variables in the data frame dt1\n",
      "\n",
      "              Doy       Well        WTD\n",
      "count   81.000000  81.000000  81.000000\n",
      "mean   218.666667   2.000000  16.638272\n",
      "std     35.862236   0.821584   9.471003\n",
      "min    163.000000   1.000000  -4.000000\n",
      "25%    191.000000   1.000000   9.500000\n",
      "50%    219.000000   2.000000  17.000000\n",
      "75%    247.000000   3.000000  23.500000\n",
      "max    272.000000   3.000000  42.000000\n",
      "--------------------\n",
      "\n",
      "\n"
     ]
    },
    {
     "data": {
      "text/plain": [
       "<AxesSubplot:>"
      ]
     },
     "execution_count": 36,
     "metadata": {},
     "output_type": "execute_result"
    },
    {
     "data": {
      "image/png": "[encoded data removed]",
      "text/plain": [
       "<Figure size 432x288 with 1 Axes>"
      ]
     },
     "metadata": {
      "needs_background": "light"
     },
     "output_type": "display_data"
    }
   ],
   "source": [
    "print(\"Here is a summary of numerical variables in the data frame dt1\\n\")\n",
    "print(dt6.describe())\n",
    "print(\"--------------------\\n\\n\")                \n",
    "\n",
    "dt6.WTD.plot()"
   ]
  },
  {
   "cell_type": "code",
   "execution_count": 37,
   "id": "caae1cb2",
   "metadata": {},
   "outputs": [],
   "source": [
    "#Water Table Depth file 2019\n",
    "infile7  =\"https://www.lter.uaf.edu/php/download_data.php?f=/data_files/ascii/files/564_Gradient_WTD_2019.csv\"\n",
    "dt7 =pd.read_csv(infile7 \n",
    "          ,skiprows=1\n",
    "            ,sep=\",\"  \n",
    "           , names=[\n",
    "                    \"Date\",     \n",
    "                    \"Doy\",     \n",
    "                    \"Site\",     \n",
    "                    \"Well\",     \n",
    "                    \"WTD\"    ]\n",
    "            ,na_values={'-9999.0','NaN'} \n",
    "            \n",
    "    )"
   ]
  },
  {
   "cell_type": "code",
   "execution_count": 52,
   "id": "8e47229c",
   "metadata": {},
   "outputs": [
    {
     "data": {
      "text/html": [
       "<div>\n",
       "<style scoped>\n",
       "    .dataframe tbody tr th:only-of-type {\n",
       "        vertical-align: middle;\n",
       "    }\n",
       "\n",
       "    .dataframe tbody tr th {\n",
       "        vertical-align: top;\n",
       "    }\n",
       "\n",
       "    .dataframe thead th {\n",
       "        text-align: right;\n",
       "    }\n",
       "</style>\n",
       "<table border=\"1\" class=\"dataframe\">\n",
       "  <thead>\n",
       "    <tr style=\"text-align: right;\">\n",
       "      <th></th>\n",
       "      <th>Date</th>\n",
       "      <th>Doy</th>\n",
       "      <th>Site</th>\n",
       "      <th>Well</th>\n",
       "      <th>WTD</th>\n",
       "    </tr>\n",
       "  </thead>\n",
       "  <tbody>\n",
       "    <tr>\n",
       "      <th>0</th>\n",
       "      <td>2019/06/04</td>\n",
       "      <td>155</td>\n",
       "      <td>Extensive</td>\n",
       "      <td>1_2</td>\n",
       "      <td>16.5</td>\n",
       "    </tr>\n",
       "    <tr>\n",
       "      <th>1</th>\n",
       "      <td>2019/06/04</td>\n",
       "      <td>155</td>\n",
       "      <td>Extensive</td>\n",
       "      <td>3_4</td>\n",
       "      <td>9.0</td>\n",
       "    </tr>\n",
       "    <tr>\n",
       "      <th>2</th>\n",
       "      <td>2019/06/04</td>\n",
       "      <td>155</td>\n",
       "      <td>Extensive</td>\n",
       "      <td>5_6</td>\n",
       "      <td>22.5</td>\n",
       "    </tr>\n",
       "    <tr>\n",
       "      <th>3</th>\n",
       "      <td>2019/06/04</td>\n",
       "      <td>155</td>\n",
       "      <td>Extensive</td>\n",
       "      <td>7_8</td>\n",
       "      <td>10.5</td>\n",
       "    </tr>\n",
       "    <tr>\n",
       "      <th>4</th>\n",
       "      <td>2019/06/04</td>\n",
       "      <td>155</td>\n",
       "      <td>Extensive</td>\n",
       "      <td>9_10</td>\n",
       "      <td>18.0</td>\n",
       "    </tr>\n",
       "    <tr>\n",
       "      <th>...</th>\n",
       "      <td>...</td>\n",
       "      <td>...</td>\n",
       "      <td>...</td>\n",
       "      <td>...</td>\n",
       "      <td>...</td>\n",
       "    </tr>\n",
       "    <tr>\n",
       "      <th>346</th>\n",
       "      <td>2019/09/17</td>\n",
       "      <td>260</td>\n",
       "      <td>Minimal</td>\n",
       "      <td>33_34</td>\n",
       "      <td>5.5</td>\n",
       "    </tr>\n",
       "    <tr>\n",
       "      <th>347</th>\n",
       "      <td>2019/09/17</td>\n",
       "      <td>260</td>\n",
       "      <td>Minimal</td>\n",
       "      <td>35_36</td>\n",
       "      <td>4.5</td>\n",
       "    </tr>\n",
       "    <tr>\n",
       "      <th>348</th>\n",
       "      <td>2019/09/17</td>\n",
       "      <td>260</td>\n",
       "      <td>Minimal</td>\n",
       "      <td>1</td>\n",
       "      <td>5.0</td>\n",
       "    </tr>\n",
       "    <tr>\n",
       "      <th>349</th>\n",
       "      <td>2019/09/17</td>\n",
       "      <td>260</td>\n",
       "      <td>Minimal</td>\n",
       "      <td>2</td>\n",
       "      <td>17.5</td>\n",
       "    </tr>\n",
       "    <tr>\n",
       "      <th>350</th>\n",
       "      <td>2019/09/17</td>\n",
       "      <td>260</td>\n",
       "      <td>Minimal</td>\n",
       "      <td>3</td>\n",
       "      <td>3.0</td>\n",
       "    </tr>\n",
       "  </tbody>\n",
       "</table>\n",
       "<p>351 rows × 5 columns</p>\n",
       "</div>"
      ],
      "text/plain": [
       "           Date  Doy       Site   Well   WTD\n",
       "0    2019/06/04  155  Extensive    1_2  16.5\n",
       "1    2019/06/04  155  Extensive    3_4   9.0\n",
       "2    2019/06/04  155  Extensive    5_6  22.5\n",
       "3    2019/06/04  155  Extensive    7_8  10.5\n",
       "4    2019/06/04  155  Extensive   9_10  18.0\n",
       "..          ...  ...        ...    ...   ...\n",
       "346  2019/09/17  260    Minimal  33_34   5.5\n",
       "347  2019/09/17  260    Minimal  35_36   4.5\n",
       "348  2019/09/17  260    Minimal      1   5.0\n",
       "349  2019/09/17  260    Minimal      2  17.5\n",
       "350  2019/09/17  260    Minimal      3   3.0\n",
       "\n",
       "[351 rows x 5 columns]"
      ]
     },
     "execution_count": 52,
     "metadata": {},
     "output_type": "execute_result"
    }
   ],
   "source": [
    "dt7"
   ]
  },
  {
   "cell_type": "code",
   "execution_count": 39,
   "id": "c5c572fe",
   "metadata": {},
   "outputs": [
    {
     "name": "stdout",
     "output_type": "stream",
     "text": [
      "Here is a summary of numerical variables in the data frame dt1\n",
      "\n",
      "              Doy         WTD\n",
      "count  351.000000  350.000000\n",
      "mean   206.153846   10.522857\n",
      "std     32.532695    8.131850\n",
      "min    155.000000  -11.500000\n",
      "25%    183.000000    4.500000\n",
      "50%    203.000000   10.000000\n",
      "75%    225.000000   16.000000\n",
      "max    260.000000   36.000000\n",
      "--------------------\n",
      "\n",
      "\n"
     ]
    },
    {
     "data": {
      "text/plain": [
       "<AxesSubplot:>"
      ]
     },
     "execution_count": 39,
     "metadata": {},
     "output_type": "execute_result"
    },
    {
     "data": {
      "image/png": "[encoded data removed]",
      "text/plain": [
       "<Figure size 432x288 with 1 Axes>"
      ]
     },
     "metadata": {
      "needs_background": "light"
     },
     "output_type": "display_data"
    }
   ],
   "source": [
    "print(\"Here is a summary of numerical variables in the data frame dt1\\n\")\n",
    "print(dt7.describe())\n",
    "print(\"--------------------\\n\\n\")                \n",
    "\n",
    "dt7.WTD.plot()"
   ]
  },
  {
   "cell_type": "code",
   "execution_count": 40,
   "id": "bf5d5a9b",
   "metadata": {},
   "outputs": [],
   "source": [
    "#Water Table Depth file 2020\n",
    "infile8  =\"https://www.lter.uaf.edu/php/download_data.php?f=/data_files/ascii/files/564_Gradient_WTD_2020.csv\"\n",
    "dt8 =pd.read_csv(infile8\n",
    "          ,skiprows=1\n",
    "            ,sep=\",\"  \n",
    "           , names=[\n",
    "                    \"Date\",     \n",
    "                    \"Doy\",     \n",
    "                    \"Site\",     \n",
    "                    \"Well\",     \n",
    "                    \"WTD\"    ]\n",
    "            ,na_values={'-9999.0','NaN'} \n",
    "            \n",
    "    )"
   ]
  },
  {
   "cell_type": "code",
   "execution_count": 53,
   "id": "bbd3d5c6",
   "metadata": {},
   "outputs": [
    {
     "data": {
      "text/html": [
       "<div>\n",
       "<style scoped>\n",
       "    .dataframe tbody tr th:only-of-type {\n",
       "        vertical-align: middle;\n",
       "    }\n",
       "\n",
       "    .dataframe tbody tr th {\n",
       "        vertical-align: top;\n",
       "    }\n",
       "\n",
       "    .dataframe thead th {\n",
       "        text-align: right;\n",
       "    }\n",
       "</style>\n",
       "<table border=\"1\" class=\"dataframe\">\n",
       "  <thead>\n",
       "    <tr style=\"text-align: right;\">\n",
       "      <th></th>\n",
       "      <th>Date</th>\n",
       "      <th>Doy</th>\n",
       "      <th>Site</th>\n",
       "      <th>Well</th>\n",
       "      <th>WTD</th>\n",
       "    </tr>\n",
       "  </thead>\n",
       "  <tbody>\n",
       "    <tr>\n",
       "      <th>0</th>\n",
       "      <td>2020/06/23</td>\n",
       "      <td>175</td>\n",
       "      <td>Extensive</td>\n",
       "      <td>1_2</td>\n",
       "      <td>10.5</td>\n",
       "    </tr>\n",
       "    <tr>\n",
       "      <th>1</th>\n",
       "      <td>2020/06/23</td>\n",
       "      <td>175</td>\n",
       "      <td>Extensive</td>\n",
       "      <td>3_4</td>\n",
       "      <td>3.0</td>\n",
       "    </tr>\n",
       "    <tr>\n",
       "      <th>2</th>\n",
       "      <td>2020/06/23</td>\n",
       "      <td>175</td>\n",
       "      <td>Extensive</td>\n",
       "      <td>5_6</td>\n",
       "      <td>18.0</td>\n",
       "    </tr>\n",
       "    <tr>\n",
       "      <th>3</th>\n",
       "      <td>2020/06/23</td>\n",
       "      <td>175</td>\n",
       "      <td>Extensive</td>\n",
       "      <td>7_8</td>\n",
       "      <td>5.0</td>\n",
       "    </tr>\n",
       "    <tr>\n",
       "      <th>4</th>\n",
       "      <td>2020/06/23</td>\n",
       "      <td>175</td>\n",
       "      <td>Extensive</td>\n",
       "      <td>9_10</td>\n",
       "      <td>11.5</td>\n",
       "    </tr>\n",
       "    <tr>\n",
       "      <th>...</th>\n",
       "      <td>...</td>\n",
       "      <td>...</td>\n",
       "      <td>...</td>\n",
       "      <td>...</td>\n",
       "      <td>...</td>\n",
       "    </tr>\n",
       "    <tr>\n",
       "      <th>394</th>\n",
       "      <td>2020/09/30</td>\n",
       "      <td>274</td>\n",
       "      <td>Minimal</td>\n",
       "      <td>Min 2</td>\n",
       "      <td>17.5</td>\n",
       "    </tr>\n",
       "    <tr>\n",
       "      <th>395</th>\n",
       "      <td>2020/09/30</td>\n",
       "      <td>274</td>\n",
       "      <td>Minimal</td>\n",
       "      <td>Min 3</td>\n",
       "      <td>4.5</td>\n",
       "    </tr>\n",
       "    <tr>\n",
       "      <th>396</th>\n",
       "      <td>2020/09/30</td>\n",
       "      <td>274</td>\n",
       "      <td>Moderate</td>\n",
       "      <td>Mod 1</td>\n",
       "      <td>20.5</td>\n",
       "    </tr>\n",
       "    <tr>\n",
       "      <th>397</th>\n",
       "      <td>2020/09/30</td>\n",
       "      <td>274</td>\n",
       "      <td>Moderate</td>\n",
       "      <td>Mod 2</td>\n",
       "      <td>3.5</td>\n",
       "    </tr>\n",
       "    <tr>\n",
       "      <th>398</th>\n",
       "      <td>2020/09/30</td>\n",
       "      <td>274</td>\n",
       "      <td>Moderate</td>\n",
       "      <td>Mod 3</td>\n",
       "      <td>20.5</td>\n",
       "    </tr>\n",
       "  </tbody>\n",
       "</table>\n",
       "<p>399 rows × 5 columns</p>\n",
       "</div>"
      ],
      "text/plain": [
       "           Date  Doy       Site   Well   WTD\n",
       "0    2020/06/23  175  Extensive    1_2  10.5\n",
       "1    2020/06/23  175  Extensive    3_4   3.0\n",
       "2    2020/06/23  175  Extensive    5_6  18.0\n",
       "3    2020/06/23  175  Extensive    7_8   5.0\n",
       "4    2020/06/23  175  Extensive   9_10  11.5\n",
       "..          ...  ...        ...    ...   ...\n",
       "394  2020/09/30  274    Minimal  Min 2  17.5\n",
       "395  2020/09/30  274    Minimal  Min 3   4.5\n",
       "396  2020/09/30  274   Moderate  Mod 1  20.5\n",
       "397  2020/09/30  274   Moderate  Mod 2   3.5\n",
       "398  2020/09/30  274   Moderate  Mod 3  20.5\n",
       "\n",
       "[399 rows x 5 columns]"
      ]
     },
     "execution_count": 53,
     "metadata": {},
     "output_type": "execute_result"
    }
   ],
   "source": [
    "dt8"
   ]
  },
  {
   "cell_type": "code",
   "execution_count": 42,
   "id": "ea122681",
   "metadata": {},
   "outputs": [
    {
     "name": "stdout",
     "output_type": "stream",
     "text": [
      "Here is a summary of numerical variables in the data frame dt1\n",
      "\n",
      "              Doy         WTD\n",
      "count  399.000000  391.000000\n",
      "mean   224.383459   10.193095\n",
      "std     30.446853    8.872049\n",
      "min    175.000000  -11.500000\n",
      "25%    196.000000    3.500000\n",
      "50%    224.000000    9.500000\n",
      "75%    252.000000   17.000000\n",
      "max    274.000000   37.500000\n",
      "--------------------\n",
      "\n",
      "\n"
     ]
    },
    {
     "data": {
      "text/plain": [
       "<AxesSubplot:>"
      ]
     },
     "execution_count": 42,
     "metadata": {},
     "output_type": "execute_result"
    },
    {
     "data": {
      "image/png": "[encoded data removed]",
      "text/plain": [
       "<Figure size 432x288 with 1 Axes>"
      ]
     },
     "metadata": {
      "needs_background": "light"
     },
     "output_type": "display_data"
    }
   ],
   "source": [
    "print(\"Here is a summary of numerical variables in the data frame dt1\\n\")\n",
    "print(dt8.describe())\n",
    "print(\"--------------------\\n\\n\")                \n",
    "\n",
    "dt8.WTD.plot()"
   ]
  },
  {
   "cell_type": "code",
   "execution_count": 50,
   "id": "3a1d5b81",
   "metadata": {},
   "outputs": [],
   "source": [
    "#Concatenate yearly files into one, standardize Date to 'Datetime' format\n",
    "combinedwtd=pd.concat([dt1,dt2,dt3,dt4,dt5,dt6,dt7,dt8],axis=0)\n",
    "combinedwtd['Date']=pd.to_datetime(combinedwtd['Date'])"
   ]
  },
  {
   "cell_type": "code",
   "execution_count": 60,
   "id": "cb19dffb",
   "metadata": {
    "scrolled": true
   },
   "outputs": [
    {
     "data": {
      "text/html": [
       "<div>\n",
       "<style scoped>\n",
       "    .dataframe tbody tr th:only-of-type {\n",
       "        vertical-align: middle;\n",
       "    }\n",
       "\n",
       "    .dataframe tbody tr th {\n",
       "        vertical-align: top;\n",
       "    }\n",
       "\n",
       "    .dataframe thead th {\n",
       "        text-align: right;\n",
       "    }\n",
       "</style>\n",
       "<table border=\"1\" class=\"dataframe\">\n",
       "  <thead>\n",
       "    <tr style=\"text-align: right;\">\n",
       "      <th></th>\n",
       "      <th>Date</th>\n",
       "      <th>Doy</th>\n",
       "      <th>Site</th>\n",
       "      <th>Well</th>\n",
       "      <th>WTD</th>\n",
       "    </tr>\n",
       "  </thead>\n",
       "  <tbody>\n",
       "    <tr>\n",
       "      <th>0</th>\n",
       "      <td>2004-06-18</td>\n",
       "      <td>170</td>\n",
       "      <td>Extensive</td>\n",
       "      <td>1</td>\n",
       "      <td>9.0</td>\n",
       "    </tr>\n",
       "    <tr>\n",
       "      <th>1</th>\n",
       "      <td>2004-06-18</td>\n",
       "      <td>170</td>\n",
       "      <td>Extensive</td>\n",
       "      <td>2</td>\n",
       "      <td>17.0</td>\n",
       "    </tr>\n",
       "    <tr>\n",
       "      <th>2</th>\n",
       "      <td>2004-06-18</td>\n",
       "      <td>170</td>\n",
       "      <td>Extensive</td>\n",
       "      <td>3</td>\n",
       "      <td>57.0</td>\n",
       "    </tr>\n",
       "    <tr>\n",
       "      <th>3</th>\n",
       "      <td>2004-06-18</td>\n",
       "      <td>170</td>\n",
       "      <td>Moderate</td>\n",
       "      <td>1</td>\n",
       "      <td>12.0</td>\n",
       "    </tr>\n",
       "    <tr>\n",
       "      <th>4</th>\n",
       "      <td>2004-06-18</td>\n",
       "      <td>170</td>\n",
       "      <td>Moderate</td>\n",
       "      <td>2</td>\n",
       "      <td>17.0</td>\n",
       "    </tr>\n",
       "  </tbody>\n",
       "</table>\n",
       "</div>"
      ],
      "text/plain": [
       "        Date  Doy       Site Well   WTD\n",
       "0 2004-06-18  170  Extensive    1   9.0\n",
       "1 2004-06-18  170  Extensive    2  17.0\n",
       "2 2004-06-18  170  Extensive    3  57.0\n",
       "3 2004-06-18  170  Moderate     1  12.0\n",
       "4 2004-06-18  170  Moderate     2  17.0"
      ]
     },
     "execution_count": 60,
     "metadata": {},
     "output_type": "execute_result"
    }
   ],
   "source": [
    "combinedwtd.head()"
   ]
  },
  {
   "cell_type": "code",
   "execution_count": 65,
   "id": "4a7d04d3",
   "metadata": {},
   "outputs": [],
   "source": [
    "combinedwtd.to_csv('EML_Gradient_WTD_2004_2020.csv')"
   ]
  },
  {
   "cell_type": "code",
   "execution_count": null,
   "id": "79b1825d",
   "metadata": {},
   "outputs": [],
   "source": []
  }
 ],
 "metadata": {
  "kernelspec": {
   "display_name": "Python 3",
   "language": "python",
   "name": "python3"
  },
  "language_info": {
   "codemirror_mode": {
    "name": "ipython",
    "version": 3
   },
   "file_extension": ".py",
   "mimetype": "text/x-python",
   "name": "python",
   "nbconvert_exporter": "python",
   "pygments_lexer": "ipython3",
   "version": "3.8.8"
  }
 },
 "nbformat": 4,
 "nbformat_minor": 5
}
